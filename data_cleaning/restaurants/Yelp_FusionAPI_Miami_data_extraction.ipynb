{
 "cells": [
  {
   "cell_type": "code",
   "execution_count": 1,
   "metadata": {},
   "outputs": [],
   "source": [
    "import pandas as pd\n",
    "import requests\n",
    "import json"
   ]
  },
  {
   "cell_type": "code",
   "execution_count": 2,
   "metadata": {
    "scrolled": true
   },
   "outputs": [],
   "source": [
    "API_KEY = '7hlj8jHWV-jS57G2WGJEO0ROpEZAedHNxxd_4JMu1rdOW8ltXVO6Weeo-f_Tmpsm2_p-eG-Bq0wXMHHkerq33ul52MwZGynRQHwphIPSbeZl9BwZ_R-xuGg-Uqm-XHYx'"
   ]
  },
  {
   "cell_type": "code",
   "execution_count": 3,
   "metadata": {},
   "outputs": [],
   "source": [
    "#client_id = 'eCjOBvEIbzFj-ZfiDlf2xA'"
   ]
  },
  {
   "cell_type": "code",
   "execution_count": 4,
   "metadata": {},
   "outputs": [],
   "source": [
    "headers = {'Authorization': 'Bearer %s' % API_KEY}\n",
    "url='https://api.yelp.com/v3/businesses/search'"
   ]
  },
  {
   "cell_type": "code",
   "execution_count": 5,
   "metadata": {},
   "outputs": [],
   "source": [
    "zip_codes_Miami = {33111, 33122, 33126, 33127, 33128, 33133, 33101, 33102, 33106, 33112, 33116, 33124, 33125, 33129, 33130, \n",
    "                   33131, 33132, 33134, 33135, 33136, 33137, 33144, 33138, 33142, 33143, 33145, 33147, 33153, 33146, 33150, \n",
    "                   33151, 33152, 33155, 33156, 33157, 33158, 33161, 33159, 33163, 33164, 33165, 33162, 33166, 33167, 33172, \n",
    "                   33174, 33176, 33178, 33168, 33169, 33170, 33173, 33175, 33177, 33179, 33181, 33182, 33180, 33184, 33185, \n",
    "                   33186, 33187, 33189, 33193, 33194, 33197, 33199, 33231, 33233, 33183, 33188, 33190, 33196, 33206, 33222, \n",
    "                   33234, 33238, 33245, 33247, 33255, 33242, 33243, 33256, 33261, 33265, 33283, 33257, 33266, 33269, 33280, \n",
    "                   33296, 33299 }"
   ]
  },
  {
   "cell_type": "code",
   "execution_count": 6,
   "metadata": {},
   "outputs": [],
   "source": [
    "def get_values(key, list_dicts):\n",
    "    values = []\n",
    "    for dict_ in list_dicts:\n",
    "        try:\n",
    "            values.append(dict_[key])\n",
    "        except:\n",
    "            values.append(None)         \n",
    "    return values"
   ]
  },
  {
   "cell_type": "code",
   "execution_count": 7,
   "metadata": {},
   "outputs": [
    {
     "name": "stdout",
     "output_type": "stream",
     "text": [
      "The status code is 200\n",
      "The status code is 200\n",
      "The status code is 200\n",
      "The status code is 200\n",
      "The status code is 200\n",
      "The status code is 200\n",
      "The status code is 200\n",
      "The status code is 200\n",
      "The status code is 200\n",
      "The status code is 200\n",
      "The status code is 200\n",
      "The status code is 200\n",
      "The status code is 200\n",
      "The status code is 200\n",
      "The status code is 200\n",
      "The status code is 200\n",
      "The status code is 200\n",
      "The status code is 200\n",
      "The status code is 200\n",
      "The status code is 200\n",
      "The status code is 200\n",
      "The status code is 200\n",
      "The status code is 200\n",
      "The status code is 200\n",
      "The status code is 200\n",
      "The status code is 200\n",
      "The status code is 200\n",
      "The status code is 200\n",
      "The status code is 200\n",
      "The status code is 200\n",
      "The status code is 200\n",
      "The status code is 200\n",
      "The status code is 200\n",
      "The status code is 200\n",
      "The status code is 200\n",
      "The status code is 200\n",
      "The status code is 200\n",
      "The status code is 200\n",
      "The status code is 200\n",
      "The status code is 200\n",
      "The status code is 200\n",
      "The status code is 200\n",
      "The status code is 200\n",
      "The status code is 200\n",
      "The status code is 200\n",
      "The status code is 200\n",
      "The status code is 200\n",
      "The status code is 200\n",
      "The status code is 200\n",
      "The status code is 200\n",
      "The status code is 200\n",
      "The status code is 200\n",
      "The status code is 200\n",
      "The status code is 200\n",
      "The status code is 200\n",
      "The status code is 200\n",
      "The status code is 200\n",
      "The status code is 200\n",
      "The status code is 200\n",
      "The status code is 200\n",
      "The status code is 200\n",
      "The status code is 200\n",
      "The status code is 200\n",
      "The status code is 200\n",
      "The status code is 200\n",
      "The status code is 200\n",
      "The status code is 200\n",
      "The status code is 200\n",
      "The status code is 200\n",
      "The status code is 200\n",
      "The status code is 200\n",
      "The status code is 200\n",
      "The status code is 200\n",
      "The status code is 200\n",
      "The status code is 200\n",
      "The status code is 200\n",
      "The status code is 200\n",
      "The status code is 200\n",
      "The status code is 200\n",
      "The status code is 200\n",
      "The status code is 200\n",
      "The status code is 200\n",
      "The status code is 200\n",
      "The status code is 200\n",
      "The status code is 200\n",
      "The status code is 200\n",
      "The status code is 200\n",
      "The status code is 200\n",
      "The status code is 200\n",
      "The status code is 200\n",
      "The status code is 200\n",
      "The status code is 200\n"
     ]
    }
   ],
   "source": [
    "ids, names, rating, review_count, price, location, coordinates, transactions, categories, is_closed = [],[],[],[],[],[],[],[],[],[]\n",
    "for zip_code in zip_codes_Miami:\n",
    "    params = {'term':'restaurants', 'location': str(zip_code), 'limit':'50'}\n",
    "    req=requests.get(url, params=params, headers=headers)\n",
    "    \n",
    "    # proceed only if the status code is 200\n",
    "    print('The status code is {}'.format(req.status_code))\n",
    "    \n",
    "    parsed = json.loads(req.text)\n",
    "    try:\n",
    "        businesses = parsed['businesses']\n",
    "\n",
    "\n",
    "        ids.append(get_values('id', businesses))\n",
    "        names.append(get_values('name', businesses))\n",
    "        rating.append(get_values('rating', businesses))\n",
    "        review_count.append(get_values('review_count', businesses))\n",
    "        price.append(get_values('price', businesses))\n",
    "        location.append(get_values('location', businesses))\n",
    "        coordinates.append(get_values('coordinates', businesses))\n",
    "        transactions.append(get_values('transactions', businesses))\n",
    "        categories.append(get_values('categories', businesses))\n",
    "        is_closed.append(get_values('is_closed', businesses))\n",
    "    except:\n",
    "        pass"
   ]
  },
  {
   "cell_type": "code",
   "execution_count": 8,
   "metadata": {},
   "outputs": [],
   "source": [
    "list_attrs = [ids, names, rating, review_count,\n",
    "             price, transactions, is_closed]\n",
    "name_attrs = ['ids', 'names', 'rating', 'review_count',\n",
    "             'price', 'transactions', 'is_closed']"
   ]
  },
  {
   "cell_type": "code",
   "execution_count": 9,
   "metadata": {},
   "outputs": [],
   "source": [
    "dict_flat = {}\n",
    "for i, attrs in enumerate(list_attrs):\n",
    "    dict_flat[name_attrs[i]] = [x for attr in attrs for x in attr]"
   ]
  },
  {
   "cell_type": "code",
   "execution_count": 10,
   "metadata": {},
   "outputs": [],
   "source": [
    "alias_list = []\n",
    "title_list = []\n",
    "\n",
    "for category in categories:\n",
    "\n",
    "    for cat in category:\n",
    "        alias = []\n",
    "        title = []\n",
    "        for c in cat:\n",
    "            try:\n",
    "                alias.append(c[\"alias\"])\n",
    "                title.append(c[\"title\"])\n",
    "            except:\n",
    "                pass\n",
    "        alias_attr = ', '.join(alias)\n",
    "        title_attr = ', '.join(title)\n",
    "\n",
    "        alias_list.append(alias_attr) \n",
    "        title_list.append(title_attr) "
   ]
  },
  {
   "cell_type": "code",
   "execution_count": 11,
   "metadata": {},
   "outputs": [],
   "source": [
    "dict_flat['type_food'] = title_list\n",
    "dict_flat['type_food_alias'] = alias_list"
   ]
  },
  {
   "cell_type": "code",
   "execution_count": 12,
   "metadata": {},
   "outputs": [],
   "source": [
    "dict_flat['latitude'] = [x['latitude'] for coord in coordinates for x in coord]\n",
    "dict_flat['longitude'] = [x['longitude'] for coord in coordinates for x in coord]"
   ]
  },
  {
   "cell_type": "code",
   "execution_count": 13,
   "metadata": {},
   "outputs": [],
   "source": [
    "dict_flat['country'] = [x['country'] for loc in location for x in loc]\n",
    "dict_flat['state'] = [x['state'] for loc in location for x in loc]\n",
    "dict_flat['city'] = [x['city'] for loc in location for x in loc]\n",
    "dict_flat['zip_code'] = [x['zip_code'] for loc in location for x in loc]"
   ]
  },
  {
   "cell_type": "code",
   "execution_count": 14,
   "metadata": {},
   "outputs": [
    {
     "data": {
      "text/plain": [
       "dict_keys(['ids', 'names', 'rating', 'review_count', 'price', 'transactions', 'is_closed', 'type_food', 'type_food_alias', 'latitude', 'longitude', 'country', 'state', 'city', 'zip_code'])"
      ]
     },
     "execution_count": 14,
     "metadata": {},
     "output_type": "execute_result"
    }
   ],
   "source": [
    "dict_flat.keys()"
   ]
  },
  {
   "cell_type": "code",
   "execution_count": 15,
   "metadata": {},
   "outputs": [],
   "source": [
    "df = pd.DataFrame.from_dict(data=dict_flat)"
   ]
  },
  {
   "cell_type": "code",
   "execution_count": 16,
   "metadata": {},
   "outputs": [
    {
     "name": "stdout",
     "output_type": "stream",
     "text": [
      "<class 'pandas.core.frame.DataFrame'>\n",
      "RangeIndex: 4470 entries, 0 to 4469\n",
      "Data columns (total 15 columns):\n",
      "ids                4470 non-null object\n",
      "names              4470 non-null object\n",
      "rating             4470 non-null float64\n",
      "review_count       4470 non-null int64\n",
      "price              3034 non-null object\n",
      "transactions       4470 non-null object\n",
      "is_closed          4470 non-null bool\n",
      "type_food          4470 non-null object\n",
      "type_food_alias    4470 non-null object\n",
      "latitude           4470 non-null float64\n",
      "longitude          4470 non-null float64\n",
      "country            4470 non-null object\n",
      "state              4470 non-null object\n",
      "city               4470 non-null object\n",
      "zip_code           4470 non-null object\n",
      "dtypes: bool(1), float64(3), int64(1), object(10)\n",
      "memory usage: 493.3+ KB\n"
     ]
    }
   ],
   "source": [
    "df.info()"
   ]
  },
  {
   "cell_type": "code",
   "execution_count": 17,
   "metadata": {},
   "outputs": [],
   "source": [
    "def replace_empty_lists(list_entities):\n",
    "    if len(list_entities) < 1:\n",
    "        return None\n",
    "    return list_entities"
   ]
  },
  {
   "cell_type": "code",
   "execution_count": 18,
   "metadata": {},
   "outputs": [],
   "source": [
    "df['transactions'] = df.transactions.apply(replace_empty_lists)"
   ]
  },
  {
   "cell_type": "code",
   "execution_count": 19,
   "metadata": {
    "scrolled": true
   },
   "outputs": [
    {
     "data": {
      "text/html": [
       "<div>\n",
       "<style scoped>\n",
       "    .dataframe tbody tr th:only-of-type {\n",
       "        vertical-align: middle;\n",
       "    }\n",
       "\n",
       "    .dataframe tbody tr th {\n",
       "        vertical-align: top;\n",
       "    }\n",
       "\n",
       "    .dataframe thead th {\n",
       "        text-align: right;\n",
       "    }\n",
       "</style>\n",
       "<table border=\"1\" class=\"dataframe\">\n",
       "  <thead>\n",
       "    <tr style=\"text-align: right;\">\n",
       "      <th></th>\n",
       "      <th>ids</th>\n",
       "      <th>names</th>\n",
       "      <th>rating</th>\n",
       "      <th>review_count</th>\n",
       "      <th>price</th>\n",
       "      <th>transactions</th>\n",
       "      <th>is_closed</th>\n",
       "      <th>type_food</th>\n",
       "      <th>type_food_alias</th>\n",
       "      <th>latitude</th>\n",
       "      <th>longitude</th>\n",
       "      <th>country</th>\n",
       "      <th>state</th>\n",
       "      <th>city</th>\n",
       "      <th>zip_code</th>\n",
       "    </tr>\n",
       "  </thead>\n",
       "  <tbody>\n",
       "    <tr>\n",
       "      <th>0</th>\n",
       "      <td>yA1CZ5Dip8cyfL40JGV_4w</td>\n",
       "      <td>Reunion Ktchn Bar</td>\n",
       "      <td>4.5</td>\n",
       "      <td>209</td>\n",
       "      <td>$$</td>\n",
       "      <td>[delivery]</td>\n",
       "      <td>False</td>\n",
       "      <td>Tapas Bars, Seafood, Cocktail Bars</td>\n",
       "      <td>tapas, seafood, cocktailbars</td>\n",
       "      <td>25.943266</td>\n",
       "      <td>-80.147168</td>\n",
       "      <td>US</td>\n",
       "      <td>FL</td>\n",
       "      <td>Aventura</td>\n",
       "      <td>33160</td>\n",
       "    </tr>\n",
       "    <tr>\n",
       "      <th>1</th>\n",
       "      <td>bspGO743LzemMRSfpbrh8A</td>\n",
       "      <td>PERL by Chef IP</td>\n",
       "      <td>5.0</td>\n",
       "      <td>6</td>\n",
       "      <td>None</td>\n",
       "      <td>None</td>\n",
       "      <td>False</td>\n",
       "      <td>Seafood, Mediterranean, Cocktail Bars</td>\n",
       "      <td>seafood, mediterranean, cocktailbars</td>\n",
       "      <td>25.947124</td>\n",
       "      <td>-80.152363</td>\n",
       "      <td>US</td>\n",
       "      <td>FL</td>\n",
       "      <td>Miami</td>\n",
       "      <td>33180</td>\n",
       "    </tr>\n",
       "    <tr>\n",
       "      <th>2</th>\n",
       "      <td>ZvMdXANopgmMqRGj0Lx2dQ</td>\n",
       "      <td>Ornos Estiatorio a Michael Mina Restaurant</td>\n",
       "      <td>5.0</td>\n",
       "      <td>26</td>\n",
       "      <td>None</td>\n",
       "      <td>None</td>\n",
       "      <td>False</td>\n",
       "      <td>Greek</td>\n",
       "      <td>greek</td>\n",
       "      <td>25.958358</td>\n",
       "      <td>-80.142280</td>\n",
       "      <td>US</td>\n",
       "      <td>FL</td>\n",
       "      <td>Aventura</td>\n",
       "      <td>33180</td>\n",
       "    </tr>\n",
       "    <tr>\n",
       "      <th>3</th>\n",
       "      <td>lduwEKq8nxbppsJTQw_kfA</td>\n",
       "      <td>Bourbon Steak - Miami</td>\n",
       "      <td>4.0</td>\n",
       "      <td>475</td>\n",
       "      <td>$$$$</td>\n",
       "      <td>[delivery]</td>\n",
       "      <td>False</td>\n",
       "      <td>Steakhouses</td>\n",
       "      <td>steak</td>\n",
       "      <td>25.959946</td>\n",
       "      <td>-80.137672</td>\n",
       "      <td>US</td>\n",
       "      <td>FL</td>\n",
       "      <td>Aventura</td>\n",
       "      <td>33180</td>\n",
       "    </tr>\n",
       "    <tr>\n",
       "      <th>4</th>\n",
       "      <td>dhluZVxCNm8xAu1VxAWxZQ</td>\n",
       "      <td>Lettuce &amp; Tomato</td>\n",
       "      <td>4.5</td>\n",
       "      <td>532</td>\n",
       "      <td>$$</td>\n",
       "      <td>[delivery, pickup]</td>\n",
       "      <td>False</td>\n",
       "      <td>Gastropubs, American (New)</td>\n",
       "      <td>gastropubs, newamerican</td>\n",
       "      <td>25.933350</td>\n",
       "      <td>-80.152760</td>\n",
       "      <td>US</td>\n",
       "      <td>FL</td>\n",
       "      <td>North Miami Beach</td>\n",
       "      <td>33160</td>\n",
       "    </tr>\n",
       "  </tbody>\n",
       "</table>\n",
       "</div>"
      ],
      "text/plain": [
       "                      ids                                       names  rating  \\\n",
       "0  yA1CZ5Dip8cyfL40JGV_4w                           Reunion Ktchn Bar     4.5   \n",
       "1  bspGO743LzemMRSfpbrh8A                             PERL by Chef IP     5.0   \n",
       "2  ZvMdXANopgmMqRGj0Lx2dQ  Ornos Estiatorio a Michael Mina Restaurant     5.0   \n",
       "3  lduwEKq8nxbppsJTQw_kfA                       Bourbon Steak - Miami     4.0   \n",
       "4  dhluZVxCNm8xAu1VxAWxZQ                            Lettuce & Tomato     4.5   \n",
       "\n",
       "   review_count price        transactions  is_closed  \\\n",
       "0           209    $$          [delivery]      False   \n",
       "1             6  None                None      False   \n",
       "2            26  None                None      False   \n",
       "3           475  $$$$          [delivery]      False   \n",
       "4           532    $$  [delivery, pickup]      False   \n",
       "\n",
       "                               type_food  \\\n",
       "0     Tapas Bars, Seafood, Cocktail Bars   \n",
       "1  Seafood, Mediterranean, Cocktail Bars   \n",
       "2                                  Greek   \n",
       "3                            Steakhouses   \n",
       "4             Gastropubs, American (New)   \n",
       "\n",
       "                        type_food_alias   latitude  longitude country state  \\\n",
       "0          tapas, seafood, cocktailbars  25.943266 -80.147168      US    FL   \n",
       "1  seafood, mediterranean, cocktailbars  25.947124 -80.152363      US    FL   \n",
       "2                                 greek  25.958358 -80.142280      US    FL   \n",
       "3                                 steak  25.959946 -80.137672      US    FL   \n",
       "4               gastropubs, newamerican  25.933350 -80.152760      US    FL   \n",
       "\n",
       "                city zip_code  \n",
       "0           Aventura    33160  \n",
       "1              Miami    33180  \n",
       "2           Aventura    33180  \n",
       "3           Aventura    33180  \n",
       "4  North Miami Beach    33160  "
      ]
     },
     "execution_count": 19,
     "metadata": {},
     "output_type": "execute_result"
    }
   ],
   "source": [
    "df.head()"
   ]
  },
  {
   "cell_type": "code",
   "execution_count": 20,
   "metadata": {},
   "outputs": [
    {
     "data": {
      "text/plain": [
       "<bound method Series.unique of 1       Miami\n",
       "8       Miami\n",
       "13      Miami\n",
       "22      Miami\n",
       "27      Miami\n",
       "31      Miami\n",
       "48      Miami\n",
       "50      Miami\n",
       "51      Miami\n",
       "52      Miami\n",
       "53      Miami\n",
       "54      Miami\n",
       "55      Miami\n",
       "56      Miami\n",
       "57      Miami\n",
       "58      Miami\n",
       "59      Miami\n",
       "60      Miami\n",
       "61      Miami\n",
       "62      Miami\n",
       "63      Miami\n",
       "64      Miami\n",
       "65      Miami\n",
       "66      Miami\n",
       "67      Miami\n",
       "68      Miami\n",
       "69      Miami\n",
       "70      Miami\n",
       "71      Miami\n",
       "72      Miami\n",
       "        ...  \n",
       "4367    Miami\n",
       "4368    Miami\n",
       "4369    Miami\n",
       "4380    Miami\n",
       "4394    Miami\n",
       "4405    Miami\n",
       "4423    Miami\n",
       "4425    Miami\n",
       "4432    Miami\n",
       "4433    Miami\n",
       "4434    Miami\n",
       "4435    Miami\n",
       "4436    Miami\n",
       "4443    Miami\n",
       "4444    Miami\n",
       "4446    Miami\n",
       "4448    Miami\n",
       "4450    Miami\n",
       "4454    Miami\n",
       "4456    Miami\n",
       "4457    Miami\n",
       "4458    Miami\n",
       "4459    Miami\n",
       "4460    Miami\n",
       "4461    Miami\n",
       "4463    Miami\n",
       "4464    Miami\n",
       "4465    Miami\n",
       "4466    Miami\n",
       "4467    Miami\n",
       "Name: city, Length: 2981, dtype: object>"
      ]
     },
     "execution_count": 20,
     "metadata": {},
     "output_type": "execute_result"
    }
   ],
   "source": [
    "Miami = {'Miami'}\n",
    "df_Miami = df.loc[df['city'].isin(Miami)]\n",
    "df_Miami['city'].unique"
   ]
  },
  {
   "cell_type": "code",
   "execution_count": 21,
   "metadata": {},
   "outputs": [],
   "source": [
    "df_Miami.to_csv('../../data/interim/restaurants/yelp_miami.csv', index=False)"
   ]
  },
  {
   "cell_type": "code",
   "execution_count": null,
   "metadata": {},
   "outputs": [],
   "source": []
  }
 ],
 "metadata": {
  "kernelspec": {
   "display_name": "Python 3",
   "language": "python",
   "name": "python3"
  },
  "language_info": {
   "codemirror_mode": {
    "name": "ipython",
    "version": 3
   },
   "file_extension": ".py",
   "mimetype": "text/x-python",
   "name": "python",
   "nbconvert_exporter": "python",
   "pygments_lexer": "ipython3",
   "version": "3.6.7"
  }
 },
 "nbformat": 4,
 "nbformat_minor": 2
}
