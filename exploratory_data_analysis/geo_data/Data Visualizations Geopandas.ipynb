{
 "cells": [
  {
   "cell_type": "code",
   "execution_count": null,
   "metadata": {},
   "outputs": [],
   "source": [
    "cb_2018_us_state_500k.shp"
   ]
  },
  {
   "cell_type": "code",
   "execution_count": 1,
   "metadata": {},
   "outputs": [
    {
     "ename": "ModuleNotFoundError",
     "evalue": "No module named 'geopandas'",
     "output_type": "error",
     "traceback": [
      "\u001b[0;31m---------------------------------------------------------------------------\u001b[0m",
      "\u001b[0;31mModuleNotFoundError\u001b[0m                       Traceback (most recent call last)",
      "\u001b[0;32m<ipython-input-1-cf001c8f298e>\u001b[0m in \u001b[0;36m<module>\u001b[0;34m\u001b[0m\n\u001b[1;32m      1\u001b[0m \u001b[0;32mimport\u001b[0m \u001b[0mpandas\u001b[0m \u001b[0;32mas\u001b[0m \u001b[0mpd\u001b[0m\u001b[0;34m\u001b[0m\u001b[0;34m\u001b[0m\u001b[0m\n\u001b[0;32m----> 2\u001b[0;31m \u001b[0;32mimport\u001b[0m \u001b[0mgeopandas\u001b[0m \u001b[0;32mas\u001b[0m \u001b[0mgpd\u001b[0m\u001b[0;34m\u001b[0m\u001b[0;34m\u001b[0m\u001b[0m\n\u001b[0m\u001b[1;32m      3\u001b[0m \u001b[0;32mimport\u001b[0m \u001b[0mjson\u001b[0m\u001b[0;34m\u001b[0m\u001b[0;34m\u001b[0m\u001b[0m\n\u001b[1;32m      4\u001b[0m \u001b[0;32mimport\u001b[0m \u001b[0mmatplotlib\u001b[0m \u001b[0;32mas\u001b[0m \u001b[0mmpl\u001b[0m\u001b[0;34m\u001b[0m\u001b[0;34m\u001b[0m\u001b[0m\n\u001b[1;32m      5\u001b[0m \u001b[0;32mimport\u001b[0m \u001b[0mpylab\u001b[0m \u001b[0;32mas\u001b[0m \u001b[0mplt\u001b[0m\u001b[0;34m\u001b[0m\u001b[0;34m\u001b[0m\u001b[0m\n",
      "\u001b[0;31mModuleNotFoundError\u001b[0m: No module named 'geopandas'"
     ]
    }
   ],
   "source": [
    "import pandas as pd\n",
    "import geopandas as gpd\n",
    "import json\n",
    "import matplotlib as mpl\n",
    "import pylab as plt\n",
    "\n",
    "from bokeh.io import output_file, show, output_notebook, export_png\n",
    "from bokeh.models import ColumnDataSource, GeoJSONDataSource, LinearColorMapper, ColorBar\n",
    "from bokeh.plotting import figure\n",
    "from bokeh.palettes import brewer\n",
    "\n",
    "import panel as pn\n",
    "import panel.widgets as pnw"
   ]
  },
  {
   "cell_type": "code",
   "execution_count": null,
   "metadata": {},
   "outputs": [],
   "source": [
    "shapefile = 'data/ne_110m_admin_0_countries.shp'\n",
    "#Read shapefile using Geopandas\n",
    "gdf = gpd.read_file(shapefile)[['ADMIN', 'ADM0_A3', 'geometry']]\n",
    "#Rename columns.\n",
    "gdf.columns = ['country', 'country_code', 'geometry']\n",
    "gdf = gdf.drop(gdf.index[159])"
   ]
  },
  {
   "cell_type": "code",
   "execution_count": 8,
   "metadata": {},
   "outputs": [
    {
     "name": "stdout",
     "output_type": "stream",
     "text": [
      "Collecting descartes\n",
      "  Downloading https://files.pythonhosted.org/packages/e5/b6/1ed2eb03989ae574584664985367ba70cd9cf8b32ee8cad0e8aaeac819f3/descartes-1.1.0-py3-none-any.whl\n",
      "Requirement already satisfied: matplotlib in /opt/conda/lib/python3.6/site-packages (from descartes) (2.2.3)\n",
      "Requirement already satisfied: numpy>=1.7.1 in /opt/conda/lib/python3.6/site-packages (from matplotlib->descartes) (1.13.3)\n",
      "Requirement already satisfied: cycler>=0.10 in /opt/conda/lib/python3.6/site-packages (from matplotlib->descartes) (0.10.0)\n",
      "Requirement already satisfied: pyparsing!=2.0.4,!=2.1.2,!=2.1.6,>=2.0.1 in /opt/conda/lib/python3.6/site-packages (from matplotlib->descartes) (2.3.0)\n",
      "Requirement already satisfied: python-dateutil>=2.1 in /opt/conda/lib/python3.6/site-packages (from matplotlib->descartes) (2.7.5)\n",
      "Requirement already satisfied: pytz in /opt/conda/lib/python3.6/site-packages (from matplotlib->descartes) (2018.7)\n",
      "Requirement already satisfied: six>=1.10 in /opt/conda/lib/python3.6/site-packages (from matplotlib->descartes) (1.12.0)\n",
      "Requirement already satisfied: kiwisolver>=1.0.1 in /opt/conda/lib/python3.6/site-packages (from matplotlib->descartes) (1.0.1)\n",
      "Requirement already satisfied: setuptools in /opt/conda/lib/python3.6/site-packages (from kiwisolver>=1.0.1->matplotlib->descartes) (51.0.0)\n",
      "Installing collected packages: descartes\n",
      "Successfully installed descartes-1.1.0\n",
      "Requirement already up-to-date: setuptools in /opt/conda/lib/python3.6/site-packages (51.0.0)\n",
      "Collecting geopandas\n",
      "  Using cached https://files.pythonhosted.org/packages/f7/a4/e66aafbefcbb717813bf3a355c8c4fc3ed04ea1dd7feb2920f2f4f868921/geopandas-0.8.1-py2.py3-none-any.whl\n",
      "Requirement already satisfied: pandas>=0.23.0 in /opt/conda/lib/python3.6/site-packages (from geopandas) (0.23.4)\n",
      "Collecting shapely (from geopandas)\n",
      "\u001b[?25l  Downloading https://files.pythonhosted.org/packages/9d/18/557d4f55453fe00f59807b111cc7b39ce53594e13ada88e16738fb4ff7fb/Shapely-1.7.1-cp36-cp36m-manylinux1_x86_64.whl (1.0MB)\n",
      "\u001b[K    100% |████████████████████████████████| 1.0MB 5.3MB/s ta 0:00:011\n",
      "\u001b[?25hCollecting fiona (from geopandas)\n",
      "\u001b[?25l  Downloading https://files.pythonhosted.org/packages/37/94/4910fd55246c1d963727b03885ead6ef1cd3748a465f7b0239ab25dfc9a3/Fiona-1.8.18-cp36-cp36m-manylinux1_x86_64.whl (14.8MB)\n",
      "\u001b[K    100% |████████████████████████████████| 14.8MB 4.0MB/s eta 0:00:01\n",
      "\u001b[?25hCollecting pyproj>=2.2.0 (from geopandas)\n",
      "  Using cached https://files.pythonhosted.org/packages/17/e5/3f5cdff3e955bcd768cdb0f4236f2d6e022aaa72f57caf7f4d5f552c88fc/pyproj-3.0.0.post1.tar.gz\n",
      "  Installing build dependencies ... \u001b[?25ldone\n",
      "\u001b[?25h    Complete output from command python setup.py egg_info:\n",
      "    proj executable not found. Please set the PROJ_DIR variable. For more information see: https://pyproj4.github.io/pyproj/stable/installation.html\n",
      "    \n",
      "    ----------------------------------------\n",
      "\u001b[31mCommand \"python setup.py egg_info\" failed with error code 1 in /tmp/pip-install-tzksg7zp/pyproj/\u001b[0m\n"
     ]
    }
   ],
   "source": [
    "import sys   \n",
    "\n",
    "!{sys.executable} -m pip install descartes\n",
    "!{sys.executable} -m pip install --upgrade setuptools"
   ]
  },
  {
   "cell_type": "code",
   "execution_count": 22,
   "metadata": {},
   "outputs": [
    {
     "name": "stdout",
     "output_type": "stream",
     "text": [
      "Requirement already satisfied: shapely in /opt/conda/lib/python3.6/site-packages (1.7.1)\n",
      "Collecting geopandas==0.2.1\n",
      "  Using cached https://files.pythonhosted.org/packages/dd/3c/cb764cd41a72efcb1424d4109137c18a94900632bdb43d5b298987eba609/geopandas-0.2.1-py2.py3-none-any.whl\n",
      "Requirement already satisfied: descartes in /opt/conda/lib/python3.6/site-packages (from geopandas==0.2.1) (1.1.0)\n",
      "Requirement already satisfied: shapely in /opt/conda/lib/python3.6/site-packages (from geopandas==0.2.1) (1.7.1)\n",
      "Requirement already satisfied: fiona in /opt/conda/lib/python3.6/site-packages (from geopandas==0.2.1) (1.8.18)\n",
      "Collecting pyproj (from geopandas==0.2.1)\n",
      "  Using cached https://files.pythonhosted.org/packages/17/e5/3f5cdff3e955bcd768cdb0f4236f2d6e022aaa72f57caf7f4d5f552c88fc/pyproj-3.0.0.post1.tar.gz\n",
      "  Installing build dependencies ... \u001b[?25ldone\n",
      "\u001b[?25h    Complete output from command python setup.py egg_info:\n",
      "    proj executable not found. Please set the PROJ_DIR variable. For more information see: https://pyproj4.github.io/pyproj/stable/installation.html\n",
      "    \n",
      "    ----------------------------------------\n",
      "\u001b[31mCommand \"python setup.py egg_info\" failed with error code 1 in /tmp/pip-install-03kojabk/pyproj/\u001b[0m\n",
      "Requirement already satisfied: geojsonio==0.0.3 in /opt/conda/lib/python3.6/site-packages (0.0.3)\n",
      "Requirement already satisfied: github3.py in /opt/conda/lib/python3.6/site-packages (from geojsonio==0.0.3) (1.3.0)\n",
      "Requirement already satisfied: six in /opt/conda/lib/python3.6/site-packages (from geojsonio==0.0.3) (1.12.0)\n",
      "Requirement already satisfied: python-dateutil>=2.6.0 in /opt/conda/lib/python3.6/site-packages (from github3.py->geojsonio==0.0.3) (2.7.5)\n",
      "Requirement already satisfied: requests>=2.18 in /opt/conda/lib/python3.6/site-packages (from github3.py->geojsonio==0.0.3) (2.21.0)\n",
      "Requirement already satisfied: jwcrypto>=0.5.0 in /opt/conda/lib/python3.6/site-packages (from github3.py->geojsonio==0.0.3) (0.8)\n",
      "Requirement already satisfied: uritemplate>=3.0.0 in /opt/conda/lib/python3.6/site-packages (from github3.py->geojsonio==0.0.3) (3.0.1)\n",
      "Requirement already satisfied: idna<2.9,>=2.5 in /opt/conda/lib/python3.6/site-packages (from requests>=2.18->github3.py->geojsonio==0.0.3) (2.8)\n",
      "Requirement already satisfied: chardet<3.1.0,>=3.0.2 in /opt/conda/lib/python3.6/site-packages (from requests>=2.18->github3.py->geojsonio==0.0.3) (3.0.4)\n",
      "Requirement already satisfied: certifi>=2017.4.17 in /opt/conda/lib/python3.6/site-packages (from requests>=2.18->github3.py->geojsonio==0.0.3) (2018.11.29)\n",
      "Requirement already satisfied: urllib3<1.25,>=1.21.1 in /opt/conda/lib/python3.6/site-packages (from requests>=2.18->github3.py->geojsonio==0.0.3) (1.24.1)\n",
      "Requirement already satisfied: cryptography>=2.3 in /opt/conda/lib/python3.6/site-packages (from jwcrypto>=0.5.0->github3.py->geojsonio==0.0.3) (2.3.1)\n",
      "Requirement already satisfied: asn1crypto>=0.21.0 in /opt/conda/lib/python3.6/site-packages (from cryptography>=2.3->jwcrypto>=0.5.0->github3.py->geojsonio==0.0.3) (0.24.0)\n",
      "Requirement already satisfied: cffi!=1.11.3,>=1.7 in /opt/conda/lib/python3.6/site-packages (from cryptography>=2.3->jwcrypto>=0.5.0->github3.py->geojsonio==0.0.3) (1.11.5)\n",
      "Requirement already satisfied: pycparser in /opt/conda/lib/python3.6/site-packages (from cffi!=1.11.3,>=1.7->cryptography>=2.3->jwcrypto>=0.5.0->github3.py->geojsonio==0.0.3) (2.19)\n"
     ]
    }
   ],
   "source": [
    "!{sys.executable} -m pip install shapely\n",
    "!{sys.executable} -m pip install geopandas==0.2.1\n",
    "!{sys.executable} -m pip install geojsonio==0.0.3"
   ]
  },
  {
   "cell_type": "code",
   "execution_count": 19,
   "metadata": {},
   "outputs": [
    {
     "name": "stdout",
     "output_type": "stream",
     "text": [
      "Requirement already satisfied: Fiona in /opt/conda/lib/python3.6/site-packages (1.8.18)\n",
      "Requirement already satisfied: munch in /opt/conda/lib/python3.6/site-packages (from Fiona) (2.5.0)\n",
      "Requirement already satisfied: six>=1.7 in /opt/conda/lib/python3.6/site-packages (from Fiona) (1.12.0)\n",
      "Requirement already satisfied: cligj>=0.5 in /opt/conda/lib/python3.6/site-packages (from Fiona) (0.7.1)\n",
      "Requirement already satisfied: certifi in /opt/conda/lib/python3.6/site-packages (from Fiona) (2018.11.29)\n",
      "Requirement already satisfied: attrs>=17 in /opt/conda/lib/python3.6/site-packages (from Fiona) (18.2.0)\n",
      "Requirement already satisfied: click<8,>=4.0 in /opt/conda/lib/python3.6/site-packages (from Fiona) (7.1.2)\n",
      "Requirement already satisfied: click-plugins>=1.0 in /opt/conda/lib/python3.6/site-packages (from Fiona) (1.1.1)\n",
      "Collecting OSGeo4W\n",
      "\u001b[31m  Could not find a version that satisfies the requirement OSGeo4W (from versions: )\u001b[0m\n",
      "\u001b[31mNo matching distribution found for OSGeo4W\u001b[0m\n",
      "Collecting GDAL\n",
      "\u001b[?25l  Downloading https://files.pythonhosted.org/packages/e2/bb/d9356549c9ac7adb2e136258a56f6239b9754110f6d77457ec7bcf78b41b/GDAL-3.2.0.tar.gz (602kB)\n",
      "\u001b[K    100% |████████████████████████████████| 604kB 12.1MB/s ta 0:00:01\n",
      "\u001b[?25h    Complete output from command python setup.py egg_info:\n",
      "    running egg_info\n",
      "    creating pip-egg-info/GDAL.egg-info\n",
      "    writing pip-egg-info/GDAL.egg-info/PKG-INFO\n",
      "    writing dependency_links to pip-egg-info/GDAL.egg-info/dependency_links.txt\n",
      "    writing requirements to pip-egg-info/GDAL.egg-info/requires.txt\n",
      "    writing top-level names to pip-egg-info/GDAL.egg-info/top_level.txt\n",
      "    writing manifest file 'pip-egg-info/GDAL.egg-info/SOURCES.txt'\n",
      "    Traceback (most recent call last):\n",
      "      File \"/tmp/pip-install-bv3gb1s1/GDAL/setup.py\", line 151, in fetch_config\n",
      "        p = subprocess.Popen([command, args], stdout=subprocess.PIPE)\n",
      "      File \"/opt/conda/lib/python3.6/subprocess.py\", line 709, in __init__\n",
      "        restore_signals, start_new_session)\n",
      "      File \"/opt/conda/lib/python3.6/subprocess.py\", line 1344, in _execute_child\n",
      "        raise child_exception_type(errno_num, err_msg, err_filename)\n",
      "    FileNotFoundError: [Errno 2] No such file or directory: '../../apps/gdal-config': '../../apps/gdal-config'\n",
      "    \n",
      "    During handling of the above exception, another exception occurred:\n",
      "    \n",
      "    Traceback (most recent call last):\n",
      "      File \"/tmp/pip-install-bv3gb1s1/GDAL/setup.py\", line 250, in get_gdal_config\n",
      "        return fetch_config(option, gdal_config=self.gdal_config)\n",
      "      File \"/tmp/pip-install-bv3gb1s1/GDAL/setup.py\", line 154, in fetch_config\n",
      "        raise gdal_config_error(e)\n",
      "    __main__.gdal_config_error: [Errno 2] No such file or directory: '../../apps/gdal-config': '../../apps/gdal-config'\n",
      "    \n",
      "    During handling of the above exception, another exception occurred:\n",
      "    \n",
      "    Traceback (most recent call last):\n",
      "      File \"/tmp/pip-install-bv3gb1s1/GDAL/setup.py\", line 151, in fetch_config\n",
      "        p = subprocess.Popen([command, args], stdout=subprocess.PIPE)\n",
      "      File \"/opt/conda/lib/python3.6/subprocess.py\", line 709, in __init__\n",
      "        restore_signals, start_new_session)\n",
      "      File \"/opt/conda/lib/python3.6/subprocess.py\", line 1344, in _execute_child\n",
      "        raise child_exception_type(errno_num, err_msg, err_filename)\n",
      "    FileNotFoundError: [Errno 2] No such file or directory: 'gdal-config': 'gdal-config'\n",
      "    \n",
      "    During handling of the above exception, another exception occurred:\n",
      "    \n",
      "    Traceback (most recent call last):\n",
      "      File \"/tmp/pip-install-bv3gb1s1/GDAL/setup.py\", line 257, in get_gdal_config\n",
      "        return fetch_config(option)\n",
      "      File \"/tmp/pip-install-bv3gb1s1/GDAL/setup.py\", line 154, in fetch_config\n",
      "        raise gdal_config_error(e)\n",
      "    __main__.gdal_config_error: [Errno 2] No such file or directory: 'gdal-config': 'gdal-config'\n",
      "    \n",
      "    During handling of the above exception, another exception occurred:\n",
      "    \n",
      "    Traceback (most recent call last):\n",
      "      File \"<string>\", line 1, in <module>\n",
      "      File \"/tmp/pip-install-bv3gb1s1/GDAL/setup.py\", line 471, in <module>\n",
      "        setup(**setup_kwargs)\n",
      "      File \"/opt/conda/lib/python3.6/site-packages/setuptools/__init__.py\", line 153, in setup\n",
      "        return distutils.core.setup(**attrs)\n",
      "      File \"/opt/conda/lib/python3.6/distutils/core.py\", line 148, in setup\n",
      "        dist.run_commands()\n",
      "      File \"/opt/conda/lib/python3.6/distutils/dist.py\", line 955, in run_commands\n",
      "        self.run_command(cmd)\n",
      "      File \"/opt/conda/lib/python3.6/distutils/dist.py\", line 974, in run_command\n",
      "        cmd_obj.run()\n",
      "      File \"/opt/conda/lib/python3.6/site-packages/setuptools/command/egg_info.py\", line 298, in run\n",
      "        self.find_sources()\n",
      "      File \"/opt/conda/lib/python3.6/site-packages/setuptools/command/egg_info.py\", line 305, in find_sources\n",
      "        mm.run()\n",
      "      File \"/opt/conda/lib/python3.6/site-packages/setuptools/command/egg_info.py\", line 536, in run\n",
      "        self.add_defaults()\n",
      "      File \"/opt/conda/lib/python3.6/site-packages/setuptools/command/egg_info.py\", line 572, in add_defaults\n",
      "        sdist.add_defaults(self)\n",
      "      File \"/opt/conda/lib/python3.6/site-packages/setuptools/command/py36compat.py\", line 34, in add_defaults\n",
      "        self._add_defaults_ext()\n",
      "      File \"/opt/conda/lib/python3.6/site-packages/setuptools/command/py36compat.py\", line 117, in _add_defaults_ext\n",
      "        build_ext = self.get_finalized_command('build_ext')\n",
      "      File \"/opt/conda/lib/python3.6/distutils/cmd.py\", line 299, in get_finalized_command\n",
      "        cmd_obj.ensure_finalized()\n",
      "      File \"/opt/conda/lib/python3.6/distutils/cmd.py\", line 107, in ensure_finalized\n",
      "        self.finalize_options()\n",
      "      File \"/tmp/pip-install-bv3gb1s1/GDAL/setup.py\", line 320, in finalize_options\n",
      "        self.gdaldir = self.get_gdal_config('prefix')\n",
      "      File \"/tmp/pip-install-bv3gb1s1/GDAL/setup.py\", line 263, in get_gdal_config\n",
      "        raise gdal_config_error(traceback_string + '\\n' + msg)\n",
      "    __main__.gdal_config_error: Traceback (most recent call last):\n",
      "      File \"/tmp/pip-install-bv3gb1s1/GDAL/setup.py\", line 151, in fetch_config\n",
      "        p = subprocess.Popen([command, args], stdout=subprocess.PIPE)\n",
      "      File \"/opt/conda/lib/python3.6/subprocess.py\", line 709, in __init__\n",
      "        restore_signals, start_new_session)\n",
      "      File \"/opt/conda/lib/python3.6/subprocess.py\", line 1344, in _execute_child\n",
      "        raise child_exception_type(errno_num, err_msg, err_filename)\n",
      "    FileNotFoundError: [Errno 2] No such file or directory: '../../apps/gdal-config': '../../apps/gdal-config'\n",
      "    \n",
      "    During handling of the above exception, another exception occurred:\n",
      "    \n",
      "    Traceback (most recent call last):\n",
      "      File \"/tmp/pip-install-bv3gb1s1/GDAL/setup.py\", line 250, in get_gdal_config\n",
      "        return fetch_config(option, gdal_config=self.gdal_config)\n",
      "      File \"/tmp/pip-install-bv3gb1s1/GDAL/setup.py\", line 154, in fetch_config\n",
      "        raise gdal_config_error(e)\n",
      "    gdal_config_error: [Errno 2] No such file or directory: '../../apps/gdal-config': '../../apps/gdal-config'\n",
      "    \n",
      "    During handling of the above exception, another exception occurred:\n",
      "    \n",
      "    Traceback (most recent call last):\n",
      "      File \"/tmp/pip-install-bv3gb1s1/GDAL/setup.py\", line 151, in fetch_config\n",
      "        p = subprocess.Popen([command, args], stdout=subprocess.PIPE)\n",
      "      File \"/opt/conda/lib/python3.6/subprocess.py\", line 709, in __init__\n",
      "        restore_signals, start_new_session)\n",
      "      File \"/opt/conda/lib/python3.6/subprocess.py\", line 1344, in _execute_child\n",
      "        raise child_exception_type(errno_num, err_msg, err_filename)\n",
      "    FileNotFoundError: [Errno 2] No such file or directory: 'gdal-config': 'gdal-config'\n",
      "    \n",
      "    During handling of the above exception, another exception occurred:\n",
      "    \n",
      "    Traceback (most recent call last):\n",
      "      File \"/tmp/pip-install-bv3gb1s1/GDAL/setup.py\", line 257, in get_gdal_config\n",
      "        return fetch_config(option)\n",
      "      File \"/tmp/pip-install-bv3gb1s1/GDAL/setup.py\", line 154, in fetch_config\n",
      "        raise gdal_config_error(e)\n",
      "    gdal_config_error: [Errno 2] No such file or directory: 'gdal-config': 'gdal-config'\n",
      "    \n",
      "    Could not find gdal-config. Make sure you have installed the GDAL native library and development headers.\n",
      "    \n",
      "    ----------------------------------------\n",
      "\u001b[31mCommand \"python setup.py egg_info\" failed with error code 1 in /tmp/pip-install-bv3gb1s1/GDAL/\u001b[0m\n"
     ]
    },
    {
     "name": "stdout",
     "output_type": "stream",
     "text": [
      "Collecting pyproj\n",
      "  Using cached https://files.pythonhosted.org/packages/17/e5/3f5cdff3e955bcd768cdb0f4236f2d6e022aaa72f57caf7f4d5f552c88fc/pyproj-3.0.0.post1.tar.gz\n",
      "  Installing build dependencies ... \u001b[?25ldone\n",
      "\u001b[?25h    Complete output from command python setup.py egg_info:\n",
      "    proj executable not found. Please set the PROJ_DIR variable. For more information see: https://pyproj4.github.io/pyproj/stable/installation.html\n",
      "    \n",
      "    ----------------------------------------\n",
      "\u001b[31mCommand \"python setup.py egg_info\" failed with error code 1 in /tmp/pip-install-rrglfl4k/pyproj/\u001b[0m\n",
      "Collecting rtree\n",
      "\u001b[?25l  Downloading https://files.pythonhosted.org/packages/56/6f/f1e91001d5ad9fa9bed65875152f5a1c7955c5763168cae309546e6e9fda/Rtree-0.9.4.tar.gz (62kB)\n",
      "\u001b[K    100% |████████████████████████████████| 71kB 3.6MB/s ta 0:00:011\n",
      "\u001b[?25h    Complete output from command python setup.py egg_info:\n",
      "    Traceback (most recent call last):\n",
      "      File \"<string>\", line 1, in <module>\n",
      "      File \"/tmp/pip-install-fjbkczif/rtree/setup.py\", line 3, in <module>\n",
      "        import rtree\n",
      "      File \"/tmp/pip-install-fjbkczif/rtree/rtree/__init__.py\", line 1, in <module>\n",
      "        from .index import Rtree\n",
      "      File \"/tmp/pip-install-fjbkczif/rtree/rtree/index.py\", line 6, in <module>\n",
      "        from . import core\n",
      "      File \"/tmp/pip-install-fjbkczif/rtree/rtree/core.py\", line 143, in <module>\n",
      "        rt.Error_GetLastErrorNum.restype = ctypes.c_int\n",
      "      File \"/opt/conda/lib/python3.6/ctypes/__init__.py\", line 361, in __getattr__\n",
      "        func = self.__getitem__(name)\n",
      "      File \"/opt/conda/lib/python3.6/ctypes/__init__.py\", line 366, in __getitem__\n",
      "        func = self._FuncPtr((name_or_ordinal, self))\n",
      "    AttributeError: /opt/conda/bin/python: undefined symbol: Error_GetLastErrorNum\n",
      "    \n",
      "    ----------------------------------------\n",
      "\u001b[31mCommand \"python setup.py egg_info\" failed with error code 1 in /tmp/pip-install-fjbkczif/rtree/\u001b[0m\n",
      "Collecting shapely\n",
      "  Using cached https://files.pythonhosted.org/packages/9d/18/557d4f55453fe00f59807b111cc7b39ce53594e13ada88e16738fb4ff7fb/Shapely-1.7.1-cp36-cp36m-manylinux1_x86_64.whl\n",
      "Installing collected packages: shapely\n",
      "Successfully installed shapely-1.7.1\n"
     ]
    }
   ],
   "source": [
    "!{sys.executable} -m pip install Fiona \n",
    "!{sys.executable} -m pip install OSGeo4W\n",
    "!{sys.executable} -m pip install GDAL\n",
    "!{sys.executable} -m pip install pyproj\n",
    "!{sys.executable} -m pip install rtree\n",
    "!{sys.executable} -m pip install shapely"
   ]
  },
  {
   "cell_type": "code",
   "execution_count": 17,
   "metadata": {},
   "outputs": [
    {
     "name": "stdout",
     "output_type": "stream",
     "text": [
      "Collecting geopandas\n",
      "  Using cached https://files.pythonhosted.org/packages/f7/a4/e66aafbefcbb717813bf3a355c8c4fc3ed04ea1dd7feb2920f2f4f868921/geopandas-0.8.1-py2.py3-none-any.whl\n",
      "Collecting shapely (from geopandas)\n",
      "  Using cached https://files.pythonhosted.org/packages/9d/18/557d4f55453fe00f59807b111cc7b39ce53594e13ada88e16738fb4ff7fb/Shapely-1.7.1-cp36-cp36m-manylinux1_x86_64.whl\n",
      "Collecting pyproj>=2.2.0 (from geopandas)\n",
      "  Using cached https://files.pythonhosted.org/packages/17/e5/3f5cdff3e955bcd768cdb0f4236f2d6e022aaa72f57caf7f4d5f552c88fc/pyproj-3.0.0.post1.tar.gz\n",
      "  Installing build dependencies ... \u001b[?25ldone\n",
      "\u001b[?25h    Complete output from command python setup.py egg_info:\n",
      "    proj executable not found. Please set the PROJ_DIR variable. For more information see: https://pyproj4.github.io/pyproj/stable/installation.html\n",
      "    \n",
      "    ----------------------------------------\n",
      "\u001b[31mCommand \"python setup.py egg_info\" failed with error code 1 in /tmp/pip-install-m2v384uk/pyproj/\u001b[0m\n"
     ]
    }
   ],
   "source": [
    "!{sys.executable} -m pip install geopandas"
   ]
  },
  {
   "cell_type": "code",
   "execution_count": 6,
   "metadata": {},
   "outputs": [
    {
     "ename": "ModuleNotFoundError",
     "evalue": "No module named 'geopandas'",
     "output_type": "error",
     "traceback": [
      "\u001b[0;31m---------------------------------------------------------------------------\u001b[0m",
      "\u001b[0;31mModuleNotFoundError\u001b[0m                       Traceback (most recent call last)",
      "\u001b[0;32m<ipython-input-6-2e273ffbdec0>\u001b[0m in \u001b[0;36m<module>\u001b[0;34m\u001b[0m\n\u001b[1;32m      1\u001b[0m \u001b[0;32mimport\u001b[0m \u001b[0mpandas\u001b[0m \u001b[0;32mas\u001b[0m \u001b[0mpd\u001b[0m\u001b[0;34m\u001b[0m\u001b[0;34m\u001b[0m\u001b[0m\n\u001b[1;32m      2\u001b[0m \u001b[0;32mimport\u001b[0m \u001b[0mnumpy\u001b[0m \u001b[0;32mas\u001b[0m \u001b[0mnp\u001b[0m\u001b[0;34m\u001b[0m\u001b[0;34m\u001b[0m\u001b[0m\n\u001b[0;32m----> 3\u001b[0;31m \u001b[0;32mimport\u001b[0m \u001b[0mgeopandas\u001b[0m \u001b[0;32mas\u001b[0m \u001b[0mgpd\u001b[0m\u001b[0;34m\u001b[0m\u001b[0;34m\u001b[0m\u001b[0m\n\u001b[0m\u001b[1;32m      4\u001b[0m \u001b[0;32mimport\u001b[0m \u001b[0mmatplotlib\u001b[0m\u001b[0;34m.\u001b[0m\u001b[0mpyplot\u001b[0m \u001b[0;32mas\u001b[0m \u001b[0mplt\u001b[0m\u001b[0;34m\u001b[0m\u001b[0;34m\u001b[0m\u001b[0m\n",
      "\u001b[0;31mModuleNotFoundError\u001b[0m: No module named 'geopandas'"
     ]
    }
   ],
   "source": [
    "import pandas as pd\n",
    "import numpy as np\n",
    "import geopandas as gpd\n",
    "import matplotlib.pyplot as plt"
   ]
  },
  {
   "cell_type": "code",
   "execution_count": 3,
   "metadata": {},
   "outputs": [
    {
     "ename": "NameError",
     "evalue": "name 'gpd' is not defined",
     "output_type": "error",
     "traceback": [
      "\u001b[0;31m---------------------------------------------------------------------------\u001b[0m",
      "\u001b[0;31mNameError\u001b[0m                                 Traceback (most recent call last)",
      "\u001b[0;32m<ipython-input-3-fcd6f8bdb0be>\u001b[0m in \u001b[0;36m<module>\u001b[0;34m\u001b[0m\n\u001b[1;32m      1\u001b[0m \u001b[0mfp\u001b[0m \u001b[0;34m=\u001b[0m \u001b[0;34m\"../data/raw/mobility/Foursquare_Community_Mobility_Data/dataverse_files%202/ST_CARTO/ST_CARTO.shp\"\u001b[0m\u001b[0;34m\u001b[0m\u001b[0;34m\u001b[0m\u001b[0m\n\u001b[0;32m----> 2\u001b[0;31m \u001b[0mmap_df\u001b[0m \u001b[0;34m=\u001b[0m \u001b[0mgpd\u001b[0m\u001b[0;34m.\u001b[0m\u001b[0mread_file\u001b[0m\u001b[0;34m(\u001b[0m\u001b[0mfp\u001b[0m\u001b[0;34m)\u001b[0m\u001b[0;34m\u001b[0m\u001b[0;34m\u001b[0m\u001b[0m\n\u001b[0m\u001b[1;32m      3\u001b[0m \u001b[0;31m# check the GeoDataframe\u001b[0m\u001b[0;34m\u001b[0m\u001b[0;34m\u001b[0m\u001b[0;34m\u001b[0m\u001b[0m\n\u001b[1;32m      4\u001b[0m \u001b[0mmap_df\u001b[0m\u001b[0;34m.\u001b[0m\u001b[0mhead\u001b[0m\u001b[0;34m(\u001b[0m\u001b[0;34m)\u001b[0m\u001b[0;34m\u001b[0m\u001b[0;34m\u001b[0m\u001b[0m\n",
      "\u001b[0;31mNameError\u001b[0m: name 'gpd' is not defined"
     ]
    }
   ],
   "source": [
    "fp = \"../data/raw/mobility/Foursquare_Community_Mobility_Data/dataverse_files%202/ST_CARTO/ST_CARTO.shp\"\n",
    "map_df = gpd.read_file(fp)\n",
    "# check the GeoDataframe\n",
    "map_df.head()"
   ]
  },
  {
   "cell_type": "code",
   "execution_count": null,
   "metadata": {},
   "outputs": [],
   "source": []
  }
 ],
 "metadata": {
  "kernelspec": {
   "display_name": "Python 3",
   "language": "python",
   "name": "python3"
  },
  "language_info": {
   "codemirror_mode": {
    "name": "ipython",
    "version": 3
   },
   "file_extension": ".py",
   "mimetype": "text/x-python",
   "name": "python",
   "nbconvert_exporter": "python",
   "pygments_lexer": "ipython3",
   "version": "3.6.7"
  }
 },
 "nbformat": 4,
 "nbformat_minor": 2
}
