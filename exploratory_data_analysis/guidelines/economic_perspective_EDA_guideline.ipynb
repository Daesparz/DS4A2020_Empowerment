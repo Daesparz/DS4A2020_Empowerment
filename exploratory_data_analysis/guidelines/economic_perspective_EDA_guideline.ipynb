{
 "cells": [
  {
   "cell_type": "markdown",
   "metadata": {},
   "source": [
    "# Exploratory Data Analysis Part 1: Economic perspective\n",
    "\n",
    "## Contents: \n",
    "\n",
    "\n",
    "### 1. Introduction (once we finish the EDA)\n",
    "This notebook is one of the two first EDA notebooks that we are going to submit next Thursday. This Jupyter notebook is going to include the three following sections, all of them related to the economic perspective of the study. Create your own notebook as `topic_EDA.ipynb` in the `exploratory data analysis` directory to answer the following questions and extract insights from the data (what is interesting and related to the analysis we are doing) Then, we'll compile the results sorted as is indicated below in detail.\n",
    "\n",
    "\n",
    "<div class=\"alert alert-block alert-info\"> \n",
    "<b>\n",
    "Definition of hierarchies\n",
    "    \n",
    "1. Goods and Services (2 items)\n",
    "2. Food Goods and Food Services (2 items)\n",
    "3. Food Goods and Food Services (more items, as it is broken down into Monthly Retail and Food Services dataset)\n",
    "4. Restaurants\n",
    "</b>\n",
    "</div>\n",
    "    \n",
    "First, we explore the general picture of the impact of COVID-19 disruptions in the US Economy analyzing Goods and Services Industries (as two generic edges, 1st hierarchy) through GDP, Income, Consumer Expenditures in both areas (BEA datasets). Then, we deep a little more talking about Food in both edges (2nd hierarchy) and split into groceries, stores, supermarkets, restaurants (3rd hierarchy), followed by unemployment in 1st and 2nd hierarchies (St Louis Fed Unemployment data) and 4th hierarchy (Unemployment restaurants Dataset).\n",
    "    \n",
    "### 2. Exploratory Data Analysis\n",
    "Complement plots with research (articles related to the economic impact of covid-19 in Goods vs Services Industries and the employment in food services). \n",
    "\n",
    "1. Goods-producing industries vs service-producing industries -> Which industry sector has been more affected by the pandemic during 2020? How do consumer expenditures explain the Income of Goods vs Services Industries? How do consumer expenditures explain the GDP of Food and Beverage-Goods vs Food and Beverage-Services?\n",
    "    - Plot Income by Industry, BEA\n",
    "        - Compare performance Goods versus Services\n",
    "    - Plot Wages and Salaries by Industry, BEA (Table 2.2B)\n",
    "        - Compare performance Goods versus Services\n",
    "    - Plot Consumer Expenditures, BEA (Table 2.8.7)\n",
    "        - Compare Goods versus Services Expenditures\n",
    "    - Plot Real GDP expanded detail (Table 1.5.3) or Contribution to Percent Change expanded detail (Table 1.5.2)\n",
    "        - Compare Food and Beverage Goods vs Food and Beverage Services GDP. \n",
    "        - How much of the total GDP belongs to Goods vs Services?\n",
    "        - How much of the total GDP in Food and beverage belongs to Goods vs Services?\n",
    "    - Plot Consumption Index by mayor product (Table 2.3.5. Next release date December 22. We can incorporate Q4!)\n",
    "        - Compare Food and Beverage Goods vs Food and Beverage Services expenditures. \n",
    "        - How much of the total PCE belongs to Goods vs Services?\n",
    "        - How much of the total PCE in Food and beverage belongs to Goods vs Services?\n",
    "    - GDPKeySourve_2q (monthly information until Q2 2020)\n",
    "    \n",
    "2. Food focus: Monthly Retail and Food Services\n",
    "    - By kind of Business. Who is most affected?\n",
    "    - Focus on impact in Restaurants and other eating places, Full service restaurants and limited services eating places. Who is the most affected?\n",
    "\n",
    "3. Employment/Unemployment\n",
    "    - Unemployment_total_2005to2020.\n",
    "    - Compare unemployment Goods versus Services from 2005 to 2020 (unemployment_total_2005to2020).\n",
    "    - Compare unemployment interesting sectors, focus on food related sector\n",
    "    - Unemployment of restaurants from 1990 until Nov.2020 (monthly analysis)"
   ]
  },
  {
   "cell_type": "code",
   "execution_count": null,
   "metadata": {},
   "outputs": [],
   "source": [
    " \n",
    "\n"
   ]
  }
 ],
 "metadata": {
  "kernelspec": {
   "display_name": "Python 3",
   "language": "python",
   "name": "python3"
  },
  "language_info": {
   "codemirror_mode": {
    "name": "ipython",
    "version": 3
   },
   "file_extension": ".py",
   "mimetype": "text/x-python",
   "name": "python",
   "nbconvert_exporter": "python",
   "pygments_lexer": "ipython3",
   "version": "3.6.7"
  }
 },
 "nbformat": 4,
 "nbformat_minor": 2
}
