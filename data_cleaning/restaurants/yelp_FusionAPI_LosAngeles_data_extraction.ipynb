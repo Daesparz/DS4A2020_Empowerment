{
 "cells": [
  {
   "cell_type": "code",
   "execution_count": 1,
   "metadata": {},
   "outputs": [],
   "source": [
    "import pandas as pd\n",
    "import numpy as np\n",
    "import requests\n",
    "import json"
   ]
  },
  {
   "cell_type": "code",
   "execution_count": 2,
   "metadata": {},
   "outputs": [],
   "source": [
    "API_KEY = api_key"
   ]
  },
  {
   "cell_type": "code",
   "execution_count": 3,
   "metadata": {},
   "outputs": [],
   "source": [
    "client_id = client_id"
   ]
  },
  {
   "cell_type": "code",
   "execution_count": 4,
   "metadata": {},
   "outputs": [],
   "source": [
    "headers = {'Authorization': 'Bearer %s' % API_KEY}\n",
    "url='https://api.yelp.com/v3/businesses/search'"
   ]
  },
  {
   "cell_type": "code",
   "execution_count": 9,
   "metadata": {},
   "outputs": [],
   "source": [
    "zip_codes_LA = list(np.arange(90001, 90104))"
   ]
  },
  {
   "cell_type": "code",
   "execution_count": 10,
   "metadata": {},
   "outputs": [],
   "source": [
    "zip_codes_LA.append(90189)\n",
    "list_remove = [90069, 90085, 90090, 90092, 90097, 90098, 90100]\n",
    "\n",
    "for x in list_remove:\n",
    "    zip_codes_LA.remove(x)"
   ]
  },
  {
   "cell_type": "code",
   "execution_count": 7,
   "metadata": {},
   "outputs": [],
   "source": [
    "def get_values(key, list_dicts):\n",
    "    values = []\n",
    "    for dict_ in list_dicts:\n",
    "        try:\n",
    "            values.append(dict_[key])\n",
    "        except:\n",
    "            values.append(None)         \n",
    "    return values"
   ]
  },
  {
   "cell_type": "code",
   "execution_count": 12,
   "metadata": {
    "scrolled": false
   },
   "outputs": [
    {
     "name": "stdout",
     "output_type": "stream",
     "text": [
      "The status code is 200\n",
      "The status code is 200\n",
      "The status code is 200\n",
      "The status code is 200\n",
      "The status code is 200\n",
      "The status code is 200\n",
      "The status code is 200\n",
      "The status code is 200\n",
      "The status code is 200\n",
      "The status code is 200\n",
      "The status code is 200\n",
      "The status code is 200\n",
      "The status code is 200\n",
      "The status code is 200\n",
      "The status code is 200\n",
      "The status code is 200\n",
      "The status code is 200\n",
      "The status code is 200\n",
      "The status code is 200\n",
      "The status code is 200\n",
      "The status code is 200\n",
      "The status code is 200\n",
      "The status code is 200\n",
      "The status code is 200\n",
      "The status code is 200\n",
      "The status code is 200\n",
      "The status code is 200\n",
      "The status code is 200\n",
      "The status code is 200\n",
      "The status code is 200\n",
      "The status code is 200\n",
      "The status code is 200\n",
      "The status code is 200\n",
      "The status code is 200\n",
      "The status code is 200\n",
      "The status code is 200\n",
      "The status code is 200\n",
      "The status code is 200\n",
      "The status code is 200\n",
      "The status code is 200\n",
      "The status code is 200\n",
      "The status code is 200\n",
      "The status code is 200\n",
      "The status code is 200\n",
      "The status code is 200\n",
      "The status code is 200\n",
      "The status code is 200\n",
      "The status code is 200\n",
      "The status code is 200\n",
      "The status code is 200\n",
      "The status code is 200\n",
      "The status code is 200\n",
      "The status code is 200\n",
      "The status code is 200\n",
      "The status code is 200\n",
      "The status code is 200\n",
      "The status code is 200\n",
      "The status code is 200\n",
      "The status code is 200\n",
      "The status code is 200\n",
      "The status code is 200\n",
      "The status code is 200\n",
      "The status code is 200\n",
      "The status code is 200\n",
      "The status code is 200\n",
      "The status code is 200\n",
      "The status code is 200\n",
      "The status code is 200\n",
      "The status code is 200\n",
      "The status code is 200\n",
      "The status code is 200\n",
      "The status code is 200\n",
      "The status code is 200\n",
      "The status code is 200\n",
      "The status code is 200\n",
      "The status code is 200\n",
      "The status code is 200\n",
      "The status code is 200\n",
      "The status code is 200\n",
      "The status code is 200\n",
      "The status code is 200\n",
      "The status code is 200\n",
      "The status code is 200\n",
      "The status code is 200\n",
      "The status code is 200\n",
      "The status code is 200\n",
      "The status code is 200\n",
      "The status code is 200\n",
      "The status code is 200\n",
      "The status code is 200\n",
      "The status code is 200\n",
      "The status code is 200\n",
      "The status code is 200\n",
      "The status code is 200\n",
      "The status code is 200\n",
      "The status code is 400\n",
      "The status code is 200\n"
     ]
    }
   ],
   "source": [
    "ids, names, rating, review_count, price, location, coordinates, transactions, categories, is_closed = [],[],[],[],[],[],[],[],[],[]\n",
    "for zip_code in zip_codes_LA:\n",
    "    params = {'term':'restaurants', 'location': str(zip_code), 'limit':'50'}\n",
    "    req=requests.get(url, params=params, headers=headers)\n",
    "    \n",
    "    # proceed only if the status code is 200\n",
    "    print('The status code is {}'.format(req.status_code))\n",
    "    \n",
    "    parsed = json.loads(req.text)\n",
    "    try:\n",
    "        businesses = parsed['businesses']\n",
    "\n",
    "\n",
    "        ids.append(get_values('id', businesses))\n",
    "        names.append(get_values('name', businesses))\n",
    "        rating.append(get_values('rating', businesses))\n",
    "        review_count.append(get_values('review_count', businesses))\n",
    "        price.append(get_values('price', businesses))\n",
    "        location.append(get_values('location', businesses))\n",
    "        coordinates.append(get_values('coordinates', businesses))\n",
    "        transactions.append(get_values('transactions', businesses))\n",
    "        categories.append(get_values('categories', businesses))\n",
    "        is_closed.append(get_values('is_closed', businesses))\n",
    "    except:\n",
    "        pass"
   ]
  },
  {
   "cell_type": "code",
   "execution_count": 20,
   "metadata": {},
   "outputs": [],
   "source": [
    "list_attrs = [ids, names, rating, review_count,\n",
    "             price, transactions, is_closed]\n",
    "name_attrs = ['ids', 'names', 'rating', 'review_count',\n",
    "             'price', 'transactions', 'is_closed']"
   ]
  },
  {
   "cell_type": "code",
   "execution_count": 21,
   "metadata": {},
   "outputs": [],
   "source": [
    "dict_flat = {}\n",
    "for i, attrs in enumerate(list_attrs):\n",
    "    dict_flat[name_attrs[i]] = [x for attr in attrs for x in attr]"
   ]
  },
  {
   "cell_type": "code",
   "execution_count": 22,
   "metadata": {},
   "outputs": [],
   "source": [
    "alias_list = []\n",
    "title_list = []\n",
    "\n",
    "for category in categories:\n",
    "\n",
    "    for cat in category:\n",
    "        alias = []\n",
    "        title = []\n",
    "        for c in cat:\n",
    "            try:\n",
    "                alias.append(c[\"alias\"])\n",
    "                title.append(c[\"title\"])\n",
    "            except:\n",
    "                pass\n",
    "        alias_attr = ', '.join(alias)\n",
    "        title_attr = ', '.join(title)\n",
    "\n",
    "        alias_list.append(alias_attr) \n",
    "        title_list.append(title_attr) "
   ]
  },
  {
   "cell_type": "code",
   "execution_count": 23,
   "metadata": {},
   "outputs": [],
   "source": [
    "dict_flat['type_food'] = title_list\n",
    "dict_flat['type_food_alias'] = alias_list"
   ]
  },
  {
   "cell_type": "code",
   "execution_count": 24,
   "metadata": {},
   "outputs": [],
   "source": [
    "dict_flat['latitude'] = [x['latitude'] for coord in coordinates for x in coord]\n",
    "dict_flat['longitude'] = [x['longitude'] for coord in coordinates for x in coord]"
   ]
  },
  {
   "cell_type": "code",
   "execution_count": 25,
   "metadata": {},
   "outputs": [],
   "source": [
    "dict_flat['country'] = [x['country'] for loc in location for x in loc]\n",
    "dict_flat['state'] = [x['state'] for loc in location for x in loc]\n",
    "dict_flat['city'] = [x['city'] for loc in location for x in loc]\n",
    "dict_flat['zip_code'] = [x['zip_code'] for loc in location for x in loc]"
   ]
  },
  {
   "cell_type": "code",
   "execution_count": 26,
   "metadata": {},
   "outputs": [
    {
     "data": {
      "text/plain": [
       "dict_keys(['ids', 'names', 'rating', 'review_count', 'price', 'transactions', 'is_closed', 'type_food', 'type_food_alias', 'latitude', 'longitude', 'country', 'state', 'city', 'zip_code'])"
      ]
     },
     "execution_count": 26,
     "metadata": {},
     "output_type": "execute_result"
    }
   ],
   "source": [
    "dict_flat.keys()"
   ]
  },
  {
   "cell_type": "code",
   "execution_count": 27,
   "metadata": {},
   "outputs": [],
   "source": [
    "df = pd.DataFrame.from_dict(data=dict_flat)"
   ]
  },
  {
   "cell_type": "code",
   "execution_count": 28,
   "metadata": {},
   "outputs": [
    {
     "name": "stdout",
     "output_type": "stream",
     "text": [
      "<class 'pandas.core.frame.DataFrame'>\n",
      "RangeIndex: 4710 entries, 0 to 4709\n",
      "Data columns (total 15 columns):\n",
      "ids                4710 non-null object\n",
      "names              4710 non-null object\n",
      "rating             4710 non-null float64\n",
      "review_count       4710 non-null int64\n",
      "price              3809 non-null object\n",
      "transactions       4710 non-null object\n",
      "is_closed          4710 non-null bool\n",
      "type_food          4710 non-null object\n",
      "type_food_alias    4710 non-null object\n",
      "latitude           4710 non-null float64\n",
      "longitude          4710 non-null float64\n",
      "country            4710 non-null object\n",
      "state              4710 non-null object\n",
      "city               4710 non-null object\n",
      "zip_code           4710 non-null object\n",
      "dtypes: bool(1), float64(3), int64(1), object(10)\n",
      "memory usage: 519.8+ KB\n"
     ]
    }
   ],
   "source": [
    "df.info()"
   ]
  },
  {
   "cell_type": "code",
   "execution_count": 30,
   "metadata": {},
   "outputs": [],
   "source": [
    "def replace_empty_lists(list_entities):\n",
    "    if len(list_entities) < 1:\n",
    "        return None\n",
    "    return list_entities"
   ]
  },
  {
   "cell_type": "code",
   "execution_count": 31,
   "metadata": {},
   "outputs": [],
   "source": [
    "df['transactions_'] = df.transactions.apply(replace_empty_lists)"
   ]
  },
  {
   "cell_type": "code",
   "execution_count": 32,
   "metadata": {},
   "outputs": [
    {
     "data": {
      "text/html": [
       "<div>\n",
       "<style scoped>\n",
       "    .dataframe tbody tr th:only-of-type {\n",
       "        vertical-align: middle;\n",
       "    }\n",
       "\n",
       "    .dataframe tbody tr th {\n",
       "        vertical-align: top;\n",
       "    }\n",
       "\n",
       "    .dataframe thead th {\n",
       "        text-align: right;\n",
       "    }\n",
       "</style>\n",
       "<table border=\"1\" class=\"dataframe\">\n",
       "  <thead>\n",
       "    <tr style=\"text-align: right;\">\n",
       "      <th></th>\n",
       "      <th>ids</th>\n",
       "      <th>names</th>\n",
       "      <th>rating</th>\n",
       "      <th>review_count</th>\n",
       "      <th>price</th>\n",
       "      <th>transactions</th>\n",
       "      <th>is_closed</th>\n",
       "      <th>type_food</th>\n",
       "      <th>type_food_alias</th>\n",
       "      <th>latitude</th>\n",
       "      <th>longitude</th>\n",
       "      <th>country</th>\n",
       "      <th>state</th>\n",
       "      <th>city</th>\n",
       "      <th>zip_code</th>\n",
       "      <th>transactions_</th>\n",
       "    </tr>\n",
       "  </thead>\n",
       "  <tbody>\n",
       "    <tr>\n",
       "      <th>0</th>\n",
       "      <td>SlAhlIL5KAXb4136SHFkOw</td>\n",
       "      <td>Bangin Buns</td>\n",
       "      <td>4.0</td>\n",
       "      <td>5</td>\n",
       "      <td>None</td>\n",
       "      <td>[delivery, pickup]</td>\n",
       "      <td>False</td>\n",
       "      <td>Fast Food</td>\n",
       "      <td>hotdogs</td>\n",
       "      <td>33.975267</td>\n",
       "      <td>-118.248158</td>\n",
       "      <td>US</td>\n",
       "      <td>CA</td>\n",
       "      <td>Los Angeles</td>\n",
       "      <td>90001</td>\n",
       "      <td>[delivery, pickup]</td>\n",
       "    </tr>\n",
       "    <tr>\n",
       "      <th>1</th>\n",
       "      <td>spKUIFIABLaU63Ex4PEYvQ</td>\n",
       "      <td>Rays BBQ</td>\n",
       "      <td>4.5</td>\n",
       "      <td>801</td>\n",
       "      <td>$$</td>\n",
       "      <td>[delivery]</td>\n",
       "      <td>False</td>\n",
       "      <td>Barbeque, Smokehouse, Salad</td>\n",
       "      <td>bbq, smokehouse, salad</td>\n",
       "      <td>33.986598</td>\n",
       "      <td>-118.229803</td>\n",
       "      <td>US</td>\n",
       "      <td>CA</td>\n",
       "      <td>Huntington Park</td>\n",
       "      <td>90255</td>\n",
       "      <td>[delivery]</td>\n",
       "    </tr>\n",
       "    <tr>\n",
       "      <th>2</th>\n",
       "      <td>hARUOlpi_buVjoU0gN2ugw</td>\n",
       "      <td>La Zona Sushi</td>\n",
       "      <td>5.0</td>\n",
       "      <td>7</td>\n",
       "      <td>None</td>\n",
       "      <td>[delivery, pickup]</td>\n",
       "      <td>False</td>\n",
       "      <td>Sushi Bars</td>\n",
       "      <td>sushi</td>\n",
       "      <td>33.982125</td>\n",
       "      <td>-118.238637</td>\n",
       "      <td>US</td>\n",
       "      <td>CA</td>\n",
       "      <td>Los Angeles</td>\n",
       "      <td>90001</td>\n",
       "      <td>[delivery, pickup]</td>\n",
       "    </tr>\n",
       "    <tr>\n",
       "      <th>3</th>\n",
       "      <td>RYpJyi1RhScLZAYrqPMLKQ</td>\n",
       "      <td>Avila's El Ranchito Mexican Restaurant</td>\n",
       "      <td>4.5</td>\n",
       "      <td>666</td>\n",
       "      <td>$$</td>\n",
       "      <td>[delivery, pickup]</td>\n",
       "      <td>False</td>\n",
       "      <td>Mexican</td>\n",
       "      <td>mexican</td>\n",
       "      <td>33.978496</td>\n",
       "      <td>-118.230545</td>\n",
       "      <td>US</td>\n",
       "      <td>CA</td>\n",
       "      <td>Huntington Park</td>\n",
       "      <td>90255</td>\n",
       "      <td>[delivery, pickup]</td>\n",
       "    </tr>\n",
       "    <tr>\n",
       "      <th>4</th>\n",
       "      <td>ACm6CB7VI0d-K5qNzEODhg</td>\n",
       "      <td>Lettuce Feast</td>\n",
       "      <td>4.0</td>\n",
       "      <td>206</td>\n",
       "      <td>$$</td>\n",
       "      <td>[]</td>\n",
       "      <td>False</td>\n",
       "      <td>Food Trucks, Vegan, Comfort Food</td>\n",
       "      <td>foodtrucks, vegan, comfortfood</td>\n",
       "      <td>33.978530</td>\n",
       "      <td>-118.249700</td>\n",
       "      <td>US</td>\n",
       "      <td>CA</td>\n",
       "      <td>Los Angeles</td>\n",
       "      <td>90001</td>\n",
       "      <td>None</td>\n",
       "    </tr>\n",
       "  </tbody>\n",
       "</table>\n",
       "</div>"
      ],
      "text/plain": [
       "                      ids                                   names  rating  \\\n",
       "0  SlAhlIL5KAXb4136SHFkOw                             Bangin Buns     4.0   \n",
       "1  spKUIFIABLaU63Ex4PEYvQ                                Rays BBQ     4.5   \n",
       "2  hARUOlpi_buVjoU0gN2ugw                           La Zona Sushi     5.0   \n",
       "3  RYpJyi1RhScLZAYrqPMLKQ  Avila's El Ranchito Mexican Restaurant     4.5   \n",
       "4  ACm6CB7VI0d-K5qNzEODhg                           Lettuce Feast     4.0   \n",
       "\n",
       "   review_count price        transactions  is_closed  \\\n",
       "0             5  None  [delivery, pickup]      False   \n",
       "1           801    $$          [delivery]      False   \n",
       "2             7  None  [delivery, pickup]      False   \n",
       "3           666    $$  [delivery, pickup]      False   \n",
       "4           206    $$                  []      False   \n",
       "\n",
       "                          type_food                 type_food_alias  \\\n",
       "0                         Fast Food                         hotdogs   \n",
       "1       Barbeque, Smokehouse, Salad          bbq, smokehouse, salad   \n",
       "2                        Sushi Bars                           sushi   \n",
       "3                           Mexican                         mexican   \n",
       "4  Food Trucks, Vegan, Comfort Food  foodtrucks, vegan, comfortfood   \n",
       "\n",
       "    latitude   longitude country state             city zip_code  \\\n",
       "0  33.975267 -118.248158      US    CA      Los Angeles    90001   \n",
       "1  33.986598 -118.229803      US    CA  Huntington Park    90255   \n",
       "2  33.982125 -118.238637      US    CA      Los Angeles    90001   \n",
       "3  33.978496 -118.230545      US    CA  Huntington Park    90255   \n",
       "4  33.978530 -118.249700      US    CA      Los Angeles    90001   \n",
       "\n",
       "        transactions_  \n",
       "0  [delivery, pickup]  \n",
       "1          [delivery]  \n",
       "2  [delivery, pickup]  \n",
       "3  [delivery, pickup]  \n",
       "4                None  "
      ]
     },
     "execution_count": 32,
     "metadata": {},
     "output_type": "execute_result"
    }
   ],
   "source": [
    "df.head()"
   ]
  },
  {
   "cell_type": "code",
   "execution_count": 33,
   "metadata": {},
   "outputs": [],
   "source": [
    "df.to_csv('../../data/interim/restaurants/yelp_losAngeles.csv')"
   ]
  },
  {
   "cell_type": "code",
   "execution_count": null,
   "metadata": {},
   "outputs": [],
   "source": []
  }
 ],
 "metadata": {
  "kernelspec": {
   "display_name": "Python 3",
   "language": "python",
   "name": "python3"
  },
  "language_info": {
   "codemirror_mode": {
    "name": "ipython",
    "version": 3
   },
   "file_extension": ".py",
   "mimetype": "text/x-python",
   "name": "python",
   "nbconvert_exporter": "python",
   "pygments_lexer": "ipython3",
   "version": "3.6.7"
  }
 },
 "nbformat": 4,
 "nbformat_minor": 2
}
