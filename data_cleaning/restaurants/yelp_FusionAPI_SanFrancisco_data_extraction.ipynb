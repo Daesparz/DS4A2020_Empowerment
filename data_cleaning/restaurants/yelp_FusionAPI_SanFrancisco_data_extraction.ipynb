{
 "cells": [
  {
   "cell_type": "code",
   "execution_count": 1,
   "metadata": {},
   "outputs": [],
   "source": [
    "import pandas as pd\n",
    "import requests\n",
    "import json"
   ]
  },
  {
   "cell_type": "code",
   "execution_count": 2,
   "metadata": {},
   "outputs": [],
   "source": [
    "API_KEY = API_KEY"
   ]
  },
  {
   "cell_type": "code",
   "execution_count": 3,
   "metadata": {},
   "outputs": [],
   "source": [
    "client_id = 'ZPsDRbHzglthukFTIg4SEA'"
   ]
  },
  {
   "cell_type": "code",
   "execution_count": 4,
   "metadata": {},
   "outputs": [],
   "source": [
    "headers = {'Authorization': 'Bearer %s' % API_KEY}\n",
    "url='https://api.yelp.com/v3/businesses/search'"
   ]
  },
  {
   "cell_type": "code",
   "execution_count": 5,
   "metadata": {},
   "outputs": [],
   "source": [
    "zip_codes_SF = [94102, 94104, 94103, 94105, 94108, 94107, 94110, \n",
    "                94109, 94112, 94111, 94115, 94114, 94117, 94116,\n",
    "                94118, 94121, 94123, 94122, 94124, 94127, 94126,\n",
    "                94129, 94131, 94130, 94133, 94132, 94134, 94139,\n",
    "                94143, 94151, 94159, 94158, 94188, 94177, 94132,\n",
    "                94122, 94116, 94124, 94121, 94118, 94117, 94114, \n",
    "                94124, 94107, 94133, 94108]"
   ]
  },
  {
   "cell_type": "code",
   "execution_count": 6,
   "metadata": {},
   "outputs": [],
   "source": [
    "def get_values(key, list_dicts):\n",
    "    values = []\n",
    "    for dict_ in list_dicts:\n",
    "        try:\n",
    "            values.append(dict_[key])\n",
    "        except:\n",
    "            values.append(None)         \n",
    "    return values"
   ]
  },
  {
   "cell_type": "code",
   "execution_count": 7,
   "metadata": {
    "scrolled": false
   },
   "outputs": [
    {
     "name": "stdout",
     "output_type": "stream",
     "text": [
      "The status code is 200\n",
      "The status code is 200\n",
      "The status code is 200\n",
      "The status code is 200\n",
      "The status code is 200\n",
      "The status code is 200\n",
      "The status code is 200\n",
      "The status code is 200\n",
      "The status code is 200\n",
      "The status code is 200\n",
      "The status code is 200\n",
      "The status code is 200\n",
      "The status code is 200\n",
      "The status code is 200\n",
      "The status code is 200\n",
      "The status code is 200\n",
      "The status code is 200\n",
      "The status code is 200\n",
      "The status code is 200\n",
      "The status code is 200\n",
      "The status code is 200\n",
      "The status code is 200\n",
      "The status code is 200\n",
      "The status code is 200\n",
      "The status code is 200\n",
      "The status code is 200\n",
      "The status code is 200\n",
      "The status code is 200\n",
      "The status code is 200\n",
      "The status code is 200\n",
      "The status code is 200\n",
      "The status code is 200\n",
      "The status code is 200\n",
      "The status code is 200\n",
      "The status code is 200\n",
      "The status code is 200\n",
      "The status code is 200\n",
      "The status code is 200\n",
      "The status code is 200\n",
      "The status code is 200\n",
      "The status code is 200\n",
      "The status code is 200\n",
      "The status code is 200\n",
      "The status code is 200\n",
      "The status code is 200\n",
      "The status code is 200\n"
     ]
    }
   ],
   "source": [
    "ids, names, rating, review_count, price, location, coordinates, transactions, categories, is_closed = [],[],[],[],[],[],[],[],[],[]\n",
    "for zip_code in zip_codes_SF:\n",
    "    params = {'term':'restaurants', 'location': str(zip_code), 'limit':'50'}\n",
    "    req=requests.get(url, params=params, headers=headers)\n",
    "    \n",
    "    # proceed only if the status code is 200\n",
    "    print('The status code is {}'.format(req.status_code))\n",
    "    \n",
    "    parsed = json.loads(req.text)\n",
    "    try:\n",
    "        businesses = parsed['businesses']\n",
    "\n",
    "\n",
    "        ids.append(get_values('id', businesses))\n",
    "        names.append(get_values('name', businesses))\n",
    "        rating.append(get_values('rating', businesses))\n",
    "        review_count.append(get_values('review_count', businesses))\n",
    "        price.append(get_values('price', businesses))\n",
    "        location.append(get_values('location', businesses))\n",
    "        coordinates.append(get_values('coordinates', businesses))\n",
    "        transactions.append(get_values('transactions', businesses))\n",
    "        categories.append(get_values('categories', businesses))\n",
    "        is_closed.append(get_values('is_closed', businesses))\n",
    "    except:\n",
    "        pass"
   ]
  },
  {
   "cell_type": "code",
   "execution_count": 8,
   "metadata": {},
   "outputs": [],
   "source": [
    "list_attrs = [ids, names, rating, review_count,\n",
    "             price, transactions, is_closed]\n",
    "name_attrs = ['ids', 'names', 'rating', 'review_count',\n",
    "             'price', 'transactions', 'is_closed']"
   ]
  },
  {
   "cell_type": "code",
   "execution_count": 9,
   "metadata": {},
   "outputs": [],
   "source": [
    "dict_flat = {}\n",
    "for i, attrs in enumerate(list_attrs):\n",
    "    dict_flat[name_attrs[i]] = [x for attr in attrs for x in attr]"
   ]
  },
  {
   "cell_type": "code",
   "execution_count": 10,
   "metadata": {},
   "outputs": [],
   "source": [
    "alias_list = []\n",
    "title_list = []\n",
    "\n",
    "for category in categories:\n",
    "\n",
    "    for cat in category:\n",
    "        alias = []\n",
    "        title = []\n",
    "        for c in cat:\n",
    "            try:\n",
    "                alias.append(c[\"alias\"])\n",
    "                title.append(c[\"title\"])\n",
    "            except:\n",
    "                pass\n",
    "        alias_attr = ', '.join(alias)\n",
    "        title_attr = ', '.join(title)\n",
    "\n",
    "        alias_list.append(alias_attr) \n",
    "        title_list.append(title_attr) "
   ]
  },
  {
   "cell_type": "code",
   "execution_count": 11,
   "metadata": {},
   "outputs": [],
   "source": [
    "dict_flat['type_food'] = title_list\n",
    "dict_flat['type_food_alias'] = alias_list"
   ]
  },
  {
   "cell_type": "code",
   "execution_count": 12,
   "metadata": {},
   "outputs": [],
   "source": [
    "dict_flat['latitude'] = [x['latitude'] for coord in coordinates for x in coord]\n",
    "dict_flat['longitude'] = [x['longitude'] for coord in coordinates for x in coord]"
   ]
  },
  {
   "cell_type": "code",
   "execution_count": 13,
   "metadata": {},
   "outputs": [],
   "source": [
    "dict_flat['country'] = [x['country'] for loc in location for x in loc]\n",
    "dict_flat['state'] = [x['state'] for loc in location for x in loc]\n",
    "dict_flat['city'] = [x['city'] for loc in location for x in loc]\n",
    "dict_flat['zip_code'] = [x['zip_code'] for loc in location for x in loc]"
   ]
  },
  {
   "cell_type": "code",
   "execution_count": 14,
   "metadata": {},
   "outputs": [
    {
     "data": {
      "text/plain": [
       "dict_keys(['ids', 'names', 'rating', 'review_count', 'price', 'transactions', 'is_closed', 'type_food', 'type_food_alias', 'latitude', 'longitude', 'country', 'state', 'city', 'zip_code'])"
      ]
     },
     "execution_count": 14,
     "metadata": {},
     "output_type": "execute_result"
    }
   ],
   "source": [
    "dict_flat.keys()"
   ]
  },
  {
   "cell_type": "code",
   "execution_count": 15,
   "metadata": {},
   "outputs": [],
   "source": [
    "df = pd.DataFrame.from_dict(data=dict_flat)"
   ]
  },
  {
   "cell_type": "code",
   "execution_count": 16,
   "metadata": {},
   "outputs": [
    {
     "name": "stdout",
     "output_type": "stream",
     "text": [
      "<class 'pandas.core.frame.DataFrame'>\n",
      "RangeIndex: 2256 entries, 0 to 2255\n",
      "Data columns (total 15 columns):\n",
      "ids                2256 non-null object\n",
      "names              2256 non-null object\n",
      "rating             2256 non-null float64\n",
      "review_count       2256 non-null int64\n",
      "price              1761 non-null object\n",
      "transactions       2256 non-null object\n",
      "is_closed          2256 non-null bool\n",
      "type_food          2256 non-null object\n",
      "type_food_alias    2256 non-null object\n",
      "latitude           2256 non-null float64\n",
      "longitude          2256 non-null float64\n",
      "country            2256 non-null object\n",
      "state              2256 non-null object\n",
      "city               2256 non-null object\n",
      "zip_code           2256 non-null object\n",
      "dtypes: bool(1), float64(3), int64(1), object(10)\n",
      "memory usage: 249.0+ KB\n"
     ]
    }
   ],
   "source": [
    "df.info()"
   ]
  },
  {
   "cell_type": "code",
   "execution_count": 17,
   "metadata": {},
   "outputs": [],
   "source": [
    "def replace_empty_lists(list_entities):\n",
    "    if len(list_entities) < 1:\n",
    "        return None\n",
    "    return list_entities"
   ]
  },
  {
   "cell_type": "code",
   "execution_count": 18,
   "metadata": {},
   "outputs": [],
   "source": [
    "df['transactions'] = df.transactions.apply(replace_empty_lists)"
   ]
  },
  {
   "cell_type": "code",
   "execution_count": 19,
   "metadata": {},
   "outputs": [
    {
     "data": {
      "text/html": [
       "<div>\n",
       "<style scoped>\n",
       "    .dataframe tbody tr th:only-of-type {\n",
       "        vertical-align: middle;\n",
       "    }\n",
       "\n",
       "    .dataframe tbody tr th {\n",
       "        vertical-align: top;\n",
       "    }\n",
       "\n",
       "    .dataframe thead th {\n",
       "        text-align: right;\n",
       "    }\n",
       "</style>\n",
       "<table border=\"1\" class=\"dataframe\">\n",
       "  <thead>\n",
       "    <tr style=\"text-align: right;\">\n",
       "      <th></th>\n",
       "      <th>ids</th>\n",
       "      <th>names</th>\n",
       "      <th>rating</th>\n",
       "      <th>review_count</th>\n",
       "      <th>price</th>\n",
       "      <th>transactions</th>\n",
       "      <th>is_closed</th>\n",
       "      <th>type_food</th>\n",
       "      <th>type_food_alias</th>\n",
       "      <th>latitude</th>\n",
       "      <th>longitude</th>\n",
       "      <th>country</th>\n",
       "      <th>state</th>\n",
       "      <th>city</th>\n",
       "      <th>zip_code</th>\n",
       "    </tr>\n",
       "  </thead>\n",
       "  <tbody>\n",
       "    <tr>\n",
       "      <th>0</th>\n",
       "      <td>vmZ-bgnM5B76NUpegAjy1g</td>\n",
       "      <td>Hotbird</td>\n",
       "      <td>4.5</td>\n",
       "      <td>129</td>\n",
       "      <td>None</td>\n",
       "      <td>None</td>\n",
       "      <td>False</td>\n",
       "      <td>Sandwiches, Chicken Shop, Burgers</td>\n",
       "      <td>sandwiches, chickenshop, burgers</td>\n",
       "      <td>37.776800</td>\n",
       "      <td>-122.416264</td>\n",
       "      <td>US</td>\n",
       "      <td>CA</td>\n",
       "      <td>San Francisco</td>\n",
       "      <td>94103</td>\n",
       "    </tr>\n",
       "    <tr>\n",
       "      <th>1</th>\n",
       "      <td>kFgjHGp-cTUK5uPaSJOORA</td>\n",
       "      <td>Souvla</td>\n",
       "      <td>4.0</td>\n",
       "      <td>1414</td>\n",
       "      <td>$$</td>\n",
       "      <td>[delivery]</td>\n",
       "      <td>False</td>\n",
       "      <td>Greek, Mediterranean</td>\n",
       "      <td>greek, mediterranean</td>\n",
       "      <td>37.776430</td>\n",
       "      <td>-122.425000</td>\n",
       "      <td>US</td>\n",
       "      <td>CA</td>\n",
       "      <td>San Francisco</td>\n",
       "      <td>94102</td>\n",
       "    </tr>\n",
       "    <tr>\n",
       "      <th>2</th>\n",
       "      <td>KA-P3d2NcbJy5SQN-vCzPA</td>\n",
       "      <td>Aria Korean Street Food</td>\n",
       "      <td>4.0</td>\n",
       "      <td>882</td>\n",
       "      <td>$$</td>\n",
       "      <td>[delivery, pickup]</td>\n",
       "      <td>False</td>\n",
       "      <td>Korean, Tapas/Small Plates, Chicken Shop</td>\n",
       "      <td>korean, tapasmallplates, chickenshop</td>\n",
       "      <td>37.786550</td>\n",
       "      <td>-122.417950</td>\n",
       "      <td>US</td>\n",
       "      <td>CA</td>\n",
       "      <td>San Francisco</td>\n",
       "      <td>94109</td>\n",
       "    </tr>\n",
       "    <tr>\n",
       "      <th>3</th>\n",
       "      <td>AMhxom9yhQjTkFRMTKk_IA</td>\n",
       "      <td>WingSlut</td>\n",
       "      <td>5.0</td>\n",
       "      <td>5</td>\n",
       "      <td>None</td>\n",
       "      <td>None</td>\n",
       "      <td>False</td>\n",
       "      <td>Chicken Wings, Fast Food, Asian Fusion</td>\n",
       "      <td>chicken_wings, hotdogs, asianfusion</td>\n",
       "      <td>37.776775</td>\n",
       "      <td>-122.416414</td>\n",
       "      <td>US</td>\n",
       "      <td>CA</td>\n",
       "      <td>San Francisco</td>\n",
       "      <td>94103</td>\n",
       "    </tr>\n",
       "    <tr>\n",
       "      <th>4</th>\n",
       "      <td>lJAGnYzku5zSaLnQ_T6_GQ</td>\n",
       "      <td>Brenda's French Soul Food</td>\n",
       "      <td>4.0</td>\n",
       "      <td>11054</td>\n",
       "      <td>$$</td>\n",
       "      <td>[delivery]</td>\n",
       "      <td>False</td>\n",
       "      <td>Breakfast &amp; Brunch, Southern, Cajun/Creole</td>\n",
       "      <td>breakfast_brunch, southern, cajun</td>\n",
       "      <td>37.782902</td>\n",
       "      <td>-122.419043</td>\n",
       "      <td>US</td>\n",
       "      <td>CA</td>\n",
       "      <td>San Francisco</td>\n",
       "      <td>94102</td>\n",
       "    </tr>\n",
       "  </tbody>\n",
       "</table>\n",
       "</div>"
      ],
      "text/plain": [
       "                      ids                      names  rating  review_count  \\\n",
       "0  vmZ-bgnM5B76NUpegAjy1g                    Hotbird     4.5           129   \n",
       "1  kFgjHGp-cTUK5uPaSJOORA                     Souvla     4.0          1414   \n",
       "2  KA-P3d2NcbJy5SQN-vCzPA    Aria Korean Street Food     4.0           882   \n",
       "3  AMhxom9yhQjTkFRMTKk_IA                   WingSlut     5.0             5   \n",
       "4  lJAGnYzku5zSaLnQ_T6_GQ  Brenda's French Soul Food     4.0         11054   \n",
       "\n",
       "  price        transactions  is_closed  \\\n",
       "0  None                None      False   \n",
       "1    $$          [delivery]      False   \n",
       "2    $$  [delivery, pickup]      False   \n",
       "3  None                None      False   \n",
       "4    $$          [delivery]      False   \n",
       "\n",
       "                                    type_food  \\\n",
       "0           Sandwiches, Chicken Shop, Burgers   \n",
       "1                        Greek, Mediterranean   \n",
       "2    Korean, Tapas/Small Plates, Chicken Shop   \n",
       "3      Chicken Wings, Fast Food, Asian Fusion   \n",
       "4  Breakfast & Brunch, Southern, Cajun/Creole   \n",
       "\n",
       "                        type_food_alias   latitude   longitude country state  \\\n",
       "0      sandwiches, chickenshop, burgers  37.776800 -122.416264      US    CA   \n",
       "1                  greek, mediterranean  37.776430 -122.425000      US    CA   \n",
       "2  korean, tapasmallplates, chickenshop  37.786550 -122.417950      US    CA   \n",
       "3   chicken_wings, hotdogs, asianfusion  37.776775 -122.416414      US    CA   \n",
       "4     breakfast_brunch, southern, cajun  37.782902 -122.419043      US    CA   \n",
       "\n",
       "            city zip_code  \n",
       "0  San Francisco    94103  \n",
       "1  San Francisco    94102  \n",
       "2  San Francisco    94109  \n",
       "3  San Francisco    94103  \n",
       "4  San Francisco    94102  "
      ]
     },
     "execution_count": 19,
     "metadata": {},
     "output_type": "execute_result"
    }
   ],
   "source": [
    "df.head()"
   ]
  },
  {
   "cell_type": "code",
   "execution_count": 20,
   "metadata": {},
   "outputs": [],
   "source": [
    "df.to_csv('../../data/interim/restaurants/yelp_sanfrancisco.csv', index=False)"
   ]
  },
  {
   "cell_type": "code",
   "execution_count": null,
   "metadata": {},
   "outputs": [],
   "source": []
  }
 ],
 "metadata": {
  "kernelspec": {
   "display_name": "Python 3",
   "language": "python",
   "name": "python3"
  },
  "language_info": {
   "codemirror_mode": {
    "name": "ipython",
    "version": 3
   },
   "file_extension": ".py",
   "mimetype": "text/x-python",
   "name": "python",
   "nbconvert_exporter": "python",
   "pygments_lexer": "ipython3",
   "version": "3.6.7"
  }
 },
 "nbformat": 4,
 "nbformat_minor": 2
}
