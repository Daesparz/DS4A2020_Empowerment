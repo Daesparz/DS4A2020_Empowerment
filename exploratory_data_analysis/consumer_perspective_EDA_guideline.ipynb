{
 "cells": [
  {
   "cell_type": "markdown",
   "metadata": {},
   "source": [
    "# Exploratory Data Analysis Part 2: Consumer perspective\n",
    "\n",
    "## Context:\n",
    "\n",
    "According to Dr. Anthony Fauci, the nation’s top infectious disease expert, until 75 percent of people are vaccinated, we should all continue to wear masks and maintain social distancing, even if we’ve been vaccinated. That means movie theaters, indoor dining, sporting events and travel would remain challenged.\n",
    "\n",
    "In other words, unless three quarters of the nation is vaccinated, the engine of the economy will not jump start the way so many are hoping. The debates about health restrictions and economic stimulus plans would continue.\n",
    "\n",
    "## Contents: \n",
    "\n",
    "\n",
    "### 1. Introduction (once we finish the EDA)\n",
    "\n",
    "\n",
    "### 2. Exploratory Data Analysis\n",
    "\n",
    "Complement plots with research. \n",
    "\n",
    "1. Consumer Behavior: Dining-in impact\n",
    "    - Restaurants Reservations: Overall impact of Covid-19 on the industry through seated diners\n",
    "        - Plot % seated diners: showing % seated diners comparisons in the US and on granular level (states).\n",
    "        - Plot % of seated diners year over year by the same day of the week from the same week in the previous year. National and on granular level (states).\n",
    "    \n",
    "2. Overall expenditures and changes in consumer Behavior\n",
    "**Relevant demographics: gender, states, cities, income, children at home, marital status**\n",
    "    - Spending variables\n",
    "        - Plotbar EIP: Use of Economic Impact Payment (Stimulus) and plot EIPSPND (Spending use of Economic Impact Payment). Percent change of EIPSPND over time split by food and others (weekly and grouping by demographics).\n",
    "        - Plot Difficulty with expenses (EXPNS_DIF)\n",
    "    - Shopping variables\n",
    "        - Plot CHNGHOW1-CHNGHOW12: Spending and shopping change\n",
    "        - Plot Purchases modality\n",
    "        - Cash/credit card\n",
    "        - Resumed/avoided eating at restaurants\n",
    "        - Fewer trips to stores and trips transit.\n",
    "    - Why spending/shopping changed: Barplot reasons split by demographics.\n",
    "\n",
    "3. Mobility Changes in Response to COVID-19 (for EDA part 2, granular data by county)\n",
    "    - Compare visits and length of stay at different places (Descartes Lab Mobility Change dataset, states). **Check how states have more granular data.**\n",
    "    - The relative amount of route requests for each country/region, subregion, or city compared to the baseline volume on January 13, 2020. The dataset record ranges from Jan 2020 to October 2020.\n",
    "    - Visit length and average duration in restaurants, groceries (Foursquare Mobility Reports)\n",
    "    - "
   ]
  },
  {
   "cell_type": "code",
   "execution_count": null,
   "metadata": {},
   "outputs": [],
   "source": []
  }
 ],
 "metadata": {
  "kernelspec": {
   "display_name": "Python 3",
   "language": "python",
   "name": "python3"
  },
  "language_info": {
   "codemirror_mode": {
    "name": "ipython",
    "version": 3
   },
   "file_extension": ".py",
   "mimetype": "text/x-python",
   "name": "python",
   "nbconvert_exporter": "python",
   "pygments_lexer": "ipython3",
   "version": "3.6.7"
  }
 },
 "nbformat": 4,
 "nbformat_minor": 2
}
