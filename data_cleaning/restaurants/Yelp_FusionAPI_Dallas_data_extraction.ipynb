{
 "cells": [
  {
   "cell_type": "code",
   "execution_count": 1,
   "metadata": {},
   "outputs": [],
   "source": [
    "import pandas as pd\n",
    "import requests\n",
    "import json"
   ]
  },
  {
   "cell_type": "code",
   "execution_count": 2,
   "metadata": {
    "scrolled": true
   },
   "outputs": [],
   "source": [
    "API_KEY = '7hlj8jHWV-jS57G2WGJEO0ROpEZAedHNxxd_4JMu1rdOW8ltXVO6Weeo-f_Tmpsm2_p-eG-Bq0wXMHHkerq33ul52MwZGynRQHwphIPSbeZl9BwZ_R-xuGg-Uqm-XHYx'"
   ]
  },
  {
   "cell_type": "code",
   "execution_count": 3,
   "metadata": {},
   "outputs": [],
   "source": [
    "headers = {'Authorization': 'Bearer %s' % API_KEY}\n",
    "url='https://api.yelp.com/v3/businesses/search'"
   ]
  },
  {
   "cell_type": "code",
   "execution_count": 4,
   "metadata": {},
   "outputs": [],
   "source": [
    "zip_codes_Dallas = {75201, 75202, 75203, 75204, 75205, 75206, 75207, 75208, 75209, 75210, 75211, 75212, 75214, 75215, \n",
    "                    75216, 75217, 75218, 75219, 75220, 75221, 75222, 75223, 75224, 75225, 75226, 75227, 75228, 75229, \n",
    "                    75230, 75231, 75232, 75233, 75234, 75235, 75236, 75237, 75238, 75239, 75240, 75241, 75242, 75243, \n",
    "                    75244, 75245, 75246, 75247, 75248, 75249, 75250, 75251, 75252, 75253, 75258, 75260, 75261, 75262, \n",
    "                    75263, 75264, 75265, 75266, 75267, 75270, 75275, 75277, 75283, 75284, 75285, 75286, 75287, 75294, \n",
    "                    75295, 75301, 75303, 75310, 75312, 75313, 75315, 75320, 75323, 75326, 75336, 75339, 75342, 75346, \n",
    "                    75350, 75353, 75354, 75355, 75356, 75357, 75359, 75360, 75363, 75364, 75367, 75368, 75370, 75371, \n",
    "                    75372, 75373, 75374, 75376, 75378, 75379, 75380, 75381, 75382, 75386, 75387, 75388, 75389, 75390, \n",
    "                    75391, 75392, 75393, 75394, 75395, 75396, 75397, 75398 }"
   ]
  },
  {
   "cell_type": "code",
   "execution_count": 5,
   "metadata": {},
   "outputs": [],
   "source": [
    "def get_values(key, list_dicts):\n",
    "    values = []\n",
    "    for dict_ in list_dicts:\n",
    "        try:\n",
    "            values.append(dict_[key])\n",
    "        except:\n",
    "            values.append(None)         \n",
    "    return values"
   ]
  },
  {
   "cell_type": "code",
   "execution_count": 6,
   "metadata": {},
   "outputs": [
    {
     "name": "stdout",
     "output_type": "stream",
     "text": [
      "The status code is 200\n",
      "The status code is 200\n",
      "The status code is 200\n",
      "The status code is 200\n",
      "The status code is 200\n",
      "The status code is 200\n",
      "The status code is 200\n",
      "The status code is 200\n",
      "The status code is 200\n",
      "The status code is 200\n",
      "The status code is 400\n",
      "The status code is 200\n",
      "The status code is 400\n",
      "The status code is 400\n",
      "The status code is 200\n",
      "The status code is 200\n",
      "The status code is 200\n",
      "The status code is 200\n",
      "The status code is 200\n",
      "The status code is 200\n",
      "The status code is 200\n",
      "The status code is 400\n",
      "The status code is 200\n",
      "The status code is 200\n",
      "The status code is 200\n",
      "The status code is 200\n",
      "The status code is 200\n",
      "The status code is 200\n",
      "The status code is 400\n",
      "The status code is 200\n",
      "The status code is 200\n",
      "The status code is 200\n",
      "The status code is 200\n",
      "The status code is 200\n",
      "The status code is 200\n",
      "The status code is 200\n",
      "The status code is 200\n",
      "The status code is 200\n",
      "The status code is 200\n",
      "The status code is 200\n",
      "The status code is 200\n",
      "The status code is 200\n",
      "The status code is 200\n",
      "The status code is 200\n",
      "The status code is 200\n",
      "The status code is 200\n",
      "The status code is 200\n",
      "The status code is 200\n",
      "The status code is 200\n",
      "The status code is 200\n",
      "The status code is 200\n",
      "The status code is 200\n",
      "The status code is 200\n",
      "The status code is 200\n",
      "The status code is 200\n",
      "The status code is 200\n",
      "The status code is 200\n",
      "The status code is 200\n",
      "The status code is 200\n",
      "The status code is 200\n",
      "The status code is 200\n",
      "The status code is 200\n",
      "The status code is 200\n",
      "The status code is 200\n",
      "The status code is 200\n",
      "The status code is 200\n",
      "The status code is 200\n",
      "The status code is 200\n",
      "The status code is 200\n",
      "The status code is 200\n",
      "The status code is 200\n",
      "The status code is 200\n",
      "The status code is 200\n",
      "The status code is 200\n",
      "The status code is 200\n",
      "The status code is 200\n",
      "The status code is 200\n",
      "The status code is 200\n",
      "The status code is 200\n",
      "The status code is 200\n",
      "The status code is 200\n",
      "The status code is 200\n",
      "The status code is 200\n",
      "The status code is 200\n",
      "The status code is 200\n",
      "The status code is 200\n",
      "The status code is 200\n",
      "The status code is 200\n",
      "The status code is 200\n",
      "The status code is 200\n",
      "The status code is 200\n",
      "The status code is 200\n",
      "The status code is 200\n",
      "The status code is 200\n",
      "The status code is 200\n",
      "The status code is 200\n",
      "The status code is 200\n",
      "The status code is 200\n",
      "The status code is 200\n",
      "The status code is 200\n",
      "The status code is 400\n",
      "The status code is 200\n",
      "The status code is 200\n",
      "The status code is 200\n",
      "The status code is 200\n",
      "The status code is 200\n",
      "The status code is 200\n",
      "The status code is 200\n",
      "The status code is 200\n",
      "The status code is 200\n",
      "The status code is 200\n",
      "The status code is 200\n",
      "The status code is 200\n",
      "The status code is 200\n",
      "The status code is 200\n",
      "The status code is 200\n",
      "The status code is 200\n",
      "The status code is 200\n",
      "The status code is 200\n",
      "The status code is 200\n"
     ]
    }
   ],
   "source": [
    "ids, names, rating, review_count, price, location, coordinates, transactions, categories, is_closed = [],[],[],[],[],[],[],[],[],[]\n",
    "for zip_code in zip_codes_Dallas:\n",
    "    params = {'term':'restaurants', 'location': str(zip_code), 'limit':'50'}\n",
    "    req=requests.get(url, params=params, headers=headers)\n",
    "    \n",
    "    # proceed only if the status code is 200\n",
    "    print('The status code is {}'.format(req.status_code))\n",
    "    \n",
    "    parsed = json.loads(req.text)\n",
    "    try:\n",
    "        businesses = parsed['businesses']\n",
    "\n",
    "\n",
    "        ids.append(get_values('id', businesses))\n",
    "        names.append(get_values('name', businesses))\n",
    "        rating.append(get_values('rating', businesses))\n",
    "        review_count.append(get_values('review_count', businesses))\n",
    "        price.append(get_values('price', businesses))\n",
    "        location.append(get_values('location', businesses))\n",
    "        coordinates.append(get_values('coordinates', businesses))\n",
    "        transactions.append(get_values('transactions', businesses))\n",
    "        categories.append(get_values('categories', businesses))\n",
    "        is_closed.append(get_values('is_closed', businesses))\n",
    "    except:\n",
    "        pass"
   ]
  },
  {
   "cell_type": "code",
   "execution_count": 7,
   "metadata": {},
   "outputs": [],
   "source": [
    "list_attrs = [ids, names, rating, review_count,\n",
    "             price, transactions, is_closed]\n",
    "name_attrs = ['ids', 'names', 'rating', 'review_count',\n",
    "             'price', 'transactions', 'is_closed']"
   ]
  },
  {
   "cell_type": "code",
   "execution_count": 8,
   "metadata": {},
   "outputs": [],
   "source": [
    "dict_flat = {}\n",
    "for i, attrs in enumerate(list_attrs):\n",
    "    dict_flat[name_attrs[i]] = [x for attr in attrs for x in attr]"
   ]
  },
  {
   "cell_type": "code",
   "execution_count": 9,
   "metadata": {},
   "outputs": [],
   "source": [
    "alias_list = []\n",
    "title_list = []\n",
    "\n",
    "for category in categories:\n",
    "\n",
    "    for cat in category:\n",
    "        alias = []\n",
    "        title = []\n",
    "        for c in cat:\n",
    "            try:\n",
    "                alias.append(c[\"alias\"])\n",
    "                title.append(c[\"title\"])\n",
    "            except:\n",
    "                pass\n",
    "        alias_attr = ', '.join(alias)\n",
    "        title_attr = ', '.join(title)\n",
    "\n",
    "        alias_list.append(alias_attr) \n",
    "        title_list.append(title_attr) "
   ]
  },
  {
   "cell_type": "code",
   "execution_count": 10,
   "metadata": {},
   "outputs": [],
   "source": [
    "dict_flat['type_food'] = title_list\n",
    "dict_flat['type_food_alias'] = alias_list"
   ]
  },
  {
   "cell_type": "code",
   "execution_count": 11,
   "metadata": {},
   "outputs": [],
   "source": [
    "dict_flat['latitude'] = [x['latitude'] for coord in coordinates for x in coord]\n",
    "dict_flat['longitude'] = [x['longitude'] for coord in coordinates for x in coord]"
   ]
  },
  {
   "cell_type": "code",
   "execution_count": 12,
   "metadata": {},
   "outputs": [],
   "source": [
    "dict_flat['country'] = [x['country'] for loc in location for x in loc]\n",
    "dict_flat['state'] = [x['state'] for loc in location for x in loc]\n",
    "dict_flat['city'] = [x['city'] for loc in location for x in loc]\n",
    "dict_flat['zip_code'] = [x['zip_code'] for loc in location for x in loc]"
   ]
  },
  {
   "cell_type": "code",
   "execution_count": 13,
   "metadata": {},
   "outputs": [
    {
     "data": {
      "text/plain": [
       "dict_keys(['ids', 'names', 'rating', 'review_count', 'price', 'transactions', 'is_closed', 'type_food', 'type_food_alias', 'latitude', 'longitude', 'country', 'state', 'city', 'zip_code'])"
      ]
     },
     "execution_count": 13,
     "metadata": {},
     "output_type": "execute_result"
    }
   ],
   "source": [
    "dict_flat.keys()"
   ]
  },
  {
   "cell_type": "code",
   "execution_count": 14,
   "metadata": {},
   "outputs": [],
   "source": [
    "df = pd.DataFrame.from_dict(data=dict_flat)"
   ]
  },
  {
   "cell_type": "code",
   "execution_count": 15,
   "metadata": {},
   "outputs": [
    {
     "name": "stdout",
     "output_type": "stream",
     "text": [
      "<class 'pandas.core.frame.DataFrame'>\n",
      "RangeIndex: 5360 entries, 0 to 5359\n",
      "Data columns (total 15 columns):\n",
      "ids                5360 non-null object\n",
      "names              5360 non-null object\n",
      "rating             5360 non-null float64\n",
      "review_count       5360 non-null int64\n",
      "price              3656 non-null object\n",
      "transactions       5360 non-null object\n",
      "is_closed          5360 non-null bool\n",
      "type_food          5360 non-null object\n",
      "type_food_alias    5360 non-null object\n",
      "latitude           5359 non-null float64\n",
      "longitude          5359 non-null float64\n",
      "country            5360 non-null object\n",
      "state              5360 non-null object\n",
      "city               5360 non-null object\n",
      "zip_code           5360 non-null object\n",
      "dtypes: bool(1), float64(3), int64(1), object(10)\n",
      "memory usage: 591.6+ KB\n"
     ]
    }
   ],
   "source": [
    "df.info()"
   ]
  },
  {
   "cell_type": "code",
   "execution_count": 16,
   "metadata": {},
   "outputs": [],
   "source": [
    "def replace_empty_lists(list_entities):\n",
    "    if len(list_entities) < 1:\n",
    "        return None\n",
    "    return list_entities"
   ]
  },
  {
   "cell_type": "code",
   "execution_count": 17,
   "metadata": {},
   "outputs": [],
   "source": [
    "df['transactions'] = df.transactions.apply(replace_empty_lists)"
   ]
  },
  {
   "cell_type": "code",
   "execution_count": 18,
   "metadata": {
    "scrolled": true
   },
   "outputs": [
    {
     "data": {
      "text/html": [
       "<div>\n",
       "<style scoped>\n",
       "    .dataframe tbody tr th:only-of-type {\n",
       "        vertical-align: middle;\n",
       "    }\n",
       "\n",
       "    .dataframe tbody tr th {\n",
       "        vertical-align: top;\n",
       "    }\n",
       "\n",
       "    .dataframe thead th {\n",
       "        text-align: right;\n",
       "    }\n",
       "</style>\n",
       "<table border=\"1\" class=\"dataframe\">\n",
       "  <thead>\n",
       "    <tr style=\"text-align: right;\">\n",
       "      <th></th>\n",
       "      <th>ids</th>\n",
       "      <th>names</th>\n",
       "      <th>rating</th>\n",
       "      <th>review_count</th>\n",
       "      <th>price</th>\n",
       "      <th>transactions</th>\n",
       "      <th>is_closed</th>\n",
       "      <th>type_food</th>\n",
       "      <th>type_food_alias</th>\n",
       "      <th>latitude</th>\n",
       "      <th>longitude</th>\n",
       "      <th>country</th>\n",
       "      <th>state</th>\n",
       "      <th>city</th>\n",
       "      <th>zip_code</th>\n",
       "    </tr>\n",
       "  </thead>\n",
       "  <tbody>\n",
       "    <tr>\n",
       "      <th>0</th>\n",
       "      <td>WM--6SIp218cCEzqTDSAnQ</td>\n",
       "      <td>Catbird</td>\n",
       "      <td>4.0</td>\n",
       "      <td>11</td>\n",
       "      <td>None</td>\n",
       "      <td>None</td>\n",
       "      <td>False</td>\n",
       "      <td>Bars, Tapas/Small Plates</td>\n",
       "      <td>bars, tapasmallplates</td>\n",
       "      <td>32.781402</td>\n",
       "      <td>-96.799953</td>\n",
       "      <td>US</td>\n",
       "      <td>TX</td>\n",
       "      <td>Dallas</td>\n",
       "      <td>75201</td>\n",
       "    </tr>\n",
       "    <tr>\n",
       "      <th>1</th>\n",
       "      <td>LiYys5glM0MO2A9rCkcFWA</td>\n",
       "      <td>XOXO Dining Room</td>\n",
       "      <td>3.5</td>\n",
       "      <td>147</td>\n",
       "      <td>None</td>\n",
       "      <td>[delivery]</td>\n",
       "      <td>False</td>\n",
       "      <td>American (New)</td>\n",
       "      <td>newamerican</td>\n",
       "      <td>32.794171</td>\n",
       "      <td>-96.791056</td>\n",
       "      <td>US</td>\n",
       "      <td>TX</td>\n",
       "      <td>Dallas</td>\n",
       "      <td>75204</td>\n",
       "    </tr>\n",
       "    <tr>\n",
       "      <th>2</th>\n",
       "      <td>ycL1qii6EpKXoLgMMboBIQ</td>\n",
       "      <td>Pecan Lodge</td>\n",
       "      <td>4.5</td>\n",
       "      <td>5090</td>\n",
       "      <td>$$</td>\n",
       "      <td>[delivery]</td>\n",
       "      <td>False</td>\n",
       "      <td>Sandwiches, Barbeque, Southern</td>\n",
       "      <td>sandwiches, bbq, southern</td>\n",
       "      <td>32.783588</td>\n",
       "      <td>-96.783867</td>\n",
       "      <td>US</td>\n",
       "      <td>TX</td>\n",
       "      <td>Dallas</td>\n",
       "      <td>75226</td>\n",
       "    </tr>\n",
       "    <tr>\n",
       "      <th>3</th>\n",
       "      <td>DP1I3daE5-mKznnAeA-Q3w</td>\n",
       "      <td>The Woolworth</td>\n",
       "      <td>4.0</td>\n",
       "      <td>888</td>\n",
       "      <td>$$</td>\n",
       "      <td>[delivery, restaurant_reservation]</td>\n",
       "      <td>False</td>\n",
       "      <td>Cocktail Bars, Tapas/Small Plates, American (New)</td>\n",
       "      <td>cocktailbars, tapasmallplates, newamerican</td>\n",
       "      <td>32.781329</td>\n",
       "      <td>-96.798727</td>\n",
       "      <td>US</td>\n",
       "      <td>TX</td>\n",
       "      <td>Dallas</td>\n",
       "      <td>75204</td>\n",
       "    </tr>\n",
       "    <tr>\n",
       "      <th>4</th>\n",
       "      <td>-pvdnSkWhsHAeOC0TJleOQ</td>\n",
       "      <td>TRUE Kitchen + Kocktails</td>\n",
       "      <td>3.5</td>\n",
       "      <td>263</td>\n",
       "      <td>None</td>\n",
       "      <td>[delivery, pickup]</td>\n",
       "      <td>False</td>\n",
       "      <td>Southern, Comfort Food</td>\n",
       "      <td>southern, comfortfood</td>\n",
       "      <td>32.782600</td>\n",
       "      <td>-96.794630</td>\n",
       "      <td>US</td>\n",
       "      <td>TX</td>\n",
       "      <td>Dallas</td>\n",
       "      <td>75201</td>\n",
       "    </tr>\n",
       "  </tbody>\n",
       "</table>\n",
       "</div>"
      ],
      "text/plain": [
       "                      ids                     names  rating  review_count  \\\n",
       "0  WM--6SIp218cCEzqTDSAnQ                   Catbird     4.0            11   \n",
       "1  LiYys5glM0MO2A9rCkcFWA          XOXO Dining Room     3.5           147   \n",
       "2  ycL1qii6EpKXoLgMMboBIQ               Pecan Lodge     4.5          5090   \n",
       "3  DP1I3daE5-mKznnAeA-Q3w             The Woolworth     4.0           888   \n",
       "4  -pvdnSkWhsHAeOC0TJleOQ  TRUE Kitchen + Kocktails     3.5           263   \n",
       "\n",
       "  price                        transactions  is_closed  \\\n",
       "0  None                                None      False   \n",
       "1  None                          [delivery]      False   \n",
       "2    $$                          [delivery]      False   \n",
       "3    $$  [delivery, restaurant_reservation]      False   \n",
       "4  None                  [delivery, pickup]      False   \n",
       "\n",
       "                                           type_food  \\\n",
       "0                           Bars, Tapas/Small Plates   \n",
       "1                                     American (New)   \n",
       "2                     Sandwiches, Barbeque, Southern   \n",
       "3  Cocktail Bars, Tapas/Small Plates, American (New)   \n",
       "4                             Southern, Comfort Food   \n",
       "\n",
       "                              type_food_alias   latitude  longitude country  \\\n",
       "0                       bars, tapasmallplates  32.781402 -96.799953      US   \n",
       "1                                 newamerican  32.794171 -96.791056      US   \n",
       "2                   sandwiches, bbq, southern  32.783588 -96.783867      US   \n",
       "3  cocktailbars, tapasmallplates, newamerican  32.781329 -96.798727      US   \n",
       "4                       southern, comfortfood  32.782600 -96.794630      US   \n",
       "\n",
       "  state    city zip_code  \n",
       "0    TX  Dallas    75201  \n",
       "1    TX  Dallas    75204  \n",
       "2    TX  Dallas    75226  \n",
       "3    TX  Dallas    75204  \n",
       "4    TX  Dallas    75201  "
      ]
     },
     "execution_count": 18,
     "metadata": {},
     "output_type": "execute_result"
    }
   ],
   "source": [
    "df.head()"
   ]
  },
  {
   "cell_type": "code",
   "execution_count": 19,
   "metadata": {},
   "outputs": [
    {
     "data": {
      "text/plain": [
       "array(['Dallas', 'University Park', 'Carrollton', 'Plano', 'Addison',\n",
       "       'Duncanville', 'Irving', 'Seagoville', 'Balch Springs', 'Crowley',\n",
       "       'Koszalin', 'Melaka', 'Malacca', 'Taman Melaka Raya', 'Ayer Keroh',\n",
       "       'Melaka City', 'Kampung Kuli', 'Garland', 'Mesquite',\n",
       "       'Lipník nad Bečvou', 'Hranice', 'Nový Jičín', 'Přerov', 'Štramberk',\n",
       "       'Valašské Meziříčí', 'Odry', 'Rožnov pod Radhoštěm', 'Vsetín',\n",
       "       'Dolany', 'Velká Bystřice', 'Bílovec', 'Rožnov Pod Radhoštěm',\n",
       "       'Bystřice pod Hostýnem', 'Spálov', 'Vsetin-Zašová', 'Jablůnka',\n",
       "       'Halenkov', 'Svatý Kopeček', 'Holešov', 'Ostrava', 'Coppell',\n",
       "       'Richardson', '75001', 'Farmers Branch', \"Farmer's Branch\",\n",
       "       'San Hipólito Xochiltenango', 'Atlixco', 'Actipan de Morelos',\n",
       "       'Amozoc de Mota', 'Zacatelco', 'Puebla', 'Huamantla',\n",
       "       'San Martín Texmelucan de Labastida', 'Tlaxcala de Xicotencatl',\n",
       "       'Chipilo de Francisco Javier Mina', 'Tlaxcala de Xicohtencatl',\n",
       "       'Heroica Puebla de Zaragoza', 'Cholula', 'Cholula de Rivadavia',\n",
       "       'San Jeronimo Tianguismanalco', 'Natívitas',\n",
       "       'San Baltazar Atlimeyaya', 'San Andrés Cholula', 'Zona Capu',\n",
       "       'San Pedro Cholula', 'Heróica Puebla de Zaragoza', 'Tlaxcala',\n",
       "       'Tlaxcalancingo', 'Cholula de Rivadabia', 'Calw',\n",
       "       'Bad Teinach-Zavelstein', 'Oberhaugstett - Neubulach', 'Neubulach',\n",
       "       'Altensteig', 'Ebhausen', 'Hornberg', 'Simmozheim', 'Bad Wildbad',\n",
       "       'Wildberg', 'Nagold', 'Schömberg', 'Oberreichenbach',\n",
       "       'Deckenpfronn', 'Bad Wildbad im Schwarzwald', 'Gechingen',\n",
       "       'Herrenberg', 'Pfalzgrafenweiler', 'Gäufelden-Nebringen',\n",
       "       'Trindade', 'Goiânia', 'Aparecida de Goiânia',\n",
       "       'Santo Antônio de Goiás', 'Setor Bueno', 'Grand Prairie',\n",
       "       'Hutchins', 'Lancaster', 'DeSoto', 'Desoto', 'Cedar Hill',\n",
       "       'Crandall', 'Amozoc', 'Casa Blanca', 'Euless', 'Grapevine',\n",
       "       'Colleyville', 'Hurst', 'Southlake', 'North Richland Hills'], dtype=object)"
      ]
     },
     "execution_count": 19,
     "metadata": {},
     "output_type": "execute_result"
    }
   ],
   "source": [
    "df['city'].unique()"
   ]
  },
  {
   "cell_type": "code",
   "execution_count": 20,
   "metadata": {},
   "outputs": [
    {
     "data": {
      "text/plain": [
       "array(['Dallas'], dtype=object)"
      ]
     },
     "execution_count": 20,
     "metadata": {},
     "output_type": "execute_result"
    }
   ],
   "source": [
    "Dallas = {'Dallas'}\n",
    "df_Dallas = df.loc[df['city'].isin(Dallas)]\n",
    "df_Dallas['city'].unique()"
   ]
  },
  {
   "cell_type": "code",
   "execution_count": 25,
   "metadata": {},
   "outputs": [],
   "source": [
    "#df_Dallas.to_csv('Yelp_FusionAPI_Dallas_data_extraction.csv', index=False)"
   ]
  },
  {
   "cell_type": "code",
   "execution_count": 21,
   "metadata": {},
   "outputs": [],
   "source": [
    "df_Dallas.to_csv('../../data/interim/restaurants/yelp_dallas.csv', index=False)"
   ]
  },
  {
   "cell_type": "code",
   "execution_count": null,
   "metadata": {},
   "outputs": [],
   "source": []
  }
 ],
 "metadata": {
  "kernelspec": {
   "display_name": "Python 3",
   "language": "python",
   "name": "python3"
  },
  "language_info": {
   "codemirror_mode": {
    "name": "ipython",
    "version": 3
   },
   "file_extension": ".py",
   "mimetype": "text/x-python",
   "name": "python",
   "nbconvert_exporter": "python",
   "pygments_lexer": "ipython3",
   "version": "3.6.7"
  }
 },
 "nbformat": 4,
 "nbformat_minor": 2
}
