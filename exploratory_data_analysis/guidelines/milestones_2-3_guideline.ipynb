{
 "cells": [
  {
   "cell_type": "markdown",
   "metadata": {},
   "source": [
    "# What's the next?\n",
    "\n",
    "### 1. Revision of the First EDA approach: the final EDA needs to be concise, include only key graphs and information, and a story.\n",
    "\n",
    "### 2. Dashboard\n",
    "\n",
    "### 3. Extra EDA pending (Milestone 2-3): at this point, we don't need extra-economic / employment data analysis, but more about restaurants. We are using the Yelp dataset and Yelp API to get the status of restaurants **only in the places of interest**. What do we need to know about restaurants?\n",
    "- % Temporarily closed restaurants --> Not available using Yelp FUSION API\n",
    "- Type of restaurants, type of food\n",
    "- Cash only --> Not available using Yelp FUSION API\n",
    "- Type of services (pick-up, delivery)\n",
    "- Partnership with uberEats, DoorDash (if it's possible. Otherwise, skip that)\n",
    "    \n",
    "### 4. Besides that, we are going to include the quick following analysis:\n",
    "- EDA advanced: Who really need to invest more in apps to improve reservations and orders? (nationwide). More below.\n",
    "    \n",
    "### 5. In-depth analysis proposal (what are going to deliver?) More below."
   ]
  },
  {
   "cell_type": "markdown",
   "metadata": {},
   "source": [
    "# Exploratory Data Analysis Part 3: Restaurants and mobility patterns"
   ]
  },
  {
   "cell_type": "markdown",
   "metadata": {},
   "source": [
    "## EDA advanced: Who really need to invest more in apps to improve reservations and orders?\n",
    "Apptopia and Foursquare dataset have valuable information across 16 weeks measuring the level of app usage and visits (dining, pick-up food) in restaurants across the country (unfortunately, it's a nationwide analysis), coffee shops, and fast-food chains, to compare trends between different categories of food and to know which businesses really need to invest in more technology.\n",
    "\n",
    "\n",
    "## In-depth 1 (More relevant and easy to do): Show the map of the state, split by county and heatmaps and statistics with information by county. \n",
    "- Group the restaurants by county evaluating their situation: %using delivery, %using pick_up, % temporarily closed, % cash-only, and categories of food).\n",
    "- Display mobility information by county.\n",
    "- Generate a report of the state evaluating the situation of every county or the most interesting counties. For instance: California, County X: Scenario: people are likely to move X distance from their residence. They are walking more than they drive and parks are more empty: --> restaurants near to parks need to build partnerships with delivery services (show %not doing that yet). (If the state preferences are contactless payments, suggest that cash-only businesses need to change their payment methods and so on).\n",
    "- **Follow-up** clusters of counties. Identify similarities in the situation of counties in the same state. How? Unsupervised Machine Learning. If the county is a vector of features and the features are mobility trends and restaurant information, we can build clusters of similar counties, it means, counties in similar conditions, and generate a report of the state grouping counties.\n",
    "\n",
    "## In-depth 2 (Optional): Correlations between mobility patterns and seated diners\n",
    "- Find correlations between chances in mobility patterns and seated diners, visits to restaurants, driving route requests.\n",
    "\n",
    "## In-depth 3 (Optional): Since we have daily, weekly information of mobility trends (maximum distance that people move in a day, requests of routes driving, walking, transit, attendance to parks, offices, schools and more and % of reopened restaurants in the same weeks, we can predict the likelihood to come back to eat at restaurants on a determine period. \n",
    "\n",
    "To have in mind: \n",
    "1. Check which weeks are in the dataset of OpenTable before to do the match.\n",
    "2. OpenTable data is available by state and some main cities. Mobility data is mostly available by state and counties. It means that we can do the analysis by state and get generic results by state or use the information of specific cities only. Do this just for one city/state first. "
   ]
  },
  {
   "cell_type": "code",
   "execution_count": null,
   "metadata": {},
   "outputs": [],
   "source": []
  }
 ],
 "metadata": {
  "kernelspec": {
   "display_name": "Python 3",
   "language": "python",
   "name": "python3"
  },
  "language_info": {
   "codemirror_mode": {
    "name": "ipython",
    "version": 3
   },
   "file_extension": ".py",
   "mimetype": "text/x-python",
   "name": "python",
   "nbconvert_exporter": "python",
   "pygments_lexer": "ipython3",
   "version": "3.6.7"
  }
 },
 "nbformat": 4,
 "nbformat_minor": 2
}
