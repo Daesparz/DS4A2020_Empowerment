{
 "cells": [
  {
   "cell_type": "markdown",
   "metadata": {},
   "source": [
    "# What's the next?\n",
    "\n",
    "### 1. Revision of the First EDA approach: the final EDA needs to be concise, include only key graphs and information, and a story.\n",
    "\n",
    "### 2. Dashboard\n",
    "\n",
    "### 3. EDA Part 2-3: Analysis by city\n",
    "\n",
    "In this section, a particular city is selected, to display and analyze the situation of the restaurants in the different zipcodes, the mobility patterns into the city and shopping behavioral variables related to demographics.\n",
    "\n",
    "#### 3.1 Situation of restaurants\n",
    "- % Temporarily closed restaurants --> Not available using Yelp FUSION API\n",
    "- Type of restaurants, type of food\n",
    "- Cash only --> Not available using Yelp FUSION API\n",
    "- Type of services (pick-up, delivery)\n",
    "- Partnership with uberEats, DoorDash (if it's possible. Otherwise, skip that)\n",
    "#### 3.2 Mobility patterns\n",
    "\n",
    "#### 3.3 Shopping behavioral variables"
   ]
  },
  {
   "cell_type": "markdown",
   "metadata": {},
   "source": [
    "# Exploratory Data Analysis Part 3: Restaurants and mobility patterns"
   ]
  },
  {
   "cell_type": "markdown",
   "metadata": {},
   "source": [
    "## EDA advanced: Who really need to invest more in apps to improve reservations and orders?\n",
    "Apptopia and Foursquare dataset have valuable information across 16 weeks measuring the level of app usage and visits (dining, pick-up food) in restaurants across the country (unfortunately, it's a nationwide analysis), coffee shops, and fast-food chains, to compare trends between different categories of food and to know which businesses really need to invest in more technology.\n",
    "\n",
    "\n",
    "## In-depth 1 (More relevant and easy to do): Show the map of the state, split by county and heatmaps and statistics with information by county. \n",
    "- Group the restaurants by county evaluating their situation: %using delivery, %using pick_up, % temporarily closed, % cash-only, and categories of food).\n",
    "- Display mobility information by county.\n",
    "- Generate a report of the state evaluating the situation of every county or the most interesting counties. For instance: California, County X: Scenario: people are likely to move X distance from their residence. They are walking more than they drive and parks are more empty: --> restaurants near to parks need to build partnerships with delivery services (show %not doing that yet). (If the state preferences are contactless payments, suggest that cash-only businesses need to change their payment methods and so on).\n",
    "- **Follow-up** clusters of counties. Identify similarities in the situation of counties in the same state. How? Unsupervised Machine Learning. If the county is a vector of features and the features are mobility trends and restaurant information, we can build clusters of similar counties, it means, counties in similar conditions, and generate a report of the state grouping counties."
   ]
  },
  {
   "cell_type": "code",
   "execution_count": null,
   "metadata": {},
   "outputs": [],
   "source": []
  }
 ],
 "metadata": {
  "kernelspec": {
   "display_name": "Python 3",
   "language": "python",
   "name": "python3"
  },
  "language_info": {
   "codemirror_mode": {
    "name": "ipython",
    "version": 3
   },
   "file_extension": ".py",
   "mimetype": "text/x-python",
   "name": "python",
   "nbconvert_exporter": "python",
   "pygments_lexer": "ipython3",
   "version": "3.6.7"
  }
 },
 "nbformat": 4,
 "nbformat_minor": 2
}
