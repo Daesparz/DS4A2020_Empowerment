{
 "cells": [
  {
   "cell_type": "code",
   "execution_count": null,
   "metadata": {},
   "outputs": [],
   "source": [
    "import pandas as pd\n",
    "import requests\n",
    "import json"
   ]
  },
  {
   "cell_type": "code",
   "execution_count": 1,
   "metadata": {},
   "outputs": [],
   "source": [
    "API_KEY = '7hlj8jHWV-jS57G2WGJEO0ROpEZAedHNxxd_4JMu1rdOW8ltXVO6Weeo-f_Tmpsm2_p-eG-Bq0wXMHHkerq33ul52MwZGynRQHwphIPSbeZl9BwZ_R-xuGg-Uqm-XHYx'"
   ]
  },
  {
   "cell_type": "code",
   "execution_count": 2,
   "metadata": {},
   "outputs": [],
   "source": [
    "client_id = 'ZPsDRbHzglthukFTIg4SEA'"
   ]
  },
  {
   "cell_type": "code",
   "execution_count": 3,
   "metadata": {},
   "outputs": [],
   "source": [
    "headers = {'Authorization': 'Bearer %s' % API_KEY}\n",
    "url='https://api.yelp.com/v3/businesses/search'"
   ]
  },
  {
   "cell_type": "code",
   "execution_count": 4,
   "metadata": {},
   "outputs": [],
   "source": [
    "zip_codes_SF = [94102, 94104, 94103, 94105, 94108, 94107, 94110, \n",
    "                94109, 94112, 94111, 94115, 94114, 94117, 94116,\n",
    "                94118, 94121, 94123, 94122, 94124, 94127, 94126,\n",
    "                94129, 94131, 94130, 94133, 94132, 94134, 94139,\n",
    "                94143, 94151, 94159, 94158, 94188, 94177]"
   ]
  },
  {
   "cell_type": "code",
   "execution_count": 5,
   "metadata": {},
   "outputs": [],
   "source": [
    "def get_values(key, list_dicts):\n",
    "    values = []\n",
    "    for dict_ in list_dicts:\n",
    "        try:\n",
    "            values.append(dict_[key])\n",
    "        except:\n",
    "            values.append(None)         \n",
    "    return values"
   ]
  },
  {
   "cell_type": "code",
   "execution_count": 6,
   "metadata": {
    "scrolled": false
   },
   "outputs": [
    {
     "name": "stdout",
     "output_type": "stream",
     "text": [
      "The status code is 200\n",
      "The status code is 200\n",
      "The status code is 200\n",
      "The status code is 200\n",
      "The status code is 200\n",
      "The status code is 200\n",
      "The status code is 200\n",
      "The status code is 200\n",
      "The status code is 200\n",
      "The status code is 200\n",
      "The status code is 200\n",
      "The status code is 200\n",
      "The status code is 200\n",
      "The status code is 200\n",
      "The status code is 200\n",
      "The status code is 200\n",
      "The status code is 200\n",
      "The status code is 200\n",
      "The status code is 200\n",
      "The status code is 200\n",
      "The status code is 200\n",
      "The status code is 200\n",
      "The status code is 200\n",
      "The status code is 200\n",
      "The status code is 200\n",
      "The status code is 200\n",
      "The status code is 200\n",
      "The status code is 200\n",
      "The status code is 200\n",
      "The status code is 200\n",
      "The status code is 200\n",
      "The status code is 200\n",
      "The status code is 200\n",
      "The status code is 200\n"
     ]
    }
   ],
   "source": [
    "ids, names, rating, review_count, price, location, coordinates, transactions, categories, is_closed = [],[],[],[],[],[],[],[],[],[]\n",
    "for zip_code in zip_codes_SF:\n",
    "    params = {'term':'restaurants', 'location': str(zip_code), 'limit':'50'}\n",
    "    req=requests.get(url, params=params, headers=headers)\n",
    "    \n",
    "    # proceed only if the status code is 200\n",
    "    print('The status code is {}'.format(req.status_code))\n",
    "    \n",
    "    parsed = json.loads(req.text)\n",
    "    businesses = parsed['businesses']\n",
    "\n",
    "\n",
    "    ids.append(get_values('id', businesses))\n",
    "    names.append(get_values('name', businesses))\n",
    "    rating.append(get_values('rating', businesses))\n",
    "    review_count.append(get_values('review_count', businesses))\n",
    "    price.append(get_values('price', businesses))\n",
    "    location.append(get_values('location', businesses))\n",
    "    coordinates.append(get_values('coordinates', businesses))\n",
    "    transactions.append(get_values('transactions', businesses))\n",
    "    categories.append(get_values('categories', businesses))\n",
    "    is_closed.append(get_values('is_closed', businesses))"
   ]
  },
  {
   "cell_type": "code",
   "execution_count": 7,
   "metadata": {},
   "outputs": [],
   "source": [
    "list_attrs = [ids, names, rating, review_count,\n",
    "             price, transactions, is_closed]\n",
    "name_attrs = ['ids', 'names', 'rating', 'review_count',\n",
    "             'price', 'transactions', 'is_closed']"
   ]
  },
  {
   "cell_type": "code",
   "execution_count": 8,
   "metadata": {},
   "outputs": [],
   "source": [
    "dict_flat = {}\n",
    "for i, attrs in enumerate(list_attrs):\n",
    "    dict_flat[name_attrs[i]] = [x for attr in attrs for x in attr]"
   ]
  },
  {
   "cell_type": "code",
   "execution_count": 9,
   "metadata": {},
   "outputs": [],
   "source": [
    "alias_list = []\n",
    "title_list = []\n",
    "\n",
    "for category in categories:\n",
    "\n",
    "    for cat in category:\n",
    "        alias = []\n",
    "        title = []\n",
    "        for c in cat:\n",
    "            try:\n",
    "                alias.append(c[\"alias\"])\n",
    "                title.append(c[\"title\"])\n",
    "            except:\n",
    "                pass\n",
    "        alias_attr = ', '.join(alias)\n",
    "        title_attr = ', '.join(title)\n",
    "\n",
    "        alias_list.append(alias_attr) \n",
    "        title_list.append(title_attr) "
   ]
  },
  {
   "cell_type": "code",
   "execution_count": 10,
   "metadata": {},
   "outputs": [],
   "source": [
    "dict_flat['type_food'] = title_list\n",
    "dict_flat['type_food_alias'] = alias_list"
   ]
  },
  {
   "cell_type": "code",
   "execution_count": 11,
   "metadata": {},
   "outputs": [],
   "source": [
    "dict_flat['latitude'] = [x['latitude'] for coord in coordinates for x in coord]\n",
    "dict_flat['longitude'] = [x['longitude'] for coord in coordinates for x in coord]"
   ]
  },
  {
   "cell_type": "code",
   "execution_count": 12,
   "metadata": {},
   "outputs": [],
   "source": [
    "dict_flat['country'] = [x['country'] for loc in location for x in loc]\n",
    "dict_flat['state'] = [x['state'] for loc in location for x in loc]\n",
    "dict_flat['city'] = [x['city'] for loc in location for x in loc]\n",
    "dict_flat['zip_code'] = [x['zip_code'] for loc in location for x in loc]"
   ]
  },
  {
   "cell_type": "code",
   "execution_count": 13,
   "metadata": {},
   "outputs": [
    {
     "data": {
      "text/plain": [
       "dict_keys(['ids', 'names', 'rating', 'review_count', 'price', 'transactions', 'is_closed', 'type_food', 'type_food_alias', 'latitude', 'longitude', 'country', 'state', 'city', 'zip_code'])"
      ]
     },
     "execution_count": 13,
     "metadata": {},
     "output_type": "execute_result"
    }
   ],
   "source": [
    "dict_flat.keys()"
   ]
  },
  {
   "cell_type": "code",
   "execution_count": 14,
   "metadata": {},
   "outputs": [],
   "source": [
    "df = pd.DataFrame.from_dict(data=dict_flat)"
   ]
  },
  {
   "cell_type": "code",
   "execution_count": 15,
   "metadata": {},
   "outputs": [
    {
     "name": "stdout",
     "output_type": "stream",
     "text": [
      "<class 'pandas.core.frame.DataFrame'>\n",
      "RangeIndex: 1656 entries, 0 to 1655\n",
      "Data columns (total 15 columns):\n",
      "ids                1656 non-null object\n",
      "names              1656 non-null object\n",
      "rating             1656 non-null float64\n",
      "review_count       1656 non-null int64\n",
      "price              1233 non-null object\n",
      "transactions       1656 non-null object\n",
      "is_closed          1656 non-null bool\n",
      "type_food          1656 non-null object\n",
      "type_food_alias    1656 non-null object\n",
      "latitude           1656 non-null float64\n",
      "longitude          1656 non-null float64\n",
      "country            1656 non-null object\n",
      "state              1656 non-null object\n",
      "city               1656 non-null object\n",
      "zip_code           1656 non-null object\n",
      "dtypes: bool(1), float64(3), int64(1), object(10)\n",
      "memory usage: 182.8+ KB\n"
     ]
    }
   ],
   "source": [
    "df.info()"
   ]
  },
  {
   "cell_type": "code",
   "execution_count": 17,
   "metadata": {},
   "outputs": [],
   "source": [
    "def replace_empty_lists(list_entities):\n",
    "    if len(list_entities) < 1:\n",
    "        return None\n",
    "    return list_entities"
   ]
  },
  {
   "cell_type": "code",
   "execution_count": 18,
   "metadata": {},
   "outputs": [],
   "source": [
    "df['transactions_'] = df.transactions.apply(replace_empty_lists)"
   ]
  },
  {
   "cell_type": "code",
   "execution_count": 19,
   "metadata": {},
   "outputs": [],
   "source": [
    "df.to_csv('../../data/interim/restaurants/yelp_sanfrancisco.csv')"
   ]
  }
 ],
 "metadata": {
  "kernelspec": {
   "display_name": "Python 3",
   "language": "python",
   "name": "python3"
  },
  "language_info": {
   "codemirror_mode": {
    "name": "ipython",
    "version": 3
   },
   "file_extension": ".py",
   "mimetype": "text/x-python",
   "name": "python",
   "nbconvert_exporter": "python",
   "pygments_lexer": "ipython3",
   "version": "3.6.7"
  }
 },
 "nbformat": 4,
 "nbformat_minor": 2
}
