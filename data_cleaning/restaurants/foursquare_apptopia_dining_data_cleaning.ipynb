{
 "cells": [
  {
   "cell_type": "markdown",
   "metadata": {},
   "source": [
    "# Dining Forecast: FSQ Foot Traffic Data + Apptopia’s Mobile App Data\n",
    "\n",
    "### Product status\n",
    "Published.\n",
    "### Product visibility\n",
    "Public.\n",
    "### Description\n",
    "\n",
    "This analysis examines consumers’ behavior around dining based on foot traffic data from millions of Americans that make up Foursquare’s always-on panel, combined with Apptopia’s data on the usage of mobile apps.\n",
    "\n",
    "\n",
    "Using data from January 2019 through July 2020 on a national level, you can identify the year over year changes in daily active users of restaurants’ mobile apps, as well as year over year changes in visitation to quick service restaurants and casual dining restaurants, in order to isolate the effects of COVID-19 and to account for seasonality. For foot traffic data, rolling 7-day averages  are leveraged to account for fluctuations by day of week. For mobile app usage data, we looked at weekly sums. \n",
    "\n",
    "\n",
    "Index the data, rather tan looking at the overall volume of visits or montly active users, to uncover relative upticks and declines, adjusting for changes in panel size. Index to first week. In order to index, take the nominal volumn of a given week and divide that volume by the volume of the first week of the timeframe. Multiply that product by 100."
   ]
  },
  {
   "cell_type": "code",
   "execution_count": 1,
   "metadata": {},
   "outputs": [],
   "source": [
    "import pandas as pd\n",
    "import seaborn as sns\n",
    "import matplotlib.pyplot as plt"
   ]
  },
  {
   "cell_type": "code",
   "execution_count": 2,
   "metadata": {},
   "outputs": [],
   "source": [
    "path = '../../data/raw/restaurants/Foursquare_Apptopia_datasets/Foursquare_Apptopia_Dining_Data_2020.xlsx'"
   ]
  },
  {
   "cell_type": "code",
   "execution_count": 3,
   "metadata": {},
   "outputs": [
    {
     "data": {
      "text/plain": [
       "['YoY Apptopia Usage',\n",
       " 'YoY Foursquare Visits',\n",
       " '2019 Foursquare Visits Indexed',\n",
       " '2020 Foursquare Visits Indexed',\n",
       " '2019 Apptopia Usage Indexed',\n",
       " '2020 Apptopia Usage Indexed',\n",
       " 'YoY Foursquare Visits - Categor',\n",
       " 'YoY Apptopia Usage - Categories',\n",
       " '2019 Foursquare Visits Indexed ',\n",
       " '2020 Foursquare Visits Indexed ',\n",
       " '2019 Apptopia Usage Indexed - C',\n",
       " '2020 Apptopia Usage Indexed - C']"
      ]
     },
     "execution_count": 3,
     "metadata": {},
     "output_type": "execute_result"
    }
   ],
   "source": [
    "xls = pd.ExcelFile(path)\n",
    "\n",
    "xls.sheet_names"
   ]
  },
  {
   "cell_type": "markdown",
   "metadata": {},
   "source": [
    "Here there are 6 xls with information by category (casual dining, fast casual dining, coffee, pizza and sandwiches) and 6 files with individual information from different restaurants.\n",
    "\n",
    "### 1. Split datasets into two groups: \n",
    "- Information of restaurants by category.\n",
    "- Information of restaurant as entity."
   ]
  },
  {
   "cell_type": "code",
   "execution_count": 4,
   "metadata": {},
   "outputs": [],
   "source": [
    "df_category = pd.DataFrame()\n",
    "# look for a key word to find datasets with columns by category. Example, the column casual_dining\n",
    "aux = 'casual_dining'\n",
    "\n",
    "for sheet_name in xls.sheet_names:\n",
    "    temp = pd.read_excel(xls, sheet_name=sheet_name, index_col=0)\n",
    "    temp['class'] = sheet_name\n",
    "    if aux in list(temp.columns):\n",
    "        df_category = pd.concat([df_category, temp], sort=True)"
   ]
  },
  {
   "cell_type": "code",
   "execution_count": 5,
   "metadata": {},
   "outputs": [
    {
     "data": {
      "text/html": [
       "<div>\n",
       "<style scoped>\n",
       "    .dataframe tbody tr th:only-of-type {\n",
       "        vertical-align: middle;\n",
       "    }\n",
       "\n",
       "    .dataframe tbody tr th {\n",
       "        vertical-align: top;\n",
       "    }\n",
       "\n",
       "    .dataframe thead th {\n",
       "        text-align: right;\n",
       "    }\n",
       "</style>\n",
       "<table border=\"1\" class=\"dataframe\">\n",
       "  <thead>\n",
       "    <tr style=\"text-align: right;\">\n",
       "      <th></th>\n",
       "      <th>casual_dining</th>\n",
       "      <th>class</th>\n",
       "      <th>coffee</th>\n",
       "      <th>fast_casual_food</th>\n",
       "      <th>pizza</th>\n",
       "      <th>sandwiches</th>\n",
       "    </tr>\n",
       "    <tr>\n",
       "      <th>week</th>\n",
       "      <th></th>\n",
       "      <th></th>\n",
       "      <th></th>\n",
       "      <th></th>\n",
       "      <th></th>\n",
       "      <th></th>\n",
       "    </tr>\n",
       "  </thead>\n",
       "  <tbody>\n",
       "    <tr>\n",
       "      <th>2</th>\n",
       "      <td>0.000000</td>\n",
       "      <td>YoY Foursquare Visits - Categor</td>\n",
       "      <td>0.000000</td>\n",
       "      <td>0.000000</td>\n",
       "      <td>0.000000</td>\n",
       "      <td>0.000000</td>\n",
       "    </tr>\n",
       "    <tr>\n",
       "      <th>3</th>\n",
       "      <td>-11.517221</td>\n",
       "      <td>YoY Foursquare Visits - Categor</td>\n",
       "      <td>-5.539010</td>\n",
       "      <td>-4.084100</td>\n",
       "      <td>-4.373698</td>\n",
       "      <td>2.375718</td>\n",
       "    </tr>\n",
       "    <tr>\n",
       "      <th>4</th>\n",
       "      <td>-14.392250</td>\n",
       "      <td>YoY Foursquare Visits - Categor</td>\n",
       "      <td>-8.189281</td>\n",
       "      <td>-4.662596</td>\n",
       "      <td>-3.402129</td>\n",
       "      <td>1.621992</td>\n",
       "    </tr>\n",
       "    <tr>\n",
       "      <th>5</th>\n",
       "      <td>-10.447774</td>\n",
       "      <td>YoY Foursquare Visits - Categor</td>\n",
       "      <td>-7.425742</td>\n",
       "      <td>-4.269823</td>\n",
       "      <td>-8.602007</td>\n",
       "      <td>0.900771</td>\n",
       "    </tr>\n",
       "    <tr>\n",
       "      <th>6</th>\n",
       "      <td>-12.639638</td>\n",
       "      <td>YoY Foursquare Visits - Categor</td>\n",
       "      <td>-7.537867</td>\n",
       "      <td>-2.541858</td>\n",
       "      <td>-0.163634</td>\n",
       "      <td>4.459046</td>\n",
       "    </tr>\n",
       "  </tbody>\n",
       "</table>\n",
       "</div>"
      ],
      "text/plain": [
       "      casual_dining                            class    coffee  \\\n",
       "week                                                             \n",
       "2          0.000000  YoY Foursquare Visits - Categor  0.000000   \n",
       "3        -11.517221  YoY Foursquare Visits - Categor -5.539010   \n",
       "4        -14.392250  YoY Foursquare Visits - Categor -8.189281   \n",
       "5        -10.447774  YoY Foursquare Visits - Categor -7.425742   \n",
       "6        -12.639638  YoY Foursquare Visits - Categor -7.537867   \n",
       "\n",
       "      fast_casual_food     pizza  sandwiches  \n",
       "week                                          \n",
       "2             0.000000  0.000000    0.000000  \n",
       "3            -4.084100 -4.373698    2.375718  \n",
       "4            -4.662596 -3.402129    1.621992  \n",
       "5            -4.269823 -8.602007    0.900771  \n",
       "6            -2.541858 -0.163634    4.459046  "
      ]
     },
     "execution_count": 5,
     "metadata": {},
     "output_type": "execute_result"
    }
   ],
   "source": [
    "df_category.head()"
   ]
  },
  {
   "cell_type": "code",
   "execution_count": 6,
   "metadata": {},
   "outputs": [
    {
     "name": "stdout",
     "output_type": "stream",
     "text": [
      "<class 'pandas.core.frame.DataFrame'>\n",
      "Int64Index: 168 entries, 2 to 29\n",
      "Data columns (total 6 columns):\n",
      "casual_dining       168 non-null float64\n",
      "class               168 non-null object\n",
      "coffee              168 non-null float64\n",
      "fast_casual_food    168 non-null float64\n",
      "pizza               168 non-null float64\n",
      "sandwiches          168 non-null float64\n",
      "dtypes: float64(5), object(1)\n",
      "memory usage: 9.2+ KB\n"
     ]
    }
   ],
   "source": [
    "df_category.info()"
   ]
  },
  {
   "cell_type": "code",
   "execution_count": 7,
   "metadata": {},
   "outputs": [
    {
     "data": {
      "text/html": [
       "<div>\n",
       "<style scoped>\n",
       "    .dataframe tbody tr th:only-of-type {\n",
       "        vertical-align: middle;\n",
       "    }\n",
       "\n",
       "    .dataframe tbody tr th {\n",
       "        vertical-align: top;\n",
       "    }\n",
       "\n",
       "    .dataframe thead th {\n",
       "        text-align: right;\n",
       "    }\n",
       "</style>\n",
       "<table border=\"1\" class=\"dataframe\">\n",
       "  <thead>\n",
       "    <tr style=\"text-align: right;\">\n",
       "      <th></th>\n",
       "      <th>casual_dining</th>\n",
       "      <th>coffee</th>\n",
       "      <th>fast_casual_food</th>\n",
       "      <th>pizza</th>\n",
       "      <th>sandwiches</th>\n",
       "    </tr>\n",
       "    <tr>\n",
       "      <th>class</th>\n",
       "      <th></th>\n",
       "      <th></th>\n",
       "      <th></th>\n",
       "      <th></th>\n",
       "      <th></th>\n",
       "    </tr>\n",
       "  </thead>\n",
       "  <tbody>\n",
       "    <tr>\n",
       "      <th>2019 Apptopia Usage Indexed - C</th>\n",
       "      <td>28</td>\n",
       "      <td>28</td>\n",
       "      <td>28</td>\n",
       "      <td>28</td>\n",
       "      <td>28</td>\n",
       "    </tr>\n",
       "    <tr>\n",
       "      <th>2019 Foursquare Visits Indexed</th>\n",
       "      <td>28</td>\n",
       "      <td>28</td>\n",
       "      <td>28</td>\n",
       "      <td>28</td>\n",
       "      <td>28</td>\n",
       "    </tr>\n",
       "    <tr>\n",
       "      <th>2020 Apptopia Usage Indexed - C</th>\n",
       "      <td>28</td>\n",
       "      <td>28</td>\n",
       "      <td>28</td>\n",
       "      <td>28</td>\n",
       "      <td>28</td>\n",
       "    </tr>\n",
       "    <tr>\n",
       "      <th>2020 Foursquare Visits Indexed</th>\n",
       "      <td>28</td>\n",
       "      <td>28</td>\n",
       "      <td>28</td>\n",
       "      <td>28</td>\n",
       "      <td>28</td>\n",
       "    </tr>\n",
       "    <tr>\n",
       "      <th>YoY Apptopia Usage - Categories</th>\n",
       "      <td>28</td>\n",
       "      <td>28</td>\n",
       "      <td>28</td>\n",
       "      <td>28</td>\n",
       "      <td>28</td>\n",
       "    </tr>\n",
       "    <tr>\n",
       "      <th>YoY Foursquare Visits - Categor</th>\n",
       "      <td>28</td>\n",
       "      <td>28</td>\n",
       "      <td>28</td>\n",
       "      <td>28</td>\n",
       "      <td>28</td>\n",
       "    </tr>\n",
       "  </tbody>\n",
       "</table>\n",
       "</div>"
      ],
      "text/plain": [
       "                                 casual_dining  coffee  fast_casual_food  \\\n",
       "class                                                                      \n",
       "2019 Apptopia Usage Indexed - C             28      28                28   \n",
       "2019 Foursquare Visits Indexed              28      28                28   \n",
       "2020 Apptopia Usage Indexed - C             28      28                28   \n",
       "2020 Foursquare Visits Indexed              28      28                28   \n",
       "YoY Apptopia Usage - Categories             28      28                28   \n",
       "YoY Foursquare Visits - Categor             28      28                28   \n",
       "\n",
       "                                 pizza  sandwiches  \n",
       "class                                               \n",
       "2019 Apptopia Usage Indexed - C     28          28  \n",
       "2019 Foursquare Visits Indexed      28          28  \n",
       "2020 Apptopia Usage Indexed - C     28          28  \n",
       "2020 Foursquare Visits Indexed      28          28  \n",
       "YoY Apptopia Usage - Categories     28          28  \n",
       "YoY Foursquare Visits - Categor     28          28  "
      ]
     },
     "execution_count": 7,
     "metadata": {},
     "output_type": "execute_result"
    }
   ],
   "source": [
    "df_category.groupby('class').count()"
   ]
  },
  {
   "cell_type": "markdown",
   "metadata": {},
   "source": [
    "Saving the dataset in the `interim` folder:"
   ]
  },
  {
   "cell_type": "code",
   "execution_count": 8,
   "metadata": {},
   "outputs": [],
   "source": [
    "df_category.to_csv('../../data/interim/restaurants/foursquare_apptopia_category.csv')"
   ]
  },
  {
   "cell_type": "markdown",
   "metadata": {},
   "source": [
    "### 2. From datasets of restaurants as entity:\n",
    "- Check names of the restaurant match in the Foursquare data and Apptopia data"
   ]
  },
  {
   "cell_type": "code",
   "execution_count": 9,
   "metadata": {},
   "outputs": [
    {
     "data": {
      "text/plain": [
       "Index(['Applebee’s (App)', 'Buffalo Wild Wings (App)',\n",
       "       'BURGER KING® App (App)', 'Chick-fil-A (App)', 'Chilis (App)',\n",
       "       'Chipotle (App)', 'Cracker Barrel (App)', 'Dairy Queen® (App)',\n",
       "       'Domino's Pizza USA (App)', 'Dunkin' (App)',\n",
       "       'El Pollo Loco - Loco Rewards (App)', 'Firehouse Subs App (App)',\n",
       "       'Five Guys Burgers & Fries (App)', 'Jack in the Box® (App)',\n",
       "       'Jersey Mike's (App)', 'Jimmy John’s Sandwiches (App)',\n",
       "       'Krispy Kreme ® (App)', 'Little Caesars (App)',\n",
       "       'LongHorn Steakhouse® (App)', 'McDonald's (App)',\n",
       "       'Olive Garden Italian Kitchen (App)', 'Outback (App)',\n",
       "       'Panera Bread (App)', 'Papa John's Pizza (App)', 'Peet’s Coffee (App)',\n",
       "       'Pizza Hut - Delivery & Takeout (App)', 'Popeyes® (App)',\n",
       "       'Shake Shack (App)', 'SONIC Drive-In (App)', 'Starbucks (App)',\n",
       "       'SUBWAY® (App)', 'Taco Bell - Food & Rewards (App)',\n",
       "       'Tim Hortons (App)', 'Wendy’s (App)', 'Whataburger (App)',\n",
       "       'Wingstop (App)', 'Zaxby’s (App)'],\n",
       "      dtype='object')"
      ]
     },
     "execution_count": 9,
     "metadata": {},
     "output_type": "execute_result"
    }
   ],
   "source": [
    "df1 = pd.read_excel(xls, sheet_name='YoY Apptopia Usage', index_col=0)\n",
    "df1.columns"
   ]
  },
  {
   "cell_type": "code",
   "execution_count": 10,
   "metadata": {},
   "outputs": [
    {
     "data": {
      "text/plain": [
       "Index(['Applebee's', 'Buffalo Wild Wings', 'Burger King', 'Chick-fil-A',\n",
       "       'Chili's Grill & Bar', 'Chipotle Mexican Grill', 'Cracker Barrel',\n",
       "       'Dairy Queen', 'Domino's Pizza', 'Dunkin'', 'El Pollo Loco',\n",
       "       'Firehouse Subs', 'Five Guys', 'Jack in the Box', 'Jersey Mike's Subs',\n",
       "       'Jimmy John's', 'Krispy Kreme Doughnuts', 'Little Caesars',\n",
       "       'LongHorn Steakhouse', 'McDonald's', 'Olive Garden',\n",
       "       'Outback Steakhouse', 'Panera Bread', 'Papa John's Pizza',\n",
       "       'Peet's Coffee & Tea', 'Pizza Hut', 'Popeyes Louisiana Kitchen',\n",
       "       'Shake Shack', 'Sonic Drive-In', 'Starbucks', 'Subway', 'Taco Bell',\n",
       "       'Tim Hortons', 'Wendy's', 'Whataburger', 'Wingstop', 'Zaxby's'],\n",
       "      dtype='object')"
      ]
     },
     "execution_count": 10,
     "metadata": {},
     "output_type": "execute_result"
    }
   ],
   "source": [
    "df2 = pd.read_excel(xls, sheet_name='YoY Foursquare Visits', index_col=0)\n",
    "df2.columns"
   ]
  },
  {
   "cell_type": "markdown",
   "metadata": {},
   "source": [
    "As we can see, the names are similar but not the same. Apptopia datasets include the expression 'App' in the name of the columns and some spetial characters. To concat those datasets avoiding duplicate columns pointed to the same restaurants, we can create a preprocessing text method to delete spetial characters and patterns, but in this case is not necessary, because the restaurants in the columns have exactly the same order in the Foursquare and Apptopia data. Therefore, we define canonical names for columns before concatenate the datasets:"
   ]
  },
  {
   "cell_type": "code",
   "execution_count": 11,
   "metadata": {},
   "outputs": [],
   "source": [
    "canonical_columns = df2.columns"
   ]
  },
  {
   "cell_type": "markdown",
   "metadata": {},
   "source": [
    "And then, we inspect the xls sheet names looking for the datasets related to individual restaurants:"
   ]
  },
  {
   "cell_type": "code",
   "execution_count": 12,
   "metadata": {},
   "outputs": [],
   "source": [
    "df = pd.DataFrame()\n",
    "\n",
    "aux = 'casual_dining'\n",
    "\n",
    "for sheet_name in xls.sheet_names:\n",
    "    temp = pd.read_excel(xls, sheet_name=sheet_name, index_col=0)\n",
    "    if aux not in list(temp.columns):\n",
    "        temp.columns = canonical_columns\n",
    "        temp['class'] = sheet_name\n",
    "        df = pd.concat([df, temp], sort=True) "
   ]
  },
  {
   "cell_type": "code",
   "execution_count": 13,
   "metadata": {},
   "outputs": [
    {
     "data": {
      "text/html": [
       "<div>\n",
       "<style scoped>\n",
       "    .dataframe tbody tr th:only-of-type {\n",
       "        vertical-align: middle;\n",
       "    }\n",
       "\n",
       "    .dataframe tbody tr th {\n",
       "        vertical-align: top;\n",
       "    }\n",
       "\n",
       "    .dataframe thead th {\n",
       "        text-align: right;\n",
       "    }\n",
       "</style>\n",
       "<table border=\"1\" class=\"dataframe\">\n",
       "  <thead>\n",
       "    <tr style=\"text-align: right;\">\n",
       "      <th></th>\n",
       "      <th>Applebee's</th>\n",
       "      <th>Buffalo Wild Wings</th>\n",
       "      <th>Burger King</th>\n",
       "      <th>Chick-fil-A</th>\n",
       "      <th>Chili's Grill &amp; Bar</th>\n",
       "      <th>Chipotle Mexican Grill</th>\n",
       "      <th>Cracker Barrel</th>\n",
       "      <th>Dairy Queen</th>\n",
       "      <th>Domino's Pizza</th>\n",
       "      <th>Dunkin'</th>\n",
       "      <th>...</th>\n",
       "      <th>Sonic Drive-In</th>\n",
       "      <th>Starbucks</th>\n",
       "      <th>Subway</th>\n",
       "      <th>Taco Bell</th>\n",
       "      <th>Tim Hortons</th>\n",
       "      <th>Wendy's</th>\n",
       "      <th>Whataburger</th>\n",
       "      <th>Wingstop</th>\n",
       "      <th>Zaxby's</th>\n",
       "      <th>class</th>\n",
       "    </tr>\n",
       "  </thead>\n",
       "  <tbody>\n",
       "    <tr>\n",
       "      <th>2</th>\n",
       "      <td>0.000000</td>\n",
       "      <td>0.000000</td>\n",
       "      <td>0.000000</td>\n",
       "      <td>0.000000</td>\n",
       "      <td>0.000000</td>\n",
       "      <td>0.000000</td>\n",
       "      <td>0.000000</td>\n",
       "      <td>0.00000</td>\n",
       "      <td>0.000000</td>\n",
       "      <td>0.000000</td>\n",
       "      <td>...</td>\n",
       "      <td>0.000000</td>\n",
       "      <td>0.000000</td>\n",
       "      <td>0.000000</td>\n",
       "      <td>0.000000</td>\n",
       "      <td>0.000000</td>\n",
       "      <td>0.000000</td>\n",
       "      <td>0.000000</td>\n",
       "      <td>0.000000</td>\n",
       "      <td>0.000000</td>\n",
       "      <td>YoY Apptopia Usage</td>\n",
       "    </tr>\n",
       "    <tr>\n",
       "      <th>3</th>\n",
       "      <td>-8.499222</td>\n",
       "      <td>2.254202</td>\n",
       "      <td>3.855614</td>\n",
       "      <td>29.164418</td>\n",
       "      <td>12.845222</td>\n",
       "      <td>0.660654</td>\n",
       "      <td>9.896487</td>\n",
       "      <td>-5.41138</td>\n",
       "      <td>-2.481952</td>\n",
       "      <td>2.424968</td>\n",
       "      <td>...</td>\n",
       "      <td>0.467718</td>\n",
       "      <td>-0.699329</td>\n",
       "      <td>0.812795</td>\n",
       "      <td>0.908158</td>\n",
       "      <td>0.607167</td>\n",
       "      <td>1.081407</td>\n",
       "      <td>3.363334</td>\n",
       "      <td>-5.779505</td>\n",
       "      <td>34.021747</td>\n",
       "      <td>YoY Apptopia Usage</td>\n",
       "    </tr>\n",
       "  </tbody>\n",
       "</table>\n",
       "<p>2 rows × 38 columns</p>\n",
       "</div>"
      ],
      "text/plain": [
       "   Applebee's  Buffalo Wild Wings  Burger King  Chick-fil-A  \\\n",
       "2    0.000000            0.000000     0.000000     0.000000   \n",
       "3   -8.499222            2.254202     3.855614    29.164418   \n",
       "\n",
       "   Chili's Grill & Bar  Chipotle Mexican Grill  Cracker Barrel  Dairy Queen  \\\n",
       "2             0.000000                0.000000        0.000000      0.00000   \n",
       "3            12.845222                0.660654        9.896487     -5.41138   \n",
       "\n",
       "   Domino's Pizza   Dunkin'         ...          Sonic Drive-In  Starbucks  \\\n",
       "2        0.000000  0.000000         ...                0.000000   0.000000   \n",
       "3       -2.481952  2.424968         ...                0.467718  -0.699329   \n",
       "\n",
       "     Subway  Taco Bell  Tim Hortons   Wendy's  Whataburger  Wingstop  \\\n",
       "2  0.000000   0.000000     0.000000  0.000000     0.000000  0.000000   \n",
       "3  0.812795   0.908158     0.607167  1.081407     3.363334 -5.779505   \n",
       "\n",
       "     Zaxby's               class  \n",
       "2   0.000000  YoY Apptopia Usage  \n",
       "3  34.021747  YoY Apptopia Usage  \n",
       "\n",
       "[2 rows x 38 columns]"
      ]
     },
     "execution_count": 13,
     "metadata": {},
     "output_type": "execute_result"
    }
   ],
   "source": [
    "df.head(2)"
   ]
  },
  {
   "cell_type": "code",
   "execution_count": 14,
   "metadata": {},
   "outputs": [
    {
     "name": "stdout",
     "output_type": "stream",
     "text": [
      "<class 'pandas.core.frame.DataFrame'>\n",
      "Int64Index: 214 entries, 2 to 29\n",
      "Data columns (total 38 columns):\n",
      "Applebee's                   214 non-null float64\n",
      "Buffalo Wild Wings           214 non-null float64\n",
      "Burger King                  214 non-null float64\n",
      "Chick-fil-A                  214 non-null float64\n",
      "Chili's Grill & Bar          214 non-null float64\n",
      "Chipotle Mexican Grill       214 non-null float64\n",
      "Cracker Barrel               214 non-null float64\n",
      "Dairy Queen                  214 non-null float64\n",
      "Domino's Pizza               214 non-null float64\n",
      "Dunkin'                      214 non-null float64\n",
      "El Pollo Loco                214 non-null float64\n",
      "Firehouse Subs               214 non-null float64\n",
      "Five Guys                    214 non-null float64\n",
      "Jack in the Box              214 non-null float64\n",
      "Jersey Mike's Subs           214 non-null float64\n",
      "Jimmy John's                 214 non-null float64\n",
      "Krispy Kreme Doughnuts       214 non-null float64\n",
      "Little Caesars               214 non-null float64\n",
      "LongHorn Steakhouse          214 non-null float64\n",
      "McDonald's                   214 non-null float64\n",
      "Olive Garden                 214 non-null float64\n",
      "Outback Steakhouse           214 non-null float64\n",
      "Panera Bread                 214 non-null float64\n",
      "Papa John's Pizza            214 non-null float64\n",
      "Peet's Coffee & Tea          214 non-null float64\n",
      "Pizza Hut                    214 non-null float64\n",
      "Popeyes Louisiana Kitchen    214 non-null float64\n",
      "Shake Shack                  214 non-null float64\n",
      "Sonic Drive-In               214 non-null float64\n",
      "Starbucks                    214 non-null float64\n",
      "Subway                       214 non-null float64\n",
      "Taco Bell                    214 non-null float64\n",
      "Tim Hortons                  214 non-null float64\n",
      "Wendy's                      214 non-null float64\n",
      "Whataburger                  214 non-null float64\n",
      "Wingstop                     214 non-null float64\n",
      "Zaxby's                      214 non-null float64\n",
      "class                        214 non-null object\n",
      "dtypes: float64(37), object(1)\n",
      "memory usage: 65.2+ KB\n"
     ]
    }
   ],
   "source": [
    "df.info()"
   ]
  },
  {
   "cell_type": "markdown",
   "metadata": {},
   "source": [
    "Saving the dataset in the `interim` folder:"
   ]
  },
  {
   "cell_type": "code",
   "execution_count": 15,
   "metadata": {},
   "outputs": [],
   "source": [
    "df.to_csv('../../data/interim/restaurants/foursquare_apptopia_restaurants.csv')"
   ]
  }
 ],
 "metadata": {
  "kernelspec": {
   "display_name": "Python 3",
   "language": "python",
   "name": "python3"
  },
  "language_info": {
   "codemirror_mode": {
    "name": "ipython",
    "version": 3
   },
   "file_extension": ".py",
   "mimetype": "text/x-python",
   "name": "python",
   "nbconvert_exporter": "python",
   "pygments_lexer": "ipython3",
   "version": "3.6.7"
  }
 },
 "nbformat": 4,
 "nbformat_minor": 2
}
