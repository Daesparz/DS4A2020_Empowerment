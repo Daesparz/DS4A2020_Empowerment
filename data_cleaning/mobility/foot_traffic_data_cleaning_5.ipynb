{
 "cells": [
  {
   "cell_type": "markdown",
   "metadata": {},
   "source": [
    "# Foot traffic data cleaning process"
   ]
  },
  {
   "cell_type": "code",
   "execution_count": 1,
   "metadata": {},
   "outputs": [],
   "source": [
    "import pandas as pd\n",
    "import numpy as np\n",
    "import os\n",
    "import data_cleaning_methods"
   ]
  },
  {
   "cell_type": "markdown",
   "metadata": {},
   "source": [
    "## V. COVID-19 Foot Traffic Data (Free)\n",
    "\n",
    "Provided By: Foursquare \n",
    "This free data set contains indexed foot traffic to 19 categories of venues. The indexed data is broken out geographically, with included data for National, SF, NYC, LA, and Seattle. The data is normalized against U.S. Census data to remove age, gender and geographical bias. Data is provided daily from 02/19/2020."
   ]
  },
  {
   "cell_type": "code",
   "execution_count": 2,
   "metadata": {},
   "outputs": [],
   "source": [
    "path = '../../data/raw/mobility/Foursquare_COVID-19_National_Regional/'"
   ]
  },
  {
   "cell_type": "code",
   "execution_count": 3,
   "metadata": {},
   "outputs": [],
   "source": [
    "xls_reg = pd.ExcelFile(path+'Foursquare_COVID-19_Data_National_Regional_November_20_2020.xlsx')\n",
    "xls_dma = pd.ExcelFile(path+'Foursquare_COVID-19_Data_National_DMA_November_20_2020.xlsx')"
   ]
  },
  {
   "cell_type": "code",
   "execution_count": 4,
   "metadata": {},
   "outputs": [
    {
     "data": {
      "text/plain": [
       "['National Summary',\n",
       " 'Airports',\n",
       " 'Auto Dealerships',\n",
       " 'Auto Shops',\n",
       " 'Banks',\n",
       " 'Bars',\n",
       " 'Big Box Stores',\n",
       " 'Casual Dining Chains',\n",
       " 'Clothing Stores',\n",
       " 'Convenience Store',\n",
       " 'Drugstores & Pharmacies',\n",
       " 'Discount Stores',\n",
       " 'Fast Food',\n",
       " 'Furniture Stores',\n",
       " 'Gas Stations',\n",
       " 'Grocery Stores',\n",
       " 'Gyms',\n",
       " 'Hardware Stores',\n",
       " 'Hotels',\n",
       " 'Movie Theaters',\n",
       " 'Nail Salons',\n",
       " 'Liquor Stores',\n",
       " 'Offices',\n",
       " 'Pet Stores',\n",
       " 'Parks',\n",
       " 'SalonsBarbershops',\n",
       " 'Shopping Malls',\n",
       " 'Trails',\n",
       " 'Warehouse Stores',\n",
       " 'Wireless Carriers']"
      ]
     },
     "execution_count": 4,
     "metadata": {},
     "output_type": "execute_result"
    }
   ],
   "source": [
    "xls_dma.sheet_names"
   ]
  },
  {
   "cell_type": "markdown",
   "metadata": {},
   "source": [
    "### DMA level"
   ]
  },
  {
   "cell_type": "code",
   "execution_count": 5,
   "metadata": {},
   "outputs": [],
   "source": [
    "list_categories = ['National', 'New', 'Los', 'Seattle', 'San', '*Insufficient']"
   ]
  },
  {
   "cell_type": "code",
   "execution_count": 6,
   "metadata": {},
   "outputs": [],
   "source": [
    "df_cities = pd.DataFrame()\n",
    "df_summary = pd.DataFrame()\n",
    "\n",
    "for sheet_name in xls_dma.sheet_names:\n",
    "    if sheet_name != 'National Summary':\n",
    "        temp = pd.read_excel(xls_dma, sheet_name=sheet_name, index_col=0)\n",
    "        for col in temp.columns:\n",
    "            for cat in list_categories:\n",
    "                if col.startswith(cat):\n",
    "                    temp.rename(columns={col:cat}, inplace=True)\n",
    "        temp['class'] = sheet_name\n",
    "        df_cities = pd.concat([df_cities, temp], sort=True)\n",
    "    else:\n",
    "        temp = pd.read_excel(xls_dma, sheet_name=sheet_name, index_col=0)\n",
    "        temp['class'] = sheet_name\n",
    "        df_summary = pd.concat([df_summary, temp], sort=True)\n",
    "        \n",
    "#changing name of columns\n",
    "list_name = ['National', 'New York', 'Los Angeles', 'Seattle-Tacoma', 'SanFrancisco-Oakland-SanJose', '*Insufficient']\n",
    "for col in df_cities.columns:\n",
    "    for name in list_name:\n",
    "        if name.startswith(col):\n",
    "            df_cities.rename(columns={col:name}, inplace=True)"
   ]
  },
  {
   "cell_type": "code",
   "execution_count": 7,
   "metadata": {},
   "outputs": [
    {
     "data": {
      "text/html": [
       "<div>\n",
       "<style scoped>\n",
       "    .dataframe tbody tr th:only-of-type {\n",
       "        vertical-align: middle;\n",
       "    }\n",
       "\n",
       "    .dataframe tbody tr th {\n",
       "        vertical-align: top;\n",
       "    }\n",
       "\n",
       "    .dataframe thead th {\n",
       "        text-align: right;\n",
       "    }\n",
       "</style>\n",
       "<table border=\"1\" class=\"dataframe\">\n",
       "  <thead>\n",
       "    <tr style=\"text-align: right;\">\n",
       "      <th></th>\n",
       "      <th>*Insufficient</th>\n",
       "      <th>Los Angeles</th>\n",
       "      <th>National</th>\n",
       "      <th>New York</th>\n",
       "      <th>SanFrancisco-Oakland-SanJose</th>\n",
       "      <th>Seattle-Tacoma</th>\n",
       "      <th>Unnamed: 2</th>\n",
       "      <th>Unnamed: 3</th>\n",
       "      <th>Unnamed: 4</th>\n",
       "      <th>Unnamed: 5</th>\n",
       "      <th>Unnamed: 6</th>\n",
       "      <th>class</th>\n",
       "    </tr>\n",
       "    <tr>\n",
       "      <th></th>\n",
       "      <th></th>\n",
       "      <th></th>\n",
       "      <th></th>\n",
       "      <th></th>\n",
       "      <th></th>\n",
       "      <th></th>\n",
       "      <th></th>\n",
       "      <th></th>\n",
       "      <th></th>\n",
       "      <th></th>\n",
       "      <th></th>\n",
       "      <th></th>\n",
       "    </tr>\n",
       "  </thead>\n",
       "  <tbody>\n",
       "    <tr>\n",
       "      <th>2020-02-19</th>\n",
       "      <td>NaN</td>\n",
       "      <td>100.00000</td>\n",
       "      <td>100.000000</td>\n",
       "      <td>100.000000</td>\n",
       "      <td>100.0000</td>\n",
       "      <td>NaN</td>\n",
       "      <td>NaN</td>\n",
       "      <td>NaN</td>\n",
       "      <td>NaN</td>\n",
       "      <td>NaN</td>\n",
       "      <td>NaN</td>\n",
       "      <td>Airports</td>\n",
       "    </tr>\n",
       "    <tr>\n",
       "      <th>2020-02-20</th>\n",
       "      <td>NaN</td>\n",
       "      <td>99.08446</td>\n",
       "      <td>99.149526</td>\n",
       "      <td>99.094944</td>\n",
       "      <td>97.9394</td>\n",
       "      <td>NaN</td>\n",
       "      <td>NaN</td>\n",
       "      <td>NaN</td>\n",
       "      <td>NaN</td>\n",
       "      <td>NaN</td>\n",
       "      <td>NaN</td>\n",
       "      <td>Airports</td>\n",
       "    </tr>\n",
       "  </tbody>\n",
       "</table>\n",
       "</div>"
      ],
      "text/plain": [
       "            *Insufficient  Los Angeles    National    New York  \\\n",
       "                                                                 \n",
       "2020-02-19            NaN    100.00000  100.000000  100.000000   \n",
       "2020-02-20            NaN     99.08446   99.149526   99.094944   \n",
       "\n",
       "            SanFrancisco-Oakland-SanJose  Seattle-Tacoma  Unnamed: 2  \\\n",
       "                                                                       \n",
       "2020-02-19                      100.0000             NaN         NaN   \n",
       "2020-02-20                       97.9394             NaN         NaN   \n",
       "\n",
       "            Unnamed: 3  Unnamed: 4  Unnamed: 5  Unnamed: 6     class  \n",
       "                                                                      \n",
       "2020-02-19         NaN         NaN         NaN         NaN  Airports  \n",
       "2020-02-20         NaN         NaN         NaN         NaN  Airports  "
      ]
     },
     "execution_count": 7,
     "metadata": {},
     "output_type": "execute_result"
    }
   ],
   "source": [
    "df_cities.head(2)"
   ]
  },
  {
   "cell_type": "code",
   "execution_count": 8,
   "metadata": {},
   "outputs": [
    {
     "name": "stdout",
     "output_type": "stream",
     "text": [
      "<class 'pandas.core.frame.DataFrame'>\n",
      "DatetimeIndex: 8004 entries, 2020-02-19 to 2020-11-20\n",
      "Data columns (total 12 columns):\n",
      "*Insufficient                   0 non-null float64\n",
      "Los Angeles                     5773 non-null float64\n",
      "National                        8004 non-null float64\n",
      "New York                        6169 non-null float64\n",
      "SanFrancisco-Oakland-SanJose    3336 non-null float64\n",
      "Seattle-Tacoma                  2759 non-null float64\n",
      "Unnamed: 2                      0 non-null float64\n",
      "Unnamed: 3                      0 non-null float64\n",
      "Unnamed: 4                      0 non-null float64\n",
      "Unnamed: 5                      0 non-null float64\n",
      "Unnamed: 6                      0 non-null float64\n",
      "class                           8004 non-null object\n",
      "dtypes: float64(11), object(1)\n",
      "memory usage: 812.9+ KB\n"
     ]
    }
   ],
   "source": [
    "df_cities.info()"
   ]
  },
  {
   "cell_type": "markdown",
   "metadata": {},
   "source": [
    "Delete columns with all missing values:"
   ]
  },
  {
   "cell_type": "code",
   "execution_count": 9,
   "metadata": {},
   "outputs": [],
   "source": [
    "df_cities.dropna(axis=1, how='all', inplace=True)"
   ]
  },
  {
   "cell_type": "code",
   "execution_count": 10,
   "metadata": {},
   "outputs": [
    {
     "name": "stdout",
     "output_type": "stream",
     "text": [
      "<class 'pandas.core.frame.DataFrame'>\n",
      "DatetimeIndex: 8004 entries, 2020-02-19 to 2020-11-20\n",
      "Data columns (total 6 columns):\n",
      "Los Angeles                     5773 non-null float64\n",
      "National                        8004 non-null float64\n",
      "New York                        6169 non-null float64\n",
      "SanFrancisco-Oakland-SanJose    3336 non-null float64\n",
      "Seattle-Tacoma                  2759 non-null float64\n",
      "class                           8004 non-null object\n",
      "dtypes: float64(5), object(1)\n",
      "memory usage: 437.7+ KB\n"
     ]
    }
   ],
   "source": [
    "df_cities.info()"
   ]
  },
  {
   "cell_type": "code",
   "execution_count": 11,
   "metadata": {},
   "outputs": [
    {
     "data": {
      "text/plain": [
       "Los Angeles                     27.873563\n",
       "National                         0.000000\n",
       "New York                        22.926037\n",
       "SanFrancisco-Oakland-SanJose    58.320840\n",
       "Seattle-Tacoma                  65.529735\n",
       "class                            0.000000\n",
       "dtype: float64"
      ]
     },
     "execution_count": 11,
     "metadata": {},
     "output_type": "execute_result"
    }
   ],
   "source": [
    "data_cleaning_methods.percent_missing(df_cities)"
   ]
  },
  {
   "cell_type": "markdown",
   "metadata": {},
   "source": [
    "The cities with less missing values are Los Angeles and New York. As opposite, Seattle has 65.5% of missing data. On a granular level, grouping by class, the information aboout indexed foot traffic in Fast Food Restaurants is complete nationally and across all the cities, but the casual dining are incomplete.  "
   ]
  },
  {
   "cell_type": "code",
   "execution_count": 12,
   "metadata": {},
   "outputs": [
    {
     "data": {
      "text/html": [
       "<div>\n",
       "<style scoped>\n",
       "    .dataframe tbody tr th:only-of-type {\n",
       "        vertical-align: middle;\n",
       "    }\n",
       "\n",
       "    .dataframe tbody tr th {\n",
       "        vertical-align: top;\n",
       "    }\n",
       "\n",
       "    .dataframe thead th {\n",
       "        text-align: right;\n",
       "    }\n",
       "</style>\n",
       "<table border=\"1\" class=\"dataframe\">\n",
       "  <thead>\n",
       "    <tr style=\"text-align: right;\">\n",
       "      <th></th>\n",
       "      <th>Los Angeles</th>\n",
       "      <th>National</th>\n",
       "      <th>New York</th>\n",
       "      <th>SanFrancisco-Oakland-SanJose</th>\n",
       "      <th>Seattle-Tacoma</th>\n",
       "    </tr>\n",
       "    <tr>\n",
       "      <th>class</th>\n",
       "      <th></th>\n",
       "      <th></th>\n",
       "      <th></th>\n",
       "      <th></th>\n",
       "      <th></th>\n",
       "    </tr>\n",
       "  </thead>\n",
       "  <tbody>\n",
       "    <tr>\n",
       "      <th>Airports</th>\n",
       "      <td>276</td>\n",
       "      <td>276</td>\n",
       "      <td>276</td>\n",
       "      <td>276</td>\n",
       "      <td>0</td>\n",
       "    </tr>\n",
       "    <tr>\n",
       "      <th>Auto Dealerships</th>\n",
       "      <td>0</td>\n",
       "      <td>276</td>\n",
       "      <td>0</td>\n",
       "      <td>0</td>\n",
       "      <td>0</td>\n",
       "    </tr>\n",
       "    <tr>\n",
       "      <th>Auto Shops</th>\n",
       "      <td>276</td>\n",
       "      <td>276</td>\n",
       "      <td>276</td>\n",
       "      <td>0</td>\n",
       "      <td>0</td>\n",
       "    </tr>\n",
       "    <tr>\n",
       "      <th>Banks</th>\n",
       "      <td>276</td>\n",
       "      <td>276</td>\n",
       "      <td>276</td>\n",
       "      <td>38</td>\n",
       "      <td>38</td>\n",
       "    </tr>\n",
       "    <tr>\n",
       "      <th>Bars</th>\n",
       "      <td>276</td>\n",
       "      <td>276</td>\n",
       "      <td>276</td>\n",
       "      <td>276</td>\n",
       "      <td>276</td>\n",
       "    </tr>\n",
       "    <tr>\n",
       "      <th>Big Box Stores</th>\n",
       "      <td>276</td>\n",
       "      <td>276</td>\n",
       "      <td>276</td>\n",
       "      <td>38</td>\n",
       "      <td>38</td>\n",
       "    </tr>\n",
       "    <tr>\n",
       "      <th>Casual Dining Chains</th>\n",
       "      <td>80</td>\n",
       "      <td>276</td>\n",
       "      <td>59</td>\n",
       "      <td>38</td>\n",
       "      <td>38</td>\n",
       "    </tr>\n",
       "    <tr>\n",
       "      <th>Clothing Stores</th>\n",
       "      <td>276</td>\n",
       "      <td>276</td>\n",
       "      <td>276</td>\n",
       "      <td>38</td>\n",
       "      <td>38</td>\n",
       "    </tr>\n",
       "    <tr>\n",
       "      <th>Convenience Store</th>\n",
       "      <td>276</td>\n",
       "      <td>276</td>\n",
       "      <td>276</td>\n",
       "      <td>276</td>\n",
       "      <td>276</td>\n",
       "    </tr>\n",
       "    <tr>\n",
       "      <th>Discount Stores</th>\n",
       "      <td>276</td>\n",
       "      <td>276</td>\n",
       "      <td>276</td>\n",
       "      <td>185</td>\n",
       "      <td>185</td>\n",
       "    </tr>\n",
       "    <tr>\n",
       "      <th>Drugstores &amp; Pharmacies</th>\n",
       "      <td>276</td>\n",
       "      <td>276</td>\n",
       "      <td>276</td>\n",
       "      <td>0</td>\n",
       "      <td>0</td>\n",
       "    </tr>\n",
       "    <tr>\n",
       "      <th>Fast Food</th>\n",
       "      <td>276</td>\n",
       "      <td>276</td>\n",
       "      <td>276</td>\n",
       "      <td>276</td>\n",
       "      <td>276</td>\n",
       "    </tr>\n",
       "    <tr>\n",
       "      <th>Furniture Stores</th>\n",
       "      <td>45</td>\n",
       "      <td>276</td>\n",
       "      <td>276</td>\n",
       "      <td>73</td>\n",
       "      <td>52</td>\n",
       "    </tr>\n",
       "    <tr>\n",
       "      <th>Gas Stations</th>\n",
       "      <td>276</td>\n",
       "      <td>276</td>\n",
       "      <td>276</td>\n",
       "      <td>276</td>\n",
       "      <td>276</td>\n",
       "    </tr>\n",
       "    <tr>\n",
       "      <th>Grocery Stores</th>\n",
       "      <td>276</td>\n",
       "      <td>276</td>\n",
       "      <td>276</td>\n",
       "      <td>276</td>\n",
       "      <td>276</td>\n",
       "    </tr>\n",
       "    <tr>\n",
       "      <th>Gyms</th>\n",
       "      <td>276</td>\n",
       "      <td>276</td>\n",
       "      <td>276</td>\n",
       "      <td>276</td>\n",
       "      <td>45</td>\n",
       "    </tr>\n",
       "    <tr>\n",
       "      <th>Hardware Stores</th>\n",
       "      <td>276</td>\n",
       "      <td>276</td>\n",
       "      <td>276</td>\n",
       "      <td>38</td>\n",
       "      <td>220</td>\n",
       "    </tr>\n",
       "    <tr>\n",
       "      <th>Hotels</th>\n",
       "      <td>276</td>\n",
       "      <td>276</td>\n",
       "      <td>276</td>\n",
       "      <td>52</td>\n",
       "      <td>38</td>\n",
       "    </tr>\n",
       "    <tr>\n",
       "      <th>Liquor Stores</th>\n",
       "      <td>38</td>\n",
       "      <td>276</td>\n",
       "      <td>276</td>\n",
       "      <td>38</td>\n",
       "      <td>38</td>\n",
       "    </tr>\n",
       "    <tr>\n",
       "      <th>Movie Theaters</th>\n",
       "      <td>38</td>\n",
       "      <td>276</td>\n",
       "      <td>38</td>\n",
       "      <td>0</td>\n",
       "      <td>0</td>\n",
       "    </tr>\n",
       "    <tr>\n",
       "      <th>Nail Salons</th>\n",
       "      <td>0</td>\n",
       "      <td>276</td>\n",
       "      <td>0</td>\n",
       "      <td>0</td>\n",
       "      <td>0</td>\n",
       "    </tr>\n",
       "    <tr>\n",
       "      <th>Offices</th>\n",
       "      <td>276</td>\n",
       "      <td>276</td>\n",
       "      <td>276</td>\n",
       "      <td>276</td>\n",
       "      <td>276</td>\n",
       "    </tr>\n",
       "    <tr>\n",
       "      <th>Parks</th>\n",
       "      <td>276</td>\n",
       "      <td>276</td>\n",
       "      <td>276</td>\n",
       "      <td>276</td>\n",
       "      <td>276</td>\n",
       "    </tr>\n",
       "    <tr>\n",
       "      <th>Pet Stores</th>\n",
       "      <td>0</td>\n",
       "      <td>276</td>\n",
       "      <td>0</td>\n",
       "      <td>0</td>\n",
       "      <td>0</td>\n",
       "    </tr>\n",
       "    <tr>\n",
       "      <th>SalonsBarbershops</th>\n",
       "      <td>52</td>\n",
       "      <td>276</td>\n",
       "      <td>276</td>\n",
       "      <td>0</td>\n",
       "      <td>0</td>\n",
       "    </tr>\n",
       "    <tr>\n",
       "      <th>Shopping Malls</th>\n",
       "      <td>276</td>\n",
       "      <td>276</td>\n",
       "      <td>276</td>\n",
       "      <td>276</td>\n",
       "      <td>59</td>\n",
       "    </tr>\n",
       "    <tr>\n",
       "      <th>Trails</th>\n",
       "      <td>276</td>\n",
       "      <td>276</td>\n",
       "      <td>0</td>\n",
       "      <td>0</td>\n",
       "      <td>0</td>\n",
       "    </tr>\n",
       "    <tr>\n",
       "      <th>Warehouse Stores</th>\n",
       "      <td>276</td>\n",
       "      <td>276</td>\n",
       "      <td>276</td>\n",
       "      <td>38</td>\n",
       "      <td>38</td>\n",
       "    </tr>\n",
       "    <tr>\n",
       "      <th>Wireless Carriers</th>\n",
       "      <td>0</td>\n",
       "      <td>276</td>\n",
       "      <td>0</td>\n",
       "      <td>0</td>\n",
       "      <td>0</td>\n",
       "    </tr>\n",
       "  </tbody>\n",
       "</table>\n",
       "</div>"
      ],
      "text/plain": [
       "                         Los Angeles  National  New York  \\\n",
       "class                                                      \n",
       "Airports                         276       276       276   \n",
       "Auto Dealerships                   0       276         0   \n",
       "Auto Shops                       276       276       276   \n",
       "Banks                            276       276       276   \n",
       "Bars                             276       276       276   \n",
       "Big Box Stores                   276       276       276   \n",
       "Casual Dining Chains              80       276        59   \n",
       "Clothing Stores                  276       276       276   \n",
       "Convenience Store                276       276       276   \n",
       "Discount Stores                  276       276       276   \n",
       "Drugstores & Pharmacies          276       276       276   \n",
       "Fast Food                        276       276       276   \n",
       "Furniture Stores                  45       276       276   \n",
       "Gas Stations                     276       276       276   \n",
       "Grocery Stores                   276       276       276   \n",
       "Gyms                             276       276       276   \n",
       "Hardware Stores                  276       276       276   \n",
       "Hotels                           276       276       276   \n",
       "Liquor Stores                     38       276       276   \n",
       "Movie Theaters                    38       276        38   \n",
       "Nail Salons                        0       276         0   \n",
       "Offices                          276       276       276   \n",
       "Parks                            276       276       276   \n",
       "Pet Stores                         0       276         0   \n",
       "SalonsBarbershops                 52       276       276   \n",
       "Shopping Malls                   276       276       276   \n",
       "Trails                           276       276         0   \n",
       "Warehouse Stores                 276       276       276   \n",
       "Wireless Carriers                  0       276         0   \n",
       "\n",
       "                         SanFrancisco-Oakland-SanJose  Seattle-Tacoma  \n",
       "class                                                                  \n",
       "Airports                                          276               0  \n",
       "Auto Dealerships                                    0               0  \n",
       "Auto Shops                                          0               0  \n",
       "Banks                                              38              38  \n",
       "Bars                                              276             276  \n",
       "Big Box Stores                                     38              38  \n",
       "Casual Dining Chains                               38              38  \n",
       "Clothing Stores                                    38              38  \n",
       "Convenience Store                                 276             276  \n",
       "Discount Stores                                   185             185  \n",
       "Drugstores & Pharmacies                             0               0  \n",
       "Fast Food                                         276             276  \n",
       "Furniture Stores                                   73              52  \n",
       "Gas Stations                                      276             276  \n",
       "Grocery Stores                                    276             276  \n",
       "Gyms                                              276              45  \n",
       "Hardware Stores                                    38             220  \n",
       "Hotels                                             52              38  \n",
       "Liquor Stores                                      38              38  \n",
       "Movie Theaters                                      0               0  \n",
       "Nail Salons                                         0               0  \n",
       "Offices                                           276             276  \n",
       "Parks                                             276             276  \n",
       "Pet Stores                                          0               0  \n",
       "SalonsBarbershops                                   0               0  \n",
       "Shopping Malls                                    276              59  \n",
       "Trails                                              0               0  \n",
       "Warehouse Stores                                   38              38  \n",
       "Wireless Carriers                                   0               0  "
      ]
     },
     "execution_count": 12,
     "metadata": {},
     "output_type": "execute_result"
    }
   ],
   "source": [
    "df_cities.groupby('class').count()"
   ]
  },
  {
   "cell_type": "markdown",
   "metadata": {},
   "source": [
    "Inspecting the summary dataframe, we conclude that there is not missing values there."
   ]
  },
  {
   "cell_type": "code",
   "execution_count": 13,
   "metadata": {},
   "outputs": [
    {
     "name": "stdout",
     "output_type": "stream",
     "text": [
      "<class 'pandas.core.frame.DataFrame'>\n",
      "DatetimeIndex: 276 entries, 2020-02-19 to 2020-11-20\n",
      "Data columns (total 31 columns):\n",
      "Airports                     276 non-null float64\n",
      "Auto Dealerships             276 non-null float64\n",
      "Automotive Shops             276 non-null float64\n",
      "Banks                        276 non-null float64\n",
      "Bars                         276 non-null float64\n",
      "Big Box Stores               276 non-null float64\n",
      "Casual Dining                276 non-null float64\n",
      "Clothing Stores              276 non-null float64\n",
      "Convenience Stores           276 non-null float64\n",
      "Discount Stores              276 non-null float64\n",
      "Fast Food Restaurants        276 non-null float64\n",
      "Furniture / Home Stores      276 non-null float64\n",
      "Gas Stations                 276 non-null float64\n",
      "Grocery Stores               276 non-null float64\n",
      "Gyms or Fitness Centers      276 non-null float64\n",
      "Hardware Stores              276 non-null float64\n",
      "Hotels                       276 non-null float64\n",
      "Liquor Stores                276 non-null float64\n",
      "Movie Theaters               276 non-null float64\n",
      "Nail Salons                  276 non-null float64\n",
      "Offices                      276 non-null float64\n",
      "Parks                        276 non-null float64\n",
      "Pet Stores                   276 non-null float64\n",
      "Pharmacies and Drugstores    276 non-null float64\n",
      "Salons / Barbershops         276 non-null float64\n",
      "Shopping Malls               276 non-null float64\n",
      "Trails                       276 non-null float64\n",
      "Veterinarians                276 non-null float64\n",
      "Warehouse Stores             276 non-null float64\n",
      "Wireless Carriers            276 non-null float64\n",
      "class                        276 non-null object\n",
      "dtypes: float64(30), object(1)\n",
      "memory usage: 69.0+ KB\n"
     ]
    }
   ],
   "source": [
    "df_summary.info()"
   ]
  },
  {
   "cell_type": "markdown",
   "metadata": {},
   "source": [
    "### Regional level"
   ]
  },
  {
   "cell_type": "code",
   "execution_count": 14,
   "metadata": {},
   "outputs": [
    {
     "data": {
      "text/plain": [
       "['National Summary',\n",
       " 'Airports',\n",
       " 'Auto Dealerships',\n",
       " 'Auto Shops',\n",
       " 'Banks',\n",
       " 'Bars',\n",
       " 'Big Box Stores',\n",
       " 'Casual Dining Chains',\n",
       " 'Clothing Stores',\n",
       " 'Convenience Stores',\n",
       " 'Discount Stores',\n",
       " 'Drugstores & Pharmacies',\n",
       " 'Fast Food',\n",
       " 'Furniture Stores',\n",
       " 'Gas Stations',\n",
       " 'Grocery Stores',\n",
       " 'Gyms',\n",
       " 'Hardware Stores',\n",
       " 'Hotels',\n",
       " 'Liquor Stores',\n",
       " 'Movie Theaters',\n",
       " 'Nail Salons',\n",
       " 'Offices',\n",
       " 'Parks',\n",
       " 'Pet Stores',\n",
       " 'SalonsBarbers',\n",
       " 'Shopping Malls',\n",
       " 'Trails',\n",
       " 'Veterinarians',\n",
       " 'Warehouse Stores',\n",
       " 'Wireless Carriers']"
      ]
     },
     "execution_count": 14,
     "metadata": {},
     "output_type": "execute_result"
    }
   ],
   "source": [
    "xls_reg.sheet_names"
   ]
  },
  {
   "cell_type": "markdown",
   "metadata": {},
   "source": [
    "Since `National Summary` data sheets are the same in both list of sheets (`xls_reg` and `xls_dma`), we skip the `National Summary` sheet:"
   ]
  },
  {
   "cell_type": "code",
   "execution_count": 15,
   "metadata": {},
   "outputs": [],
   "source": [
    "df_region = pd.DataFrame()\n",
    "\n",
    "for sheet_name in xls_reg.sheet_names:\n",
    "    if sheet_name != 'National Summary':\n",
    "        temp = pd.read_excel(xls_reg, sheet_name=sheet_name, index_col=0)\n",
    "        for col in temp.columns:\n",
    "            for cat in list_categories:\n",
    "                if col.startswith(cat):\n",
    "                    temp.rename(columns={col:cat}, inplace=True)\n",
    "        temp['class'] = sheet_name\n",
    "        df_region = pd.concat([df_region, temp], sort=True)\n",
    "        \n",
    "#changing name of columns\n",
    "list_name = ['National', 'New York', 'Los Angeles', 'Seattle-Tacoma', 'SanFrancisco-Oakland-SanJose', '*Insufficient']\n",
    "for col in df_region.columns:\n",
    "    for name in list_name:\n",
    "        if name.startswith(col):\n",
    "            df_region.rename(columns={col:name}, inplace=True)"
   ]
  },
  {
   "cell_type": "code",
   "execution_count": 16,
   "metadata": {},
   "outputs": [
    {
     "name": "stdout",
     "output_type": "stream",
     "text": [
      "<class 'pandas.core.frame.DataFrame'>\n",
      "DatetimeIndex: 8280 entries, 2020-02-19 to 2020-11-20\n",
      "Data columns (total 7 columns):\n",
      "*Insufficient    0 non-null float64\n",
      "Midwest          8280 non-null float64\n",
      "Northeast        8004 non-null float64\n",
      "South            8280 non-null float64\n",
      "Unnamed: 5       0 non-null float64\n",
      "West             8077 non-null float64\n",
      "class            8280 non-null object\n",
      "dtypes: float64(6), object(1)\n",
      "memory usage: 517.5+ KB\n"
     ]
    }
   ],
   "source": [
    "df_region.info()"
   ]
  },
  {
   "cell_type": "code",
   "execution_count": 17,
   "metadata": {},
   "outputs": [],
   "source": [
    "df_region.dropna(axis=1, how='all', inplace=True)"
   ]
  },
  {
   "cell_type": "code",
   "execution_count": 18,
   "metadata": {},
   "outputs": [
    {
     "name": "stdout",
     "output_type": "stream",
     "text": [
      "<class 'pandas.core.frame.DataFrame'>\n",
      "DatetimeIndex: 8280 entries, 2020-02-19 to 2020-11-20\n",
      "Data columns (total 5 columns):\n",
      "Midwest      8280 non-null float64\n",
      "Northeast    8004 non-null float64\n",
      "South        8280 non-null float64\n",
      "West         8077 non-null float64\n",
      "class        8280 non-null object\n",
      "dtypes: float64(4), object(1)\n",
      "memory usage: 388.1+ KB\n"
     ]
    }
   ],
   "source": [
    "df_region.info()"
   ]
  },
  {
   "cell_type": "code",
   "execution_count": 19,
   "metadata": {},
   "outputs": [
    {
     "data": {
      "text/plain": [
       "Midwest      0.000000\n",
       "Northeast    3.333333\n",
       "South        0.000000\n",
       "West         2.451691\n",
       "class        0.000000\n",
       "dtype: float64"
      ]
     },
     "execution_count": 19,
     "metadata": {},
     "output_type": "execute_result"
    }
   ],
   "source": [
    "data_cleaning_methods.percent_missing(df_region)"
   ]
  },
  {
   "cell_type": "markdown",
   "metadata": {},
   "source": [
    "The regional level has two columns with incomplete data lower than 3.3%."
   ]
  },
  {
   "cell_type": "markdown",
   "metadata": {},
   "source": [
    "Finally, saving the dataframes as csv in the interim folder, "
   ]
  },
  {
   "cell_type": "code",
   "execution_count": 20,
   "metadata": {},
   "outputs": [],
   "source": [
    "df_cities.to_csv('../../data/interim/mobility/foursquare_dma.csv')\n",
    "df_summary.to_csv('../../data/interim/mobility/foursquare_national.csv')\n",
    "df_region.to_csv('../../data/interim/mobility/foursquare_regional.csv')"
   ]
  }
 ],
 "metadata": {
  "kernelspec": {
   "display_name": "Python 3",
   "language": "python",
   "name": "python3"
  },
  "language_info": {
   "codemirror_mode": {
    "name": "ipython",
    "version": 3
   },
   "file_extension": ".py",
   "mimetype": "text/x-python",
   "name": "python",
   "nbconvert_exporter": "python",
   "pygments_lexer": "ipython3",
   "version": "3.6.7"
  }
 },
 "nbformat": 4,
 "nbformat_minor": 2
}
